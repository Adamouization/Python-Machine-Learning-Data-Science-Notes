{
 "cells": [
  {
   "cell_type": "markdown",
   "metadata": {},
   "source": [
    "# Notes on Pandas Python Library\n",
    "\n",
    "#### Author: Adam Jaamour\n",
    "#### 07/10/2020"
   ]
  },
  {
   "cell_type": "markdown",
   "metadata": {},
   "source": [
    "https://www.kaggle.com/learn/pandas"
   ]
  },
  {
   "cell_type": "code",
   "execution_count": 1,
   "metadata": {},
   "outputs": [],
   "source": [
    "import pandas as pd"
   ]
  },
  {
   "cell_type": "markdown",
   "metadata": {},
   "source": [
    "# Creating, Reading and Writing"
   ]
  },
  {
   "cell_type": "markdown",
   "metadata": {},
   "source": [
    "## Dataframe"
   ]
  },
  {
   "cell_type": "markdown",
   "metadata": {},
   "source": [
    "A DataFrame is a table. It contains an array of individual entries, each of which has a certain value. DataFrame entries are not limited to integers (can be strings, as seen below)."
   ]
  },
  {
   "cell_type": "code",
   "execution_count": 2,
   "metadata": {},
   "outputs": [
    {
     "data": {
      "text/html": [
       "<div>\n",
       "<style scoped>\n",
       "    .dataframe tbody tr th:only-of-type {\n",
       "        vertical-align: middle;\n",
       "    }\n",
       "\n",
       "    .dataframe tbody tr th {\n",
       "        vertical-align: top;\n",
       "    }\n",
       "\n",
       "    .dataframe thead th {\n",
       "        text-align: right;\n",
       "    }\n",
       "</style>\n",
       "<table border=\"1\" class=\"dataframe\">\n",
       "  <thead>\n",
       "    <tr style=\"text-align: right;\">\n",
       "      <th></th>\n",
       "      <th>Bob</th>\n",
       "      <th>Sue</th>\n",
       "    </tr>\n",
       "  </thead>\n",
       "  <tbody>\n",
       "    <tr>\n",
       "      <th>0</th>\n",
       "      <td>I liked it.</td>\n",
       "      <td>Pretty good.</td>\n",
       "    </tr>\n",
       "    <tr>\n",
       "      <th>1</th>\n",
       "      <td>It was awful.</td>\n",
       "      <td>Bland.</td>\n",
       "    </tr>\n",
       "  </tbody>\n",
       "</table>\n",
       "</div>"
      ],
      "text/plain": [
       "             Bob           Sue\n",
       "0    I liked it.  Pretty good.\n",
       "1  It was awful.        Bland."
      ]
     },
     "execution_count": 2,
     "metadata": {},
     "output_type": "execute_result"
    }
   ],
   "source": [
    "pd.DataFrame({\n",
    "    'Bob': ['I liked it.', 'It was awful.'], \n",
    "    'Sue': ['Pretty good.', 'Bland.']\n",
    "})"
   ]
  },
  {
   "cell_type": "markdown",
   "metadata": {},
   "source": [
    "* Columns: dictionary-list constructor assigns values to the column labels\n",
    "* Rows: ascending count from 0 (0, 1, 2, 3, ...) for the row labels\n",
    "\n",
    "Can specify index:"
   ]
  },
  {
   "cell_type": "code",
   "execution_count": 3,
   "metadata": {},
   "outputs": [
    {
     "data": {
      "text/html": [
       "<div>\n",
       "<style scoped>\n",
       "    .dataframe tbody tr th:only-of-type {\n",
       "        vertical-align: middle;\n",
       "    }\n",
       "\n",
       "    .dataframe tbody tr th {\n",
       "        vertical-align: top;\n",
       "    }\n",
       "\n",
       "    .dataframe thead th {\n",
       "        text-align: right;\n",
       "    }\n",
       "</style>\n",
       "<table border=\"1\" class=\"dataframe\">\n",
       "  <thead>\n",
       "    <tr style=\"text-align: right;\">\n",
       "      <th></th>\n",
       "      <th>Bob</th>\n",
       "      <th>Sue</th>\n",
       "    </tr>\n",
       "  </thead>\n",
       "  <tbody>\n",
       "    <tr>\n",
       "      <th>Product A</th>\n",
       "      <td>I liked it.</td>\n",
       "      <td>Pretty good.</td>\n",
       "    </tr>\n",
       "    <tr>\n",
       "      <th>Product B</th>\n",
       "      <td>It was awful.</td>\n",
       "      <td>Bland.</td>\n",
       "    </tr>\n",
       "  </tbody>\n",
       "</table>\n",
       "</div>"
      ],
      "text/plain": [
       "                     Bob           Sue\n",
       "Product A    I liked it.  Pretty good.\n",
       "Product B  It was awful.        Bland."
      ]
     },
     "execution_count": 3,
     "metadata": {},
     "output_type": "execute_result"
    }
   ],
   "source": [
    "pd.DataFrame({\n",
    "    'Bob': ['I liked it.', 'It was awful.'], \n",
    "    'Sue': ['Pretty good.', 'Bland.']\n",
    "}, index=[\"Product A\", \"Product B\"])"
   ]
  },
  {
   "cell_type": "markdown",
   "metadata": {},
   "source": [
    "## Series"
   ]
  },
  {
   "cell_type": "markdown",
   "metadata": {},
   "source": [
    "A Series is a sequence of data values. If a DataFrame is a **table**, a Series is a **list**. "
   ]
  },
  {
   "cell_type": "code",
   "execution_count": 4,
   "metadata": {},
   "outputs": [
    {
     "data": {
      "text/plain": [
       "0    1\n",
       "1    2\n",
       "2    3\n",
       "3    4\n",
       "4    5\n",
       "dtype: int64"
      ]
     },
     "execution_count": 4,
     "metadata": {},
     "output_type": "execute_result"
    }
   ],
   "source": [
    "pd.Series([1, 2, 3, 4, 5])"
   ]
  },
  {
   "cell_type": "markdown",
   "metadata": {},
   "source": [
    "A Series is a single column of a DataFrame: can assign column values to the Series using an index parameter. However, a Series does not have a column name, it only has one overall name."
   ]
  },
  {
   "cell_type": "code",
   "execution_count": 5,
   "metadata": {},
   "outputs": [
    {
     "data": {
      "text/plain": [
       "A     0\n",
       "B     1\n",
       "C     1\n",
       "D     2\n",
       "E     3\n",
       "F     5\n",
       "G     8\n",
       "H    13\n",
       "I    21\n",
       "Name: Fibonacci, dtype: int64"
      ]
     },
     "execution_count": 5,
     "metadata": {},
     "output_type": "execute_result"
    }
   ],
   "source": [
    "pd.Series([0, 1, 1, 2, 3, 5, 8, 13, 21], index=[\"A\", \"B\", \"C\", \"D\", \"E\", \"F\", \"G\", \"H\", \"I\"], name=\"Fibonacci\")"
   ]
  },
  {
   "cell_type": "markdown",
   "metadata": {},
   "source": [
    "==> think of a DataFrame as actually being just a bunch of Series \"glued together\""
   ]
  },
  {
   "cell_type": "markdown",
   "metadata": {},
   "source": [
    "## Reading"
   ]
  },
  {
   "cell_type": "markdown",
   "metadata": {},
   "source": [
    "CSV files may have a built-in index, which pandas does not pick up on automatically. Can make pandas use that column for the index (instead of creating a new one from scratch):"
   ]
  },
  {
   "cell_type": "code",
   "execution_count": 6,
   "metadata": {},
   "outputs": [
    {
     "data": {
      "text/html": [
       "<div>\n",
       "<style scoped>\n",
       "    .dataframe tbody tr th:only-of-type {\n",
       "        vertical-align: middle;\n",
       "    }\n",
       "\n",
       "    .dataframe tbody tr th {\n",
       "        vertical-align: top;\n",
       "    }\n",
       "\n",
       "    .dataframe thead th {\n",
       "        text-align: right;\n",
       "    }\n",
       "</style>\n",
       "<table border=\"1\" class=\"dataframe\">\n",
       "  <thead>\n",
       "    <tr style=\"text-align: right;\">\n",
       "      <th></th>\n",
       "      <th>Unnamed: 0</th>\n",
       "      <th>Unnamed: 0.1</th>\n",
       "      <th>Company Name</th>\n",
       "      <th>Location</th>\n",
       "      <th>Datum</th>\n",
       "      <th>Detail</th>\n",
       "      <th>Status Rocket</th>\n",
       "      <th>Rocket</th>\n",
       "      <th>Status Mission</th>\n",
       "    </tr>\n",
       "  </thead>\n",
       "  <tbody>\n",
       "    <tr>\n",
       "      <th>0</th>\n",
       "      <td>0</td>\n",
       "      <td>0</td>\n",
       "      <td>SpaceX</td>\n",
       "      <td>LC-39A, Kennedy Space Center, Florida, USA</td>\n",
       "      <td>Fri Aug 07, 2020 05:12 UTC</td>\n",
       "      <td>Falcon 9 Block 5 | Starlink V1 L9 &amp; BlackSky</td>\n",
       "      <td>StatusActive</td>\n",
       "      <td>50.00</td>\n",
       "      <td>Success</td>\n",
       "    </tr>\n",
       "    <tr>\n",
       "      <th>1</th>\n",
       "      <td>1</td>\n",
       "      <td>1</td>\n",
       "      <td>CASC</td>\n",
       "      <td>Site 9401 (SLS-2), Jiuquan Satellite Launch Ce...</td>\n",
       "      <td>Thu Aug 06, 2020 04:01 UTC</td>\n",
       "      <td>Long March 2D | Gaofen-9 04 &amp; Q-SAT</td>\n",
       "      <td>StatusActive</td>\n",
       "      <td>29.75</td>\n",
       "      <td>Success</td>\n",
       "    </tr>\n",
       "  </tbody>\n",
       "</table>\n",
       "</div>"
      ],
      "text/plain": [
       "   Unnamed: 0  Unnamed: 0.1 Company Name  \\\n",
       "0           0             0       SpaceX   \n",
       "1           1             1         CASC   \n",
       "\n",
       "                                            Location  \\\n",
       "0         LC-39A, Kennedy Space Center, Florida, USA   \n",
       "1  Site 9401 (SLS-2), Jiuquan Satellite Launch Ce...   \n",
       "\n",
       "                        Datum                                        Detail  \\\n",
       "0  Fri Aug 07, 2020 05:12 UTC  Falcon 9 Block 5 | Starlink V1 L9 & BlackSky   \n",
       "1  Thu Aug 06, 2020 04:01 UTC           Long March 2D | Gaofen-9 04 & Q-SAT   \n",
       "\n",
       "  Status Rocket   Rocket Status Mission  \n",
       "0  StatusActive    50.00        Success  \n",
       "1  StatusActive    29.75        Success  "
      ]
     },
     "execution_count": 6,
     "metadata": {},
     "output_type": "execute_result"
    }
   ],
   "source": [
    "# Not using index_col\n",
    "df = pd.read_csv(\"data/space-missions/Space_Corrected.csv\")\n",
    "df.loc[0:1, :]"
   ]
  },
  {
   "cell_type": "code",
   "execution_count": 7,
   "metadata": {},
   "outputs": [
    {
     "data": {
      "text/html": [
       "<div>\n",
       "<style scoped>\n",
       "    .dataframe tbody tr th:only-of-type {\n",
       "        vertical-align: middle;\n",
       "    }\n",
       "\n",
       "    .dataframe tbody tr th {\n",
       "        vertical-align: top;\n",
       "    }\n",
       "\n",
       "    .dataframe thead th {\n",
       "        text-align: right;\n",
       "    }\n",
       "</style>\n",
       "<table border=\"1\" class=\"dataframe\">\n",
       "  <thead>\n",
       "    <tr style=\"text-align: right;\">\n",
       "      <th></th>\n",
       "      <th>Unnamed: 0.1</th>\n",
       "      <th>Company Name</th>\n",
       "      <th>Location</th>\n",
       "      <th>Datum</th>\n",
       "      <th>Detail</th>\n",
       "      <th>Status Rocket</th>\n",
       "      <th>Rocket</th>\n",
       "      <th>Status Mission</th>\n",
       "    </tr>\n",
       "  </thead>\n",
       "  <tbody>\n",
       "    <tr>\n",
       "      <th>0</th>\n",
       "      <td>0</td>\n",
       "      <td>SpaceX</td>\n",
       "      <td>LC-39A, Kennedy Space Center, Florida, USA</td>\n",
       "      <td>Fri Aug 07, 2020 05:12 UTC</td>\n",
       "      <td>Falcon 9 Block 5 | Starlink V1 L9 &amp; BlackSky</td>\n",
       "      <td>StatusActive</td>\n",
       "      <td>50.00</td>\n",
       "      <td>Success</td>\n",
       "    </tr>\n",
       "    <tr>\n",
       "      <th>1</th>\n",
       "      <td>1</td>\n",
       "      <td>CASC</td>\n",
       "      <td>Site 9401 (SLS-2), Jiuquan Satellite Launch Ce...</td>\n",
       "      <td>Thu Aug 06, 2020 04:01 UTC</td>\n",
       "      <td>Long March 2D | Gaofen-9 04 &amp; Q-SAT</td>\n",
       "      <td>StatusActive</td>\n",
       "      <td>29.75</td>\n",
       "      <td>Success</td>\n",
       "    </tr>\n",
       "  </tbody>\n",
       "</table>\n",
       "</div>"
      ],
      "text/plain": [
       "   Unnamed: 0.1 Company Name  \\\n",
       "0             0       SpaceX   \n",
       "1             1         CASC   \n",
       "\n",
       "                                            Location  \\\n",
       "0         LC-39A, Kennedy Space Center, Florida, USA   \n",
       "1  Site 9401 (SLS-2), Jiuquan Satellite Launch Ce...   \n",
       "\n",
       "                        Datum                                        Detail  \\\n",
       "0  Fri Aug 07, 2020 05:12 UTC  Falcon 9 Block 5 | Starlink V1 L9 & BlackSky   \n",
       "1  Thu Aug 06, 2020 04:01 UTC           Long March 2D | Gaofen-9 04 & Q-SAT   \n",
       "\n",
       "  Status Rocket   Rocket Status Mission  \n",
       "0  StatusActive    50.00        Success  \n",
       "1  StatusActive    29.75        Success  "
      ]
     },
     "execution_count": 7,
     "metadata": {},
     "output_type": "execute_result"
    }
   ],
   "source": [
    "# Using index_col\n",
    "df = pd.read_csv(\"data/space-missions/Space_Corrected.csv\", index_col=0)\n",
    "df.loc[0:1, :]"
   ]
  },
  {
   "cell_type": "markdown",
   "metadata": {},
   "source": [
    "# Indexing, Selecting and Assigning"
   ]
  },
  {
   "cell_type": "markdown",
   "metadata": {},
   "source": [
    "## Accessing"
   ]
  },
  {
   "cell_type": "markdown",
   "metadata": {},
   "source": [
    "Can access in similar way to Python objects e.g. access Location property of dataframe:"
   ]
  },
  {
   "cell_type": "code",
   "execution_count": 8,
   "metadata": {},
   "outputs": [
    {
     "data": {
      "text/plain": [
       "'LC-39A, Kennedy Space Center, Florida, USA'"
      ]
     },
     "execution_count": 8,
     "metadata": {},
     "output_type": "execute_result"
    }
   ],
   "source": [
    "df.Location[0]"
   ]
  },
  {
   "cell_type": "code",
   "execution_count": 9,
   "metadata": {},
   "outputs": [
    {
     "data": {
      "text/plain": [
       "'LC-39A, Kennedy Space Center, Florida, USA'"
      ]
     },
     "execution_count": 9,
     "metadata": {},
     "output_type": "execute_result"
    }
   ],
   "source": [
    "# can also use the indexing ([]) operator. \n",
    "df[\"Location\"][0]"
   ]
  },
  {
   "cell_type": "markdown",
   "metadata": {},
   "source": [
    "## Indexing"
   ]
  },
  {
   "cell_type": "markdown",
   "metadata": {},
   "source": [
    "Pandas has its own accessor operators:\n",
    "* Index-based selection : `iloc` (selecting data based on its numerical position in the data)\n",
    "* Label-based selection: `loc` (it's the data index value, not its position, which matters)\n",
    "\n",
    "`iloc` is conceptually simpler than `loc` because it ignores the dataset's indices. When we use `iloc` we treat the dataset like a big matrix (a list of lists), one that we have to index into by position. `loc`, by contrast, uses the information in the indices to do its work. Since your dataset usually has meaningful indices, it's usually easier to do things using `loc` instead.\n",
    "\n",
    "(both are row first, column second)"
   ]
  },
  {
   "cell_type": "markdown",
   "metadata": {},
   "source": [
    "### Index-based"
   ]
  },
  {
   "cell_type": "code",
   "execution_count": 10,
   "metadata": {},
   "outputs": [
    {
     "data": {
      "text/plain": [
       "Unnamed: 0.1                                                 0\n",
       "Company Name                                            SpaceX\n",
       "Location            LC-39A, Kennedy Space Center, Florida, USA\n",
       "Datum                               Fri Aug 07, 2020 05:12 UTC\n",
       "Detail            Falcon 9 Block 5 | Starlink V1 L9 & BlackSky\n",
       "Status Rocket                                     StatusActive\n",
       " Rocket                                                     50\n",
       "Status Mission                                         Success\n",
       "Name: 0, dtype: object"
      ]
     },
     "execution_count": 10,
     "metadata": {},
     "output_type": "execute_result"
    }
   ],
   "source": [
    "# select first row in df\n",
    "df.iloc[0]"
   ]
  },
  {
   "cell_type": "markdown",
   "metadata": {},
   "source": [
    "On its own, '*:*' operator means everything. With values, indicates a range."
   ]
  },
  {
   "cell_type": "code",
   "execution_count": 11,
   "metadata": {},
   "outputs": [
    {
     "data": {
      "text/plain": [
       "0       Success\n",
       "1       Success\n",
       "2       Success\n",
       "3       Success\n",
       "4       Success\n",
       "         ...   \n",
       "4319    Failure\n",
       "4320    Success\n",
       "4321    Failure\n",
       "4322    Success\n",
       "4323    Success\n",
       "Name: Status Mission, Length: 4324, dtype: object"
      ]
     },
     "execution_count": 11,
     "metadata": {},
     "output_type": "execute_result"
    }
   ],
   "source": [
    "# select last column in df\n",
    "df.iloc[:, -1]"
   ]
  },
  {
   "cell_type": "code",
   "execution_count": 12,
   "metadata": {},
   "outputs": [
    {
     "data": {
      "text/plain": [
       "0    SpaceX\n",
       "1      CASC\n",
       "2    SpaceX\n",
       "Name: Company Name, dtype: object"
      ]
     },
     "execution_count": 12,
     "metadata": {},
     "output_type": "execute_result"
    }
   ],
   "source": [
    "# select second column of first three rows\n",
    "df.iloc[:3, 1]\n",
    "# or can pass a list\n",
    "df.iloc[[0,1,2], 1]"
   ]
  },
  {
   "cell_type": "code",
   "execution_count": 13,
   "metadata": {},
   "outputs": [
    {
     "data": {
      "text/plain": [
       "1      CASC\n",
       "2    SpaceX\n",
       "Name: Company Name, dtype: object"
      ]
     },
     "execution_count": 13,
     "metadata": {},
     "output_type": "execute_result"
    }
   ],
   "source": [
    "# select second and third entries only\n",
    "df.iloc[1:3, 1]"
   ]
  },
  {
   "cell_type": "markdown",
   "metadata": {},
   "source": [
    "Can use negative numbers to start from back:"
   ]
  },
  {
   "cell_type": "code",
   "execution_count": 14,
   "metadata": {},
   "outputs": [
    {
     "data": {
      "text/plain": [
       "4321      US Navy\n",
       "4322    RVSN USSR\n",
       "4323    RVSN USSR\n",
       "Name: Company Name, dtype: object"
      ]
     },
     "execution_count": 14,
     "metadata": {},
     "output_type": "execute_result"
    }
   ],
   "source": [
    "# select last 3 elements\n",
    "df.iloc[-3:, 1]"
   ]
  },
  {
   "cell_type": "markdown",
   "metadata": {},
   "source": [
    "### Label-based"
   ]
  },
  {
   "cell_type": "code",
   "execution_count": 15,
   "metadata": {},
   "outputs": [
    {
     "data": {
      "text/plain": [
       "0    Falcon 9 Block 5 | Starlink V1 L9 & BlackSky\n",
       "1             Long March 2D | Gaofen-9 04 & Q-SAT\n",
       "2              Starship Prototype | 150 Meter Hop\n",
       "3    Proton-M/Briz-M | Ekspress-80 & Ekspress-103\n",
       "Name: Detail, dtype: object"
      ]
     },
     "execution_count": 15,
     "metadata": {},
     "output_type": "execute_result"
    }
   ],
   "source": [
    "# select first 3 launch details using label\n",
    "df.loc[:3, \"Detail\"]"
   ]
  },
  {
   "cell_type": "code",
   "execution_count": 16,
   "metadata": {},
   "outputs": [
    {
     "data": {
      "text/html": [
       "<div>\n",
       "<style scoped>\n",
       "    .dataframe tbody tr th:only-of-type {\n",
       "        vertical-align: middle;\n",
       "    }\n",
       "\n",
       "    .dataframe tbody tr th {\n",
       "        vertical-align: top;\n",
       "    }\n",
       "\n",
       "    .dataframe thead th {\n",
       "        text-align: right;\n",
       "    }\n",
       "</style>\n",
       "<table border=\"1\" class=\"dataframe\">\n",
       "  <thead>\n",
       "    <tr style=\"text-align: right;\">\n",
       "      <th></th>\n",
       "      <th>Datum</th>\n",
       "      <th>Detail</th>\n",
       "    </tr>\n",
       "  </thead>\n",
       "  <tbody>\n",
       "    <tr>\n",
       "      <th>0</th>\n",
       "      <td>Fri Aug 07, 2020 05:12 UTC</td>\n",
       "      <td>Falcon 9 Block 5 | Starlink V1 L9 &amp; BlackSky</td>\n",
       "    </tr>\n",
       "    <tr>\n",
       "      <th>1</th>\n",
       "      <td>Thu Aug 06, 2020 04:01 UTC</td>\n",
       "      <td>Long March 2D | Gaofen-9 04 &amp; Q-SAT</td>\n",
       "    </tr>\n",
       "    <tr>\n",
       "      <th>2</th>\n",
       "      <td>Tue Aug 04, 2020 23:57 UTC</td>\n",
       "      <td>Starship Prototype | 150 Meter Hop</td>\n",
       "    </tr>\n",
       "    <tr>\n",
       "      <th>3</th>\n",
       "      <td>Thu Jul 30, 2020 21:25 UTC</td>\n",
       "      <td>Proton-M/Briz-M | Ekspress-80 &amp; Ekspress-103</td>\n",
       "    </tr>\n",
       "  </tbody>\n",
       "</table>\n",
       "</div>"
      ],
      "text/plain": [
       "                        Datum                                        Detail\n",
       "0  Fri Aug 07, 2020 05:12 UTC  Falcon 9 Block 5 | Starlink V1 L9 & BlackSky\n",
       "1  Thu Aug 06, 2020 04:01 UTC           Long March 2D | Gaofen-9 04 & Q-SAT\n",
       "2  Tue Aug 04, 2020 23:57 UTC            Starship Prototype | 150 Meter Hop\n",
       "3  Thu Jul 30, 2020 21:25 UTC  Proton-M/Briz-M | Ekspress-80 & Ekspress-103"
      ]
     },
     "execution_count": 16,
     "metadata": {},
     "output_type": "execute_result"
    }
   ],
   "source": [
    "# this operation is easier using loc than indices (selecting datum and detail of launch for first 3 rows):\n",
    "df.loc[:3, [\"Datum\", \"Detail\"]]"
   ]
  },
  {
   "cell_type": "markdown",
   "metadata": {},
   "source": [
    "**iloc VS loc**:\n",
    "\n",
    "`iloc` uses the Python stdlib indexing scheme, where **the first element of the range is included and the last one excluded**. So 0:10 will select entries 0,...,9. \n",
    "\n",
    "`loc`, meanwhile, indexes inclusively. So 0:10 will select entries 0,...,10.\n",
    "\n",
    "Why the change? `loc` can index any stdlib type: strings, for example. If we have a DataFrame with index values Apples, ..., Potatoes, ..., and we want to select \"all the alphabetical fruit choices between Apples and Potatoes\", then it's a lot more convenient to index `df.loc['Apples':'Potatoes']` than it is to index something like `df.loc['Apples', 'Potatoet]` (t coming after s in the alphabet).\n",
    "\n",
    "This is particularly confusing when the DataFrame index is a simple numerical list, e.g. 0,...,1000. In this case `df.iloc[0:1000]` will return 1000 entries, while `df.loc[0:1000]` return 1001 of them! To get 1000 elements using loc, you will need to go one lower and ask for `df.loc[0:999]`.\n",
    "\n",
    "Otherwise, the semantics of using `loc` are the same as those for `iloc`."
   ]
  },
  {
   "cell_type": "markdown",
   "metadata": {},
   "source": [
    "## Manipulating index"
   ]
  },
  {
   "cell_type": "markdown",
   "metadata": {},
   "source": [
    "Can manipulate index for easier operations (useful if you can come up with an index for the dataset which is better than the current one)."
   ]
  },
  {
   "cell_type": "code",
   "execution_count": 17,
   "metadata": {},
   "outputs": [
    {
     "data": {
      "text/html": [
       "<div>\n",
       "<style scoped>\n",
       "    .dataframe tbody tr th:only-of-type {\n",
       "        vertical-align: middle;\n",
       "    }\n",
       "\n",
       "    .dataframe tbody tr th {\n",
       "        vertical-align: top;\n",
       "    }\n",
       "\n",
       "    .dataframe thead th {\n",
       "        text-align: right;\n",
       "    }\n",
       "</style>\n",
       "<table border=\"1\" class=\"dataframe\">\n",
       "  <thead>\n",
       "    <tr style=\"text-align: right;\">\n",
       "      <th></th>\n",
       "      <th>Unnamed: 0.1</th>\n",
       "      <th>Company Name</th>\n",
       "      <th>Location</th>\n",
       "      <th>Datum</th>\n",
       "      <th>Detail</th>\n",
       "      <th>Status Rocket</th>\n",
       "      <th>Rocket</th>\n",
       "      <th>Status Mission</th>\n",
       "    </tr>\n",
       "  </thead>\n",
       "  <tbody>\n",
       "    <tr>\n",
       "      <th>0</th>\n",
       "      <td>0</td>\n",
       "      <td>SpaceX</td>\n",
       "      <td>LC-39A, Kennedy Space Center, Florida, USA</td>\n",
       "      <td>Fri Aug 07, 2020 05:12 UTC</td>\n",
       "      <td>Falcon 9 Block 5 | Starlink V1 L9 &amp; BlackSky</td>\n",
       "      <td>StatusActive</td>\n",
       "      <td>50.0</td>\n",
       "      <td>Success</td>\n",
       "    </tr>\n",
       "  </tbody>\n",
       "</table>\n",
       "</div>"
      ],
      "text/plain": [
       "   Unnamed: 0.1 Company Name                                    Location  \\\n",
       "0             0       SpaceX  LC-39A, Kennedy Space Center, Florida, USA   \n",
       "\n",
       "                        Datum                                        Detail  \\\n",
       "0  Fri Aug 07, 2020 05:12 UTC  Falcon 9 Block 5 | Starlink V1 L9 & BlackSky   \n",
       "\n",
       "  Status Rocket   Rocket Status Mission  \n",
       "0  StatusActive     50.0        Success  "
      ]
     },
     "execution_count": 17,
     "metadata": {},
     "output_type": "execute_result"
    }
   ],
   "source": [
    "# Before setting new index:\n",
    "df.head(1)"
   ]
  },
  {
   "cell_type": "code",
   "execution_count": 18,
   "metadata": {},
   "outputs": [
    {
     "data": {
      "text/html": [
       "<div>\n",
       "<style scoped>\n",
       "    .dataframe tbody tr th:only-of-type {\n",
       "        vertical-align: middle;\n",
       "    }\n",
       "\n",
       "    .dataframe tbody tr th {\n",
       "        vertical-align: top;\n",
       "    }\n",
       "\n",
       "    .dataframe thead th {\n",
       "        text-align: right;\n",
       "    }\n",
       "</style>\n",
       "<table border=\"1\" class=\"dataframe\">\n",
       "  <thead>\n",
       "    <tr style=\"text-align: right;\">\n",
       "      <th></th>\n",
       "      <th>Company Name</th>\n",
       "      <th>Location</th>\n",
       "      <th>Datum</th>\n",
       "      <th>Detail</th>\n",
       "      <th>Status Rocket</th>\n",
       "      <th>Rocket</th>\n",
       "      <th>Status Mission</th>\n",
       "    </tr>\n",
       "    <tr>\n",
       "      <th>Unnamed: 0.1</th>\n",
       "      <th></th>\n",
       "      <th></th>\n",
       "      <th></th>\n",
       "      <th></th>\n",
       "      <th></th>\n",
       "      <th></th>\n",
       "      <th></th>\n",
       "    </tr>\n",
       "  </thead>\n",
       "  <tbody>\n",
       "    <tr>\n",
       "      <th>0</th>\n",
       "      <td>SpaceX</td>\n",
       "      <td>LC-39A, Kennedy Space Center, Florida, USA</td>\n",
       "      <td>Fri Aug 07, 2020 05:12 UTC</td>\n",
       "      <td>Falcon 9 Block 5 | Starlink V1 L9 &amp; BlackSky</td>\n",
       "      <td>StatusActive</td>\n",
       "      <td>50.0</td>\n",
       "      <td>Success</td>\n",
       "    </tr>\n",
       "  </tbody>\n",
       "</table>\n",
       "</div>"
      ],
      "text/plain": [
       "             Company Name                                    Location  \\\n",
       "Unnamed: 0.1                                                            \n",
       "0                  SpaceX  LC-39A, Kennedy Space Center, Florida, USA   \n",
       "\n",
       "                                   Datum  \\\n",
       "Unnamed: 0.1                               \n",
       "0             Fri Aug 07, 2020 05:12 UTC   \n",
       "\n",
       "                                                    Detail Status Rocket  \\\n",
       "Unnamed: 0.1                                                               \n",
       "0             Falcon 9 Block 5 | Starlink V1 L9 & BlackSky  StatusActive   \n",
       "\n",
       "               Rocket Status Mission  \n",
       "Unnamed: 0.1                          \n",
       "0                50.0        Success  "
      ]
     },
     "execution_count": 18,
     "metadata": {},
     "output_type": "execute_result"
    }
   ],
   "source": [
    "# After setting new index:\n",
    "new_df = df.set_index(\"Unnamed: 0.1\")\n",
    "new_df.head(1)"
   ]
  },
  {
   "cell_type": "markdown",
   "metadata": {},
   "source": [
    "## Conditional Selection"
   ]
  },
  {
   "cell_type": "code",
   "execution_count": 19,
   "metadata": {},
   "outputs": [
    {
     "data": {
      "text/plain": [
       "0        True\n",
       "1       False\n",
       "2        True\n",
       "3       False\n",
       "4       False\n",
       "        ...  \n",
       "4319    False\n",
       "4320    False\n",
       "4321    False\n",
       "4322    False\n",
       "4323    False\n",
       "Name: Company Name, Length: 4324, dtype: bool"
      ]
     },
     "execution_count": 19,
     "metadata": {},
     "output_type": "execute_result"
    }
   ],
   "source": [
    "# check if each launch was made by SpaceX or not\n",
    "df[\"Company Name\"] == \"SpaceX\""
   ]
  },
  {
   "cell_type": "markdown",
   "metadata": {},
   "source": [
    "This produces a Series of True/False booleans based on the company of each launch. This result can then be used inside of loc to select the relevant data:"
   ]
  },
  {
   "cell_type": "code",
   "execution_count": 20,
   "metadata": {},
   "outputs": [
    {
     "name": "stdout",
     "output_type": "stream",
     "text": [
      "Total launches = 4324\n",
      "Space X launches = 100\n",
      "2.313% of launches were made by SpaceX\n"
     ]
    }
   ],
   "source": [
    "spaceX_launches = df.loc[df[\"Company Name\"] == \"SpaceX\"]\n",
    "print(\"Total launches = {}\".format(df.shape[0]))\n",
    "print(\"Space X launches = {}\".format(spaceX_launches.shape[0]))\n",
    "print(\"{}% of launches were made by SpaceX\".format(round((spaceX_launches.shape[0] / df.shape[0]) * 100, 3)))"
   ]
  },
  {
   "cell_type": "markdown",
   "metadata": {},
   "source": [
    "Can combine conditions e.g. to also check which SpaceX launches exceeded costs of $50M"
   ]
  },
  {
   "cell_type": "code",
   "execution_count": 21,
   "metadata": {},
   "outputs": [
    {
     "name": "stdout",
     "output_type": "stream",
     "text": [
      "Space X launches that cost over $50M = 94\n"
     ]
    }
   ],
   "source": [
    "df[\" Rocket\"] = pd.to_numeric(df[\" Rocket\"])\n",
    "spaceX_launches_over50M = df.loc[(df[\"Company Name\"] == \"SpaceX\") & (df[\" Rocket\"] >= 50.0)]\n",
    "print(\"Space X launches that cost over $50M = {}\".format(spaceX_launches_over50M.shape[0]))"
   ]
  },
  {
   "cell_type": "markdown",
   "metadata": {},
   "source": [
    "Can also use `|` operator:"
   ]
  },
  {
   "cell_type": "code",
   "execution_count": 22,
   "metadata": {},
   "outputs": [
    {
     "name": "stdout",
     "output_type": "stream",
     "text": [
      "Space X + NASA launches = 303\n"
     ]
    }
   ],
   "source": [
    "spaceX_nasa_launches = df.loc[(df[\"Company Name\"] == \"SpaceX\") | (df[\"Company Name\"] == \"NASA\")]\n",
    "print(\"Space X + NASA launches = {}\".format(spaceX_nasa_launches.shape[0]))"
   ]
  },
  {
   "cell_type": "markdown",
   "metadata": {},
   "source": [
    "Can also use `isin` selector:"
   ]
  },
  {
   "cell_type": "code",
   "execution_count": 23,
   "metadata": {},
   "outputs": [
    {
     "data": {
      "text/html": [
       "<div>\n",
       "<style scoped>\n",
       "    .dataframe tbody tr th:only-of-type {\n",
       "        vertical-align: middle;\n",
       "    }\n",
       "\n",
       "    .dataframe tbody tr th {\n",
       "        vertical-align: top;\n",
       "    }\n",
       "\n",
       "    .dataframe thead th {\n",
       "        text-align: right;\n",
       "    }\n",
       "</style>\n",
       "<table border=\"1\" class=\"dataframe\">\n",
       "  <thead>\n",
       "    <tr style=\"text-align: right;\">\n",
       "      <th></th>\n",
       "      <th>Unnamed: 0.1</th>\n",
       "      <th>Company Name</th>\n",
       "      <th>Location</th>\n",
       "      <th>Datum</th>\n",
       "      <th>Detail</th>\n",
       "      <th>Status Rocket</th>\n",
       "      <th>Rocket</th>\n",
       "      <th>Status Mission</th>\n",
       "    </tr>\n",
       "  </thead>\n",
       "  <tbody>\n",
       "    <tr>\n",
       "      <th>0</th>\n",
       "      <td>0</td>\n",
       "      <td>SpaceX</td>\n",
       "      <td>LC-39A, Kennedy Space Center, Florida, USA</td>\n",
       "      <td>Fri Aug 07, 2020 05:12 UTC</td>\n",
       "      <td>Falcon 9 Block 5 | Starlink V1 L9 &amp; BlackSky</td>\n",
       "      <td>StatusActive</td>\n",
       "      <td>50.0</td>\n",
       "      <td>Success</td>\n",
       "    </tr>\n",
       "  </tbody>\n",
       "</table>\n",
       "</div>"
      ],
      "text/plain": [
       "   Unnamed: 0.1 Company Name                                    Location  \\\n",
       "0             0       SpaceX  LC-39A, Kennedy Space Center, Florida, USA   \n",
       "\n",
       "                        Datum                                        Detail  \\\n",
       "0  Fri Aug 07, 2020 05:12 UTC  Falcon 9 Block 5 | Starlink V1 L9 & BlackSky   \n",
       "\n",
       "  Status Rocket   Rocket Status Mission  \n",
       "0  StatusActive     50.0        Success  "
      ]
     },
     "execution_count": 23,
     "metadata": {},
     "output_type": "execute_result"
    }
   ],
   "source": [
    "companies = [\"SpaceX\", \"NASA\"]\n",
    "df.loc[df[\"Company Name\"].isin(companies)].head(1)"
   ]
  },
  {
   "cell_type": "markdown",
   "metadata": {},
   "source": [
    "Can `isnull` and `notnull` to find NaN values:"
   ]
  },
  {
   "cell_type": "code",
   "execution_count": 24,
   "metadata": {},
   "outputs": [
    {
     "name": "stdout",
     "output_type": "stream",
     "text": [
      "Launches with a cost specified = 964\n",
      "Launches with the cost missing = 3360\n"
     ]
    }
   ],
   "source": [
    "print(\"Launches with a cost specified = {}\".format(df.loc[df[\" Rocket\"].notnull()].shape[0]))\n",
    "print(\"Launches with the cost missing = {}\".format(df.loc[df[\" Rocket\"].isnull()].shape[0]))"
   ]
  },
  {
   "cell_type": "markdown",
   "metadata": {},
   "source": [
    "## Assigning data"
   ]
  },
  {
   "cell_type": "markdown",
   "metadata": {},
   "source": [
    "Assign a constant  value"
   ]
  },
  {
   "cell_type": "code",
   "execution_count": 25,
   "metadata": {},
   "outputs": [
    {
     "data": {
      "text/plain": [
       "0       Adam\n",
       "1       Adam\n",
       "2       Adam\n",
       "3       Adam\n",
       "4       Adam\n",
       "        ... \n",
       "4319    Adam\n",
       "4320    Adam\n",
       "4321    Adam\n",
       "4322    Adam\n",
       "4323    Adam\n",
       "Name: Company Name, Length: 4324, dtype: object"
      ]
     },
     "execution_count": 25,
     "metadata": {},
     "output_type": "execute_result"
    }
   ],
   "source": [
    "df[\"Company Name\"] = \"Adam\"\n",
    "df[\"Company Name\"]"
   ]
  },
  {
   "cell_type": "markdown",
   "metadata": {},
   "source": [
    "Assign iterable values"
   ]
  },
  {
   "cell_type": "code",
   "execution_count": 26,
   "metadata": {},
   "outputs": [
    {
     "data": {
      "text/plain": [
       "0       4324\n",
       "1       4323\n",
       "2       4322\n",
       "3       4321\n",
       "4       4320\n",
       "        ... \n",
       "4319       5\n",
       "4320       4\n",
       "4321       3\n",
       "4322       2\n",
       "4323       1\n",
       "Name:  Rocket, Length: 4324, dtype: int64"
      ]
     },
     "execution_count": 26,
     "metadata": {},
     "output_type": "execute_result"
    }
   ],
   "source": [
    "df[\" Rocket\"] =  range(len(df), 0, -1)\n",
    "df[\" Rocket\"]"
   ]
  },
  {
   "cell_type": "markdown",
   "metadata": {},
   "source": [
    "# Summary Functions & Maps"
   ]
  },
  {
   "cell_type": "markdown",
   "metadata": {},
   "source": [
    "## Summary functions"
   ]
  },
  {
   "cell_type": "code",
   "execution_count": 27,
   "metadata": {},
   "outputs": [],
   "source": [
    "# Reload original data\n",
    "df = pd.read_csv(\"data/space-missions/Space_Corrected.csv\", index_col=0)"
   ]
  },
  {
   "cell_type": "markdown",
   "metadata": {},
   "source": [
    "Use `describe` function (works for both numerical and categorical data):"
   ]
  },
  {
   "cell_type": "code",
   "execution_count": 28,
   "metadata": {},
   "outputs": [
    {
     "data": {
      "text/html": [
       "<div>\n",
       "<style scoped>\n",
       "    .dataframe tbody tr th:only-of-type {\n",
       "        vertical-align: middle;\n",
       "    }\n",
       "\n",
       "    .dataframe tbody tr th {\n",
       "        vertical-align: top;\n",
       "    }\n",
       "\n",
       "    .dataframe thead th {\n",
       "        text-align: right;\n",
       "    }\n",
       "</style>\n",
       "<table border=\"1\" class=\"dataframe\">\n",
       "  <thead>\n",
       "    <tr style=\"text-align: right;\">\n",
       "      <th></th>\n",
       "      <th>Unnamed: 0.1</th>\n",
       "      <th>Rocket</th>\n",
       "    </tr>\n",
       "  </thead>\n",
       "  <tbody>\n",
       "    <tr>\n",
       "      <th>count</th>\n",
       "      <td>4324.000000</td>\n",
       "      <td>964.000000</td>\n",
       "    </tr>\n",
       "    <tr>\n",
       "      <th>mean</th>\n",
       "      <td>2161.500000</td>\n",
       "      <td>153.792199</td>\n",
       "    </tr>\n",
       "    <tr>\n",
       "      <th>std</th>\n",
       "      <td>1248.375611</td>\n",
       "      <td>288.450732</td>\n",
       "    </tr>\n",
       "    <tr>\n",
       "      <th>min</th>\n",
       "      <td>0.000000</td>\n",
       "      <td>5.300000</td>\n",
       "    </tr>\n",
       "    <tr>\n",
       "      <th>25%</th>\n",
       "      <td>1080.750000</td>\n",
       "      <td>40.000000</td>\n",
       "    </tr>\n",
       "    <tr>\n",
       "      <th>50%</th>\n",
       "      <td>2161.500000</td>\n",
       "      <td>62.000000</td>\n",
       "    </tr>\n",
       "    <tr>\n",
       "      <th>75%</th>\n",
       "      <td>3242.250000</td>\n",
       "      <td>164.000000</td>\n",
       "    </tr>\n",
       "    <tr>\n",
       "      <th>max</th>\n",
       "      <td>4323.000000</td>\n",
       "      <td>5000.000000</td>\n",
       "    </tr>\n",
       "  </tbody>\n",
       "</table>\n",
       "</div>"
      ],
      "text/plain": [
       "       Unnamed: 0.1       Rocket\n",
       "count   4324.000000   964.000000\n",
       "mean    2161.500000   153.792199\n",
       "std     1248.375611   288.450732\n",
       "min        0.000000     5.300000\n",
       "25%     1080.750000    40.000000\n",
       "50%     2161.500000    62.000000\n",
       "75%     3242.250000   164.000000\n",
       "max     4323.000000  5000.000000"
      ]
     },
     "execution_count": 28,
     "metadata": {},
     "output_type": "execute_result"
    }
   ],
   "source": [
    "# All columns with numerical data:\n",
    "df.describe()"
   ]
  },
  {
   "cell_type": "code",
   "execution_count": 29,
   "metadata": {},
   "outputs": [
    {
     "data": {
      "text/plain": [
       "count                                           4324\n",
       "unique                                           137\n",
       "top       Site 31/6, Baikonur Cosmodrome, Kazakhstan\n",
       "freq                                             235\n",
       "Name: Location, dtype: object"
      ]
     },
     "execution_count": 29,
     "metadata": {},
     "output_type": "execute_result"
    }
   ],
   "source": [
    "# Column with categorical data:\n",
    "df.Location.describe()"
   ]
  },
  {
   "cell_type": "markdown",
   "metadata": {},
   "source": [
    "Can get a simple summary statistic about a column with `mean`, `median` or other functions:"
   ]
  },
  {
   "cell_type": "code",
   "execution_count": 30,
   "metadata": {},
   "outputs": [
    {
     "name": "stdout",
     "output_type": "stream",
     "text": [
      "count = 964\n",
      "mean = 153.7921991701245\n",
      "median = 62.0\n",
      "minimum = 5.3\n",
      "maximum = 5000.0\n",
      "standard deviation = 288.45073217474624\n"
     ]
    }
   ],
   "source": [
    "print(\"count = {}\".format(df[\" Rocket\"].count()))\n",
    "print(\"mean = {}\".format(df[\" Rocket\"].mean()))\n",
    "print(\"median = {}\".format(df[\" Rocket\"].median()))\n",
    "print(\"minimum = {}\".format(df[\" Rocket\"].min()))\n",
    "print(\"maximum = {}\".format(df[\" Rocket\"].max()))\n",
    "print(\"standard deviation = {}\".format(df[\" Rocket\"].std()))"
   ]
  },
  {
   "cell_type": "markdown",
   "metadata": {},
   "source": [
    "Find unique values in a column:"
   ]
  },
  {
   "cell_type": "code",
   "execution_count": 31,
   "metadata": {},
   "outputs": [
    {
     "data": {
      "text/plain": [
       "array(['SpaceX', 'CASC', 'Roscosmos', 'ULA', 'JAXA', 'Northrop', 'ExPace',\n",
       "       'IAI', 'Rocket Lab', 'Virgin Orbit', 'VKS RF', 'MHI', 'IRGC',\n",
       "       'Arianespace', 'ISA', 'Blue Origin', 'ISRO', 'Exos', 'ILS',\n",
       "       'i-Space', 'OneSpace', 'Landspace', 'Eurockot', 'Land Launch',\n",
       "       'CASIC', 'KCST', 'Sandia', 'Kosmotras', 'Khrunichev', 'Sea Launch',\n",
       "       'KARI', 'ESA', 'NASA', 'Boeing', 'ISAS', 'SRC', 'MITT', 'Lockheed',\n",
       "       'AEB', 'Starsem', 'RVSN USSR', 'EER', 'General Dynamics',\n",
       "       'Martin Marietta', 'Yuzhmash', 'Douglas', 'ASI', 'US Air Force',\n",
       "       'CNES', 'CECLES', 'RAE', 'UT', 'OKB-586', 'AMBA',\n",
       "       \"Arm??e de l'Air\", 'US Navy'], dtype=object)"
      ]
     },
     "execution_count": 31,
     "metadata": {},
     "output_type": "execute_result"
    }
   ],
   "source": [
    "df[\"Company Name\"].unique()"
   ]
  },
  {
   "cell_type": "markdown",
   "metadata": {},
   "source": [
    "Find unique values in a column + how often they occur in the dataset:"
   ]
  },
  {
   "cell_type": "code",
   "execution_count": 32,
   "metadata": {},
   "outputs": [
    {
     "data": {
      "text/plain": [
       "RVSN USSR           1777\n",
       "Arianespace          279\n",
       "General Dynamics     251\n",
       "CASC                 251\n",
       "NASA                 203\n",
       "Name: Company Name, dtype: int64"
      ]
     },
     "execution_count": 32,
     "metadata": {},
     "output_type": "execute_result"
    }
   ],
   "source": [
    "df[\"Company Name\"].value_counts()[:5]"
   ]
  },
  {
   "cell_type": "markdown",
   "metadata": {},
   "source": [
    "## Map functions"
   ]
  },
  {
   "cell_type": "markdown",
   "metadata": {},
   "source": [
    "Map = function that takes one set of values and \"maps\" them to another set of values. There are two mapping methods:\n",
    "* `map`: returns a new Series where all the values have been transformed by your function. `map()` should expect a single value from the Series (a point value, in the above example), and return a transformed version of that value.\n",
    "* `apply`: is the equivalent method if we want to transform a whole DataFrame by calling a custom method on each row"
   ]
  },
  {
   "cell_type": "markdown",
   "metadata": {},
   "source": [
    "E.g.: remean the launch costs to 0."
   ]
  },
  {
   "cell_type": "code",
   "execution_count": 33,
   "metadata": {},
   "outputs": [
    {
     "data": {
      "text/plain": [
       "0      -103.792199\n",
       "1      -124.042199\n",
       "2              NaN\n",
       "3       -88.792199\n",
       "4        -8.792199\n",
       "           ...    \n",
       "4319           NaN\n",
       "4320           NaN\n",
       "4321           NaN\n",
       "4322           NaN\n",
       "4323           NaN\n",
       "Name:  Rocket, Length: 4324, dtype: float64"
      ]
     },
     "execution_count": 33,
     "metadata": {},
     "output_type": "execute_result"
    }
   ],
   "source": [
    "launch_cost_mean = df[\" Rocket\"].mean()\n",
    "df[\" Rocket\"].map(lambda l: l - launch_cost_mean)"
   ]
  },
  {
   "cell_type": "code",
   "execution_count": 34,
   "metadata": {},
   "outputs": [
    {
     "data": {
      "text/html": [
       "<div>\n",
       "<style scoped>\n",
       "    .dataframe tbody tr th:only-of-type {\n",
       "        vertical-align: middle;\n",
       "    }\n",
       "\n",
       "    .dataframe tbody tr th {\n",
       "        vertical-align: top;\n",
       "    }\n",
       "\n",
       "    .dataframe thead th {\n",
       "        text-align: right;\n",
       "    }\n",
       "</style>\n",
       "<table border=\"1\" class=\"dataframe\">\n",
       "  <thead>\n",
       "    <tr style=\"text-align: right;\">\n",
       "      <th></th>\n",
       "      <th>Unnamed: 0.1</th>\n",
       "      <th>Company Name</th>\n",
       "      <th>Location</th>\n",
       "      <th>Datum</th>\n",
       "      <th>Detail</th>\n",
       "      <th>Status Rocket</th>\n",
       "      <th>Rocket</th>\n",
       "      <th>Status Mission</th>\n",
       "    </tr>\n",
       "  </thead>\n",
       "  <tbody>\n",
       "    <tr>\n",
       "      <th>0</th>\n",
       "      <td>0</td>\n",
       "      <td>SpaceX</td>\n",
       "      <td>LC-39A, Kennedy Space Center, Florida, USA</td>\n",
       "      <td>Fri Aug 07, 2020 05:12 UTC</td>\n",
       "      <td>Falcon 9 Block 5 | Starlink V1 L9 &amp; BlackSky</td>\n",
       "      <td>StatusActive</td>\n",
       "      <td>-103.792199</td>\n",
       "      <td>Success</td>\n",
       "    </tr>\n",
       "    <tr>\n",
       "      <th>1</th>\n",
       "      <td>1</td>\n",
       "      <td>CASC</td>\n",
       "      <td>Site 9401 (SLS-2), Jiuquan Satellite Launch Ce...</td>\n",
       "      <td>Thu Aug 06, 2020 04:01 UTC</td>\n",
       "      <td>Long March 2D | Gaofen-9 04 &amp; Q-SAT</td>\n",
       "      <td>StatusActive</td>\n",
       "      <td>-124.042199</td>\n",
       "      <td>Success</td>\n",
       "    </tr>\n",
       "    <tr>\n",
       "      <th>2</th>\n",
       "      <td>2</td>\n",
       "      <td>SpaceX</td>\n",
       "      <td>Pad A, Boca Chica, Texas, USA</td>\n",
       "      <td>Tue Aug 04, 2020 23:57 UTC</td>\n",
       "      <td>Starship Prototype | 150 Meter Hop</td>\n",
       "      <td>StatusActive</td>\n",
       "      <td>NaN</td>\n",
       "      <td>Success</td>\n",
       "    </tr>\n",
       "  </tbody>\n",
       "</table>\n",
       "</div>"
      ],
      "text/plain": [
       "   Unnamed: 0.1 Company Name  \\\n",
       "0             0       SpaceX   \n",
       "1             1         CASC   \n",
       "2             2       SpaceX   \n",
       "\n",
       "                                            Location  \\\n",
       "0         LC-39A, Kennedy Space Center, Florida, USA   \n",
       "1  Site 9401 (SLS-2), Jiuquan Satellite Launch Ce...   \n",
       "2                      Pad A, Boca Chica, Texas, USA   \n",
       "\n",
       "                        Datum                                        Detail  \\\n",
       "0  Fri Aug 07, 2020 05:12 UTC  Falcon 9 Block 5 | Starlink V1 L9 & BlackSky   \n",
       "1  Thu Aug 06, 2020 04:01 UTC           Long March 2D | Gaofen-9 04 & Q-SAT   \n",
       "2  Tue Aug 04, 2020 23:57 UTC            Starship Prototype | 150 Meter Hop   \n",
       "\n",
       "  Status Rocket      Rocket Status Mission  \n",
       "0  StatusActive -103.792199        Success  \n",
       "1  StatusActive -124.042199        Success  \n",
       "2  StatusActive         NaN        Success  "
      ]
     },
     "execution_count": 34,
     "metadata": {},
     "output_type": "execute_result"
    }
   ],
   "source": [
    "launch_cost_mean = df[\" Rocket\"].mean()\n",
    "def remean_cost(row):\n",
    "    row[\" Rocket\"] = row[\" Rocket\"] - launch_cost_mean\n",
    "    return row\n",
    "\n",
    "df.apply(remean_cost, axis=\"columns\").head(3)"
   ]
  },
  {
   "cell_type": "markdown",
   "metadata": {},
   "source": [
    "Note: *If we had called reviews.apply() with axis='index', then instead of passing a function to transform each row, we would need to give a function to transform each column*."
   ]
  },
  {
   "cell_type": "markdown",
   "metadata": {},
   "source": [
    "`map()` and `apply()` return new, transformed Series and DataFrames, respectively. --> They don't modify the original data they're called on."
   ]
  },
  {
   "cell_type": "markdown",
   "metadata": {},
   "source": [
    "Pandas provides many common mapping operations as built-ins. Can perform these operations between Series of equal length e.g. combine company name and launch detail:"
   ]
  },
  {
   "cell_type": "code",
   "execution_count": 35,
   "metadata": {},
   "outputs": [
    {
     "data": {
      "text/plain": [
       "0       SpaceX: Falcon 9 Block 5 | Starlink V1 L9 & Bl...\n",
       "1               CASC: Long March 2D | Gaofen-9 04 & Q-SAT\n",
       "2              SpaceX: Starship Prototype | 150 Meter Hop\n",
       "3       Roscosmos: Proton-M/Briz-M | Ekspress-80 & Eks...\n",
       "4                         ULA: Atlas V 541 | Perseverance\n",
       "                              ...                        \n",
       "4319                   US Navy: Vanguard | Vanguard TV3BU\n",
       "4320                            AMBA: Juno I | Explorer 1\n",
       "4321                     US Navy: Vanguard | Vanguard TV3\n",
       "4322                RVSN USSR: Sputnik 8K71PS | Sputnik-2\n",
       "4323                RVSN USSR: Sputnik 8K71PS | Sputnik-1\n",
       "Length: 4324, dtype: object"
      ]
     },
     "execution_count": 35,
     "metadata": {},
     "output_type": "execute_result"
    }
   ],
   "source": [
    "df[\"Company Name\"] + \": \" + df[\"Detail\"]"
   ]
  },
  {
   "cell_type": "markdown",
   "metadata": {},
   "source": [
    "These operators are faster than `map()` or `apply()` because they uses speed ups built into pandas. All of the standard Python operators (>, <, ==, ...) work in this manner. But not as flexible as `map()` or `apply()`, which can do more advanced things, like applying conditional logic, which cannot be done with addition and subtraction alone."
   ]
  },
  {
   "cell_type": "markdown",
   "metadata": {},
   "source": [
    "# Grouping and Sorting"
   ]
  },
  {
   "cell_type": "markdown",
   "metadata": {},
   "source": [
    "## Groupwise analysis"
   ]
  },
  {
   "cell_type": "code",
   "execution_count": 36,
   "metadata": {},
   "outputs": [],
   "source": [
    "# Reload original data\n",
    "df = pd.read_csv(\"data/space-missions/Space_Corrected.csv\", index_col=0)"
   ]
  },
  {
   "cell_type": "markdown",
   "metadata": {},
   "source": [
    "Can replicate what `value_counts()` does by using `groupy`:\n",
    "* creates a group of launches which allotted the same company name values to the given launches. \n",
    "* for each of these groups, grab the company name column and count how many times it appeared.\n",
    "\n",
    "(*value_counts() is just a shortcut to this groupby() operation.*)"
   ]
  },
  {
   "cell_type": "code",
   "execution_count": 37,
   "metadata": {},
   "outputs": [
    {
     "data": {
      "text/plain": [
       "Company Name\n",
       "RVSN USSR           1777\n",
       "Arianespace          279\n",
       "General Dynamics     251\n",
       "CASC                 251\n",
       "NASA                 203\n",
       "VKS RF               201\n",
       "US Air Force         161\n",
       "ULA                  140\n",
       "Boeing               136\n",
       "Martin Marietta      114\n",
       "SpaceX               100\n",
       "MHI                   84\n",
       "Northrop              83\n",
       "Lockheed              79\n",
       "ISRO                  76\n",
       "Roscosmos             55\n",
       "ILS                   46\n",
       "Sea Launch            36\n",
       "ISAS                  30\n",
       "Kosmotras             22\n",
       "Name: Company Name, dtype: int64"
      ]
     },
     "execution_count": 37,
     "metadata": {},
     "output_type": "execute_result"
    }
   ],
   "source": [
    "df.groupby(\"Company Name\")[\"Company Name\"].count().sort_values(ascending=False).head(20)"
   ]
  },
  {
   "cell_type": "markdown",
   "metadata": {},
   "source": [
    "Can plot counts in a bar chart for visual counts:"
   ]
  },
  {
   "cell_type": "code",
   "execution_count": 38,
   "metadata": {},
   "outputs": [
    {
     "data": {
      "text/plain": [
       "<AxesSubplot:xlabel='Company Name'>"
      ]
     },
     "execution_count": 38,
     "metadata": {},
     "output_type": "execute_result"
    },
    {
     "data": {
      "image/png": "[encoded data removed]",
      "text/plain": [
       "<Figure size 432x288 with 1 Axes>"
      ]
     },
     "metadata": {
      "needs_background": "light"
     },
     "output_type": "display_data"
    }
   ],
   "source": [
    "df.groupby(\"Company Name\")[\"Company Name\"].count().plot(kind=\"bar\")"
   ]
  },
  {
   "cell_type": "markdown",
   "metadata": {},
   "source": [
    "Can use any of the summary functions we've used before with this data. E.g. get the cheapest launch in each company name value category:"
   ]
  },
  {
   "cell_type": "code",
   "execution_count": 39,
   "metadata": {},
   "outputs": [
    {
     "data": {
      "text/plain": [
       "Company Name\n",
       "AEB                  NaN\n",
       "AMBA                 NaN\n",
       "ASI                  NaN\n",
       "Arianespace         37.0\n",
       "Arm??e de l'Air      NaN\n",
       "Blue Origin          NaN\n",
       "Boeing             133.0\n",
       "CASC                 5.3\n",
       "CASIC                NaN\n",
       "CECLES               NaN\n",
       "Name:  Rocket, dtype: float64"
      ]
     },
     "execution_count": 39,
     "metadata": {},
     "output_type": "execute_result"
    }
   ],
   "source": [
    "df.groupby(\"Company Name\")[\" Rocket\"].min().head(10)"
   ]
  },
  {
   "cell_type": "markdown",
   "metadata": {},
   "source": [
    "Can think of each group we generate as being a slice of our DataFrame containing only data with values that match, which is accessible directly using the `apply()` method, and can be manipulated the data in any way:"
   ]
  },
  {
   "cell_type": "code",
   "execution_count": 40,
   "metadata": {},
   "outputs": [
    {
     "data": {
      "text/plain": [
       "Company Name\n",
       "AEB                          Mon Aug 25, 2003\n",
       "AMBA                         Wed Nov 29, 1967\n",
       "ASI                Fri Mar 25, 1988 19:50 UTC\n",
       "Arianespace        Sat Mar 21, 2020 17:06 UTC\n",
       "Arm??e de l'Air    Wed Feb 15, 1967 10:06 UTC\n",
       "Blue Origin        Wed Dec 11, 2019 17:55 UTC\n",
       "Boeing             Fri Nov 17, 2006 19:12 UTC\n",
       "CASC               Thu Aug 06, 2020 04:01 UTC\n",
       "CASIC              Thu Mar 02, 2017 23:53 UTC\n",
       "CECLES             Thu Nov 04, 1971 21:10 UTC\n",
       "dtype: object"
      ]
     },
     "execution_count": 40,
     "metadata": {},
     "output_type": "execute_result"
    }
   ],
   "source": [
    "# Selecting date of first launch for each launch per company\n",
    "df.groupby(\"Company Name\").apply(lambda df: df[\"Datum\"].iloc[0]).head(10)"
   ]
  },
  {
   "cell_type": "markdown",
   "metadata": {},
   "source": [
    "Another `groupby()` method worth mentioning is `agg()`, which allows different functions to run on DF simultaneously. e.g. can generate a simple statistical summary of the dataset as follows:"
   ]
  },
  {
   "cell_type": "code",
   "execution_count": 41,
   "metadata": {},
   "outputs": [
    {
     "data": {
      "text/html": [
       "<div>\n",
       "<style scoped>\n",
       "    .dataframe tbody tr th:only-of-type {\n",
       "        vertical-align: middle;\n",
       "    }\n",
       "\n",
       "    .dataframe tbody tr th {\n",
       "        vertical-align: top;\n",
       "    }\n",
       "\n",
       "    .dataframe thead th {\n",
       "        text-align: right;\n",
       "    }\n",
       "</style>\n",
       "<table border=\"1\" class=\"dataframe\">\n",
       "  <thead>\n",
       "    <tr style=\"text-align: right;\">\n",
       "      <th></th>\n",
       "      <th>min</th>\n",
       "      <th>max</th>\n",
       "    </tr>\n",
       "    <tr>\n",
       "      <th>Company Name</th>\n",
       "      <th></th>\n",
       "      <th></th>\n",
       "    </tr>\n",
       "  </thead>\n",
       "  <tbody>\n",
       "    <tr>\n",
       "      <th>AEB</th>\n",
       "      <td>NaN</td>\n",
       "      <td>NaN</td>\n",
       "    </tr>\n",
       "    <tr>\n",
       "      <th>AMBA</th>\n",
       "      <td>NaN</td>\n",
       "      <td>NaN</td>\n",
       "    </tr>\n",
       "    <tr>\n",
       "      <th>ASI</th>\n",
       "      <td>NaN</td>\n",
       "      <td>NaN</td>\n",
       "    </tr>\n",
       "    <tr>\n",
       "      <th>Arianespace</th>\n",
       "      <td>37.0</td>\n",
       "      <td>200.0</td>\n",
       "    </tr>\n",
       "    <tr>\n",
       "      <th>Arm??e de l'Air</th>\n",
       "      <td>NaN</td>\n",
       "      <td>NaN</td>\n",
       "    </tr>\n",
       "    <tr>\n",
       "      <th>Blue Origin</th>\n",
       "      <td>NaN</td>\n",
       "      <td>NaN</td>\n",
       "    </tr>\n",
       "    <tr>\n",
       "      <th>Boeing</th>\n",
       "      <td>133.0</td>\n",
       "      <td>350.0</td>\n",
       "    </tr>\n",
       "    <tr>\n",
       "      <th>CASC</th>\n",
       "      <td>5.3</td>\n",
       "      <td>69.7</td>\n",
       "    </tr>\n",
       "    <tr>\n",
       "      <th>CASIC</th>\n",
       "      <td>NaN</td>\n",
       "      <td>NaN</td>\n",
       "    </tr>\n",
       "    <tr>\n",
       "      <th>CECLES</th>\n",
       "      <td>NaN</td>\n",
       "      <td>NaN</td>\n",
       "    </tr>\n",
       "  </tbody>\n",
       "</table>\n",
       "</div>"
      ],
      "text/plain": [
       "                   min    max\n",
       "Company Name                 \n",
       "AEB                NaN    NaN\n",
       "AMBA               NaN    NaN\n",
       "ASI                NaN    NaN\n",
       "Arianespace       37.0  200.0\n",
       "Arm??e de l'Air    NaN    NaN\n",
       "Blue Origin        NaN    NaN\n",
       "Boeing           133.0  350.0\n",
       "CASC               5.3   69.7\n",
       "CASIC              NaN    NaN\n",
       "CECLES             NaN    NaN"
      ]
     },
     "execution_count": 41,
     "metadata": {},
     "output_type": "execute_result"
    }
   ],
   "source": [
    "# Show max and mon of each company launch.\n",
    "df.groupby(\"Company Name\")[\" Rocket\"].agg([\"min\",\"max\"]).head(10)"
   ]
  },
  {
   "cell_type": "markdown",
   "metadata": {},
   "source": [
    "## Multi-Index"
   ]
  },
  {
   "cell_type": "markdown",
   "metadata": {},
   "source": [
    "When grouping by more than one column, get multi-indexes, which differs from a regular index in that it has multiple levels."
   ]
  },
  {
   "cell_type": "code",
   "execution_count": 42,
   "metadata": {},
   "outputs": [
    {
     "data": {
      "text/plain": [
       "Unnamed: 0.1  Company Name  Location                                                 \n",
       "0             SpaceX        LC-39A, Kennedy Space Center, Florida, USA                   Fri Aug 07, 2020 05:12 UTC\n",
       "1             CASC          Site 9401 (SLS-2), Jiuquan Satellite Launch Center, China    Thu Aug 06, 2020 04:01 UTC\n",
       "2             SpaceX        Pad A, Boca Chica, Texas, USA                                Tue Aug 04, 2020 23:57 UTC\n",
       "3             Roscosmos     Site 200/39, Baikonur Cosmodrome, Kazakhstan                 Thu Jul 30, 2020 21:25 UTC\n",
       "4             ULA           SLC-41, Cape Canaveral AFS, Florida, USA                     Thu Jul 30, 2020 11:50 UTC\n",
       "                                                                                                    ...            \n",
       "4319          US Navy       LC-18A, Cape Canaveral AFS, Florida, USA                     Wed Feb 05, 1958 07:33 UTC\n",
       "4320          AMBA          LC-26A, Cape Canaveral AFS, Florida, USA                     Sat Feb 01, 1958 03:48 UTC\n",
       "4321          US Navy       LC-18A, Cape Canaveral AFS, Florida, USA                     Fri Dec 06, 1957 16:44 UTC\n",
       "4322          RVSN USSR     Site 1/5, Baikonur Cosmodrome, Kazakhstan                    Sun Nov 03, 1957 02:30 UTC\n",
       "4323          RVSN USSR     Site 1/5, Baikonur Cosmodrome, Kazakhstan                    Fri Oct 04, 1957 19:28 UTC\n",
       "Length: 4324, dtype: object"
      ]
     },
     "execution_count": 42,
     "metadata": {},
     "output_type": "execute_result"
    }
   ],
   "source": [
    "new_df = df.groupby([\"Unnamed: 0.1\", \"Company Name\", \"Location\"]).apply(lambda df: df[\"Datum\"].iloc[0])\n",
    "new_df"
   ]
  },
  {
   "cell_type": "code",
   "execution_count": 43,
   "metadata": {},
   "outputs": [
    {
     "data": {
      "text/plain": [
       "pandas.core.indexes.multi.MultiIndex"
      ]
     },
     "execution_count": 43,
     "metadata": {},
     "output_type": "execute_result"
    }
   ],
   "source": [
    "index = new_df.index\n",
    "type(index)"
   ]
  },
  {
   "cell_type": "markdown",
   "metadata": {},
   "source": [
    "Multi-indices have several methods for dealing with their tiered structure which are absent for single-level indices. They also require two levels of labels to retrieve a value. (see MultiIndex / Advanced Selection section of the pandas documentation).\n",
    "\n",
    "However, in general the multi-index method you will use most often is the one for converting back to a regular index, the `reset_index()` method:"
   ]
  },
  {
   "cell_type": "code",
   "execution_count": 44,
   "metadata": {},
   "outputs": [
    {
     "data": {
      "text/html": [
       "<div>\n",
       "<style scoped>\n",
       "    .dataframe tbody tr th:only-of-type {\n",
       "        vertical-align: middle;\n",
       "    }\n",
       "\n",
       "    .dataframe tbody tr th {\n",
       "        vertical-align: top;\n",
       "    }\n",
       "\n",
       "    .dataframe thead th {\n",
       "        text-align: right;\n",
       "    }\n",
       "</style>\n",
       "<table border=\"1\" class=\"dataframe\">\n",
       "  <thead>\n",
       "    <tr style=\"text-align: right;\">\n",
       "      <th></th>\n",
       "      <th>Unnamed: 0.1</th>\n",
       "      <th>Company Name</th>\n",
       "      <th>Location</th>\n",
       "      <th>0</th>\n",
       "    </tr>\n",
       "  </thead>\n",
       "  <tbody>\n",
       "    <tr>\n",
       "      <th>0</th>\n",
       "      <td>0</td>\n",
       "      <td>SpaceX</td>\n",
       "      <td>LC-39A, Kennedy Space Center, Florida, USA</td>\n",
       "      <td>Fri Aug 07, 2020 05:12 UTC</td>\n",
       "    </tr>\n",
       "    <tr>\n",
       "      <th>1</th>\n",
       "      <td>1</td>\n",
       "      <td>CASC</td>\n",
       "      <td>Site 9401 (SLS-2), Jiuquan Satellite Launch Ce...</td>\n",
       "      <td>Thu Aug 06, 2020 04:01 UTC</td>\n",
       "    </tr>\n",
       "    <tr>\n",
       "      <th>2</th>\n",
       "      <td>2</td>\n",
       "      <td>SpaceX</td>\n",
       "      <td>Pad A, Boca Chica, Texas, USA</td>\n",
       "      <td>Tue Aug 04, 2020 23:57 UTC</td>\n",
       "    </tr>\n",
       "    <tr>\n",
       "      <th>3</th>\n",
       "      <td>3</td>\n",
       "      <td>Roscosmos</td>\n",
       "      <td>Site 200/39, Baikonur Cosmodrome, Kazakhstan</td>\n",
       "      <td>Thu Jul 30, 2020 21:25 UTC</td>\n",
       "    </tr>\n",
       "    <tr>\n",
       "      <th>4</th>\n",
       "      <td>4</td>\n",
       "      <td>ULA</td>\n",
       "      <td>SLC-41, Cape Canaveral AFS, Florida, USA</td>\n",
       "      <td>Thu Jul 30, 2020 11:50 UTC</td>\n",
       "    </tr>\n",
       "    <tr>\n",
       "      <th>...</th>\n",
       "      <td>...</td>\n",
       "      <td>...</td>\n",
       "      <td>...</td>\n",
       "      <td>...</td>\n",
       "    </tr>\n",
       "    <tr>\n",
       "      <th>4319</th>\n",
       "      <td>4319</td>\n",
       "      <td>US Navy</td>\n",
       "      <td>LC-18A, Cape Canaveral AFS, Florida, USA</td>\n",
       "      <td>Wed Feb 05, 1958 07:33 UTC</td>\n",
       "    </tr>\n",
       "    <tr>\n",
       "      <th>4320</th>\n",
       "      <td>4320</td>\n",
       "      <td>AMBA</td>\n",
       "      <td>LC-26A, Cape Canaveral AFS, Florida, USA</td>\n",
       "      <td>Sat Feb 01, 1958 03:48 UTC</td>\n",
       "    </tr>\n",
       "    <tr>\n",
       "      <th>4321</th>\n",
       "      <td>4321</td>\n",
       "      <td>US Navy</td>\n",
       "      <td>LC-18A, Cape Canaveral AFS, Florida, USA</td>\n",
       "      <td>Fri Dec 06, 1957 16:44 UTC</td>\n",
       "    </tr>\n",
       "    <tr>\n",
       "      <th>4322</th>\n",
       "      <td>4322</td>\n",
       "      <td>RVSN USSR</td>\n",
       "      <td>Site 1/5, Baikonur Cosmodrome, Kazakhstan</td>\n",
       "      <td>Sun Nov 03, 1957 02:30 UTC</td>\n",
       "    </tr>\n",
       "    <tr>\n",
       "      <th>4323</th>\n",
       "      <td>4323</td>\n",
       "      <td>RVSN USSR</td>\n",
       "      <td>Site 1/5, Baikonur Cosmodrome, Kazakhstan</td>\n",
       "      <td>Fri Oct 04, 1957 19:28 UTC</td>\n",
       "    </tr>\n",
       "  </tbody>\n",
       "</table>\n",
       "<p>4324 rows × 4 columns</p>\n",
       "</div>"
      ],
      "text/plain": [
       "      Unnamed: 0.1 Company Name  \\\n",
       "0                0       SpaceX   \n",
       "1                1         CASC   \n",
       "2                2       SpaceX   \n",
       "3                3    Roscosmos   \n",
       "4                4          ULA   \n",
       "...            ...          ...   \n",
       "4319          4319      US Navy   \n",
       "4320          4320         AMBA   \n",
       "4321          4321      US Navy   \n",
       "4322          4322    RVSN USSR   \n",
       "4323          4323    RVSN USSR   \n",
       "\n",
       "                                               Location  \\\n",
       "0            LC-39A, Kennedy Space Center, Florida, USA   \n",
       "1     Site 9401 (SLS-2), Jiuquan Satellite Launch Ce...   \n",
       "2                         Pad A, Boca Chica, Texas, USA   \n",
       "3          Site 200/39, Baikonur Cosmodrome, Kazakhstan   \n",
       "4              SLC-41, Cape Canaveral AFS, Florida, USA   \n",
       "...                                                 ...   \n",
       "4319           LC-18A, Cape Canaveral AFS, Florida, USA   \n",
       "4320           LC-26A, Cape Canaveral AFS, Florida, USA   \n",
       "4321           LC-18A, Cape Canaveral AFS, Florida, USA   \n",
       "4322          Site 1/5, Baikonur Cosmodrome, Kazakhstan   \n",
       "4323          Site 1/5, Baikonur Cosmodrome, Kazakhstan   \n",
       "\n",
       "                               0  \n",
       "0     Fri Aug 07, 2020 05:12 UTC  \n",
       "1     Thu Aug 06, 2020 04:01 UTC  \n",
       "2     Tue Aug 04, 2020 23:57 UTC  \n",
       "3     Thu Jul 30, 2020 21:25 UTC  \n",
       "4     Thu Jul 30, 2020 11:50 UTC  \n",
       "...                          ...  \n",
       "4319  Wed Feb 05, 1958 07:33 UTC  \n",
       "4320  Sat Feb 01, 1958 03:48 UTC  \n",
       "4321  Fri Dec 06, 1957 16:44 UTC  \n",
       "4322  Sun Nov 03, 1957 02:30 UTC  \n",
       "4323  Fri Oct 04, 1957 19:28 UTC  \n",
       "\n",
       "[4324 rows x 4 columns]"
      ]
     },
     "execution_count": 44,
     "metadata": {},
     "output_type": "execute_result"
    }
   ],
   "source": [
    "new_df.reset_index()"
   ]
  },
  {
   "cell_type": "markdown",
   "metadata": {},
   "source": [
    "## Sorting"
   ]
  },
  {
   "cell_type": "markdown",
   "metadata": {},
   "source": [
    "Data in `new_df` is returned in index order, not in value order (when outputting the result of a `groupby`, the order of the rows is dependent on the values in the index, not in the data). \n",
    "\n",
    "To get data in the order we want it in use the `sort_values()` method, which defaults to an ascending sort, where the lowest values go first. "
   ]
  },
  {
   "cell_type": "code",
   "execution_count": 45,
   "metadata": {},
   "outputs": [
    {
     "data": {
      "text/html": [
       "<div>\n",
       "<style scoped>\n",
       "    .dataframe tbody tr th:only-of-type {\n",
       "        vertical-align: middle;\n",
       "    }\n",
       "\n",
       "    .dataframe tbody tr th {\n",
       "        vertical-align: top;\n",
       "    }\n",
       "\n",
       "    .dataframe thead th {\n",
       "        text-align: right;\n",
       "    }\n",
       "</style>\n",
       "<table border=\"1\" class=\"dataframe\">\n",
       "  <thead>\n",
       "    <tr style=\"text-align: right;\">\n",
       "      <th></th>\n",
       "      <th></th>\n",
       "      <th></th>\n",
       "      <th>0</th>\n",
       "    </tr>\n",
       "    <tr>\n",
       "      <th>Unnamed: 0.1</th>\n",
       "      <th>Company Name</th>\n",
       "      <th>Location</th>\n",
       "      <th></th>\n",
       "    </tr>\n",
       "  </thead>\n",
       "  <tbody>\n",
       "    <tr>\n",
       "      <th>0</th>\n",
       "      <th>SpaceX</th>\n",
       "      <th>LC-39A, Kennedy Space Center, Florida, USA</th>\n",
       "      <td>Fri Aug 07, 2020 05:12 UTC</td>\n",
       "    </tr>\n",
       "    <tr>\n",
       "      <th>1</th>\n",
       "      <th>CASC</th>\n",
       "      <th>Site 9401 (SLS-2), Jiuquan Satellite Launch Center, China</th>\n",
       "      <td>Thu Aug 06, 2020 04:01 UTC</td>\n",
       "    </tr>\n",
       "    <tr>\n",
       "      <th>2</th>\n",
       "      <th>SpaceX</th>\n",
       "      <th>Pad A, Boca Chica, Texas, USA</th>\n",
       "      <td>Tue Aug 04, 2020 23:57 UTC</td>\n",
       "    </tr>\n",
       "    <tr>\n",
       "      <th>3</th>\n",
       "      <th>Roscosmos</th>\n",
       "      <th>Site 200/39, Baikonur Cosmodrome, Kazakhstan</th>\n",
       "      <td>Thu Jul 30, 2020 21:25 UTC</td>\n",
       "    </tr>\n",
       "    <tr>\n",
       "      <th>4</th>\n",
       "      <th>ULA</th>\n",
       "      <th>SLC-41, Cape Canaveral AFS, Florida, USA</th>\n",
       "      <td>Thu Jul 30, 2020 11:50 UTC</td>\n",
       "    </tr>\n",
       "    <tr>\n",
       "      <th>...</th>\n",
       "      <th>...</th>\n",
       "      <th>...</th>\n",
       "      <td>...</td>\n",
       "    </tr>\n",
       "    <tr>\n",
       "      <th>4319</th>\n",
       "      <th>US Navy</th>\n",
       "      <th>LC-18A, Cape Canaveral AFS, Florida, USA</th>\n",
       "      <td>Wed Feb 05, 1958 07:33 UTC</td>\n",
       "    </tr>\n",
       "    <tr>\n",
       "      <th>4320</th>\n",
       "      <th>AMBA</th>\n",
       "      <th>LC-26A, Cape Canaveral AFS, Florida, USA</th>\n",
       "      <td>Sat Feb 01, 1958 03:48 UTC</td>\n",
       "    </tr>\n",
       "    <tr>\n",
       "      <th>4321</th>\n",
       "      <th>US Navy</th>\n",
       "      <th>LC-18A, Cape Canaveral AFS, Florida, USA</th>\n",
       "      <td>Fri Dec 06, 1957 16:44 UTC</td>\n",
       "    </tr>\n",
       "    <tr>\n",
       "      <th>4322</th>\n",
       "      <th>RVSN USSR</th>\n",
       "      <th>Site 1/5, Baikonur Cosmodrome, Kazakhstan</th>\n",
       "      <td>Sun Nov 03, 1957 02:30 UTC</td>\n",
       "    </tr>\n",
       "    <tr>\n",
       "      <th>4323</th>\n",
       "      <th>RVSN USSR</th>\n",
       "      <th>Site 1/5, Baikonur Cosmodrome, Kazakhstan</th>\n",
       "      <td>Fri Oct 04, 1957 19:28 UTC</td>\n",
       "    </tr>\n",
       "  </tbody>\n",
       "</table>\n",
       "<p>4324 rows × 1 columns</p>\n",
       "</div>"
      ],
      "text/plain": [
       "                                                                                                       0\n",
       "Unnamed: 0.1 Company Name Location                                                                      \n",
       "0            SpaceX       LC-39A, Kennedy Space Center, Florida, USA          Fri Aug 07, 2020 05:12 UTC\n",
       "1            CASC         Site 9401 (SLS-2), Jiuquan Satellite Launch Cen...  Thu Aug 06, 2020 04:01 UTC\n",
       "2            SpaceX       Pad A, Boca Chica, Texas, USA                       Tue Aug 04, 2020 23:57 UTC\n",
       "3            Roscosmos    Site 200/39, Baikonur Cosmodrome, Kazakhstan        Thu Jul 30, 2020 21:25 UTC\n",
       "4            ULA          SLC-41, Cape Canaveral AFS, Florida, USA            Thu Jul 30, 2020 11:50 UTC\n",
       "...                                                                                                  ...\n",
       "4319         US Navy      LC-18A, Cape Canaveral AFS, Florida, USA            Wed Feb 05, 1958 07:33 UTC\n",
       "4320         AMBA         LC-26A, Cape Canaveral AFS, Florida, USA            Sat Feb 01, 1958 03:48 UTC\n",
       "4321         US Navy      LC-18A, Cape Canaveral AFS, Florida, USA            Fri Dec 06, 1957 16:44 UTC\n",
       "4322         RVSN USSR    Site 1/5, Baikonur Cosmodrome, Kazakhstan           Sun Nov 03, 1957 02:30 UTC\n",
       "4323         RVSN USSR    Site 1/5, Baikonur Cosmodrome, Kazakhstan           Fri Oct 04, 1957 19:28 UTC\n",
       "\n",
       "[4324 rows x 1 columns]"
      ]
     },
     "execution_count": 45,
     "metadata": {},
     "output_type": "execute_result"
    }
   ],
   "source": [
    "new_df = pd.DataFrame(new_df)\n",
    "new_df.sort_values(by=\"Unnamed: 0.1\", ascending=True)"
   ]
  },
  {
   "cell_type": "markdown",
   "metadata": {},
   "source": [
    "You can sort by more than one column at a time:"
   ]
  },
  {
   "cell_type": "code",
   "execution_count": 46,
   "metadata": {},
   "outputs": [
    {
     "data": {
      "text/html": [
       "<div>\n",
       "<style scoped>\n",
       "    .dataframe tbody tr th:only-of-type {\n",
       "        vertical-align: middle;\n",
       "    }\n",
       "\n",
       "    .dataframe tbody tr th {\n",
       "        vertical-align: top;\n",
       "    }\n",
       "\n",
       "    .dataframe thead th {\n",
       "        text-align: right;\n",
       "    }\n",
       "</style>\n",
       "<table border=\"1\" class=\"dataframe\">\n",
       "  <thead>\n",
       "    <tr style=\"text-align: right;\">\n",
       "      <th></th>\n",
       "      <th></th>\n",
       "      <th></th>\n",
       "      <th>0</th>\n",
       "    </tr>\n",
       "    <tr>\n",
       "      <th>Unnamed: 0.1</th>\n",
       "      <th>Company Name</th>\n",
       "      <th>Location</th>\n",
       "      <th></th>\n",
       "    </tr>\n",
       "  </thead>\n",
       "  <tbody>\n",
       "    <tr>\n",
       "      <th>1032</th>\n",
       "      <th>AEB</th>\n",
       "      <th>VLS Pad, Alc?›ntara Launch Center, Maranh?œo, Brazil</th>\n",
       "      <td>Mon Aug 25, 2003</td>\n",
       "    </tr>\n",
       "    <tr>\n",
       "      <th>1221</th>\n",
       "      <th>AEB</th>\n",
       "      <th>VLS Pad, Alc?›ntara Launch Center, Maranh?œo, Brazil</th>\n",
       "      <td>Sat Dec 11, 1999 19:40 UTC</td>\n",
       "    </tr>\n",
       "    <tr>\n",
       "      <th>1354</th>\n",
       "      <th>AEB</th>\n",
       "      <th>VLS Pad, Alc?›ntara Launch Center, Maranh?œo, Brazil</th>\n",
       "      <td>Sun Nov 02, 1997</td>\n",
       "    </tr>\n",
       "    <tr>\n",
       "      <th>3711</th>\n",
       "      <th>AMBA</th>\n",
       "      <th>LA-5B, RAAF Woomera Range Complex, Australia</th>\n",
       "      <td>Wed Nov 29, 1967</td>\n",
       "    </tr>\n",
       "    <tr>\n",
       "      <th>4318</th>\n",
       "      <th>AMBA</th>\n",
       "      <th>LC-26A, Cape Canaveral AFS, Florida, USA</th>\n",
       "      <td>Wed Mar 05, 1958 18:27 UTC</td>\n",
       "    </tr>\n",
       "    <tr>\n",
       "      <th>...</th>\n",
       "      <th>...</th>\n",
       "      <th>...</th>\n",
       "      <td>...</td>\n",
       "    </tr>\n",
       "    <tr>\n",
       "      <th>1641</th>\n",
       "      <th>VKS RF</th>\n",
       "      <th>Site 90/20, Baikonur Cosmodrome, Kazakhstan</th>\n",
       "      <td>Tue Mar 30, 1993 12:00 UTC</td>\n",
       "    </tr>\n",
       "    <tr>\n",
       "      <th>27</th>\n",
       "      <th>Virgin Orbit</th>\n",
       "      <th>Cosmic Girl, Mojave Air and Space Port, California, USA</th>\n",
       "      <td>Mon May 25, 2020 19:50 UTC</td>\n",
       "    </tr>\n",
       "    <tr>\n",
       "      <th>1719</th>\n",
       "      <th>Yuzhmash</th>\n",
       "      <th>Site 32/2, Plesetsk Cosmodrome, Russia</th>\n",
       "      <td>Wed Dec 18, 1991 03:54 UTC</td>\n",
       "    </tr>\n",
       "    <tr>\n",
       "      <th>3514</th>\n",
       "      <th>Yuzhmash</th>\n",
       "      <th>Site 90/20, Baikonur Cosmodrome, Kazakhstan</th>\n",
       "      <td>Sat Nov 01, 1969 10:59 UTC</td>\n",
       "    </tr>\n",
       "    <tr>\n",
       "      <th>120</th>\n",
       "      <th>i-Space</th>\n",
       "      <th>Site 95, Jiuquan Satellite Launch Center, China</th>\n",
       "      <td>Thu Jul 25, 2019 05:00 UTC</td>\n",
       "    </tr>\n",
       "  </tbody>\n",
       "</table>\n",
       "<p>4324 rows × 1 columns</p>\n",
       "</div>"
      ],
      "text/plain": [
       "                                                                                                       0\n",
       "Unnamed: 0.1 Company Name Location                                                                      \n",
       "1032         AEB          VLS Pad, Alc?›ntara Launch Center, Maranh?œo, B...            Mon Aug 25, 2003\n",
       "1221         AEB          VLS Pad, Alc?›ntara Launch Center, Maranh?œo, B...  Sat Dec 11, 1999 19:40 UTC\n",
       "1354         AEB          VLS Pad, Alc?›ntara Launch Center, Maranh?œo, B...            Sun Nov 02, 1997\n",
       "3711         AMBA         LA-5B, RAAF Woomera Range Complex, Australia                  Wed Nov 29, 1967\n",
       "4318         AMBA         LC-26A, Cape Canaveral AFS, Florida, USA            Wed Mar 05, 1958 18:27 UTC\n",
       "...                                                                                                  ...\n",
       "1641         VKS RF       Site 90/20, Baikonur Cosmodrome, Kazakhstan         Tue Mar 30, 1993 12:00 UTC\n",
       "27           Virgin Orbit Cosmic Girl, Mojave Air and Space Port, Califor...  Mon May 25, 2020 19:50 UTC\n",
       "1719         Yuzhmash     Site 32/2, Plesetsk Cosmodrome, Russia              Wed Dec 18, 1991 03:54 UTC\n",
       "3514         Yuzhmash     Site 90/20, Baikonur Cosmodrome, Kazakhstan         Sat Nov 01, 1969 10:59 UTC\n",
       "120          i-Space      Site 95, Jiuquan Satellite Launch Center, China     Thu Jul 25, 2019 05:00 UTC\n",
       "\n",
       "[4324 rows x 1 columns]"
      ]
     },
     "execution_count": 46,
     "metadata": {},
     "output_type": "execute_result"
    }
   ],
   "source": [
    "new_df.sort_values(by=['Company Name', 'Location'])"
   ]
  },
  {
   "cell_type": "markdown",
   "metadata": {},
   "source": [
    "# Data Types and Missing Values"
   ]
  },
  {
   "cell_type": "markdown",
   "metadata": {},
   "source": [
    "## Data Types"
   ]
  },
  {
   "cell_type": "markdown",
   "metadata": {},
   "source": [
    "The data type for a column in a DataFrame or a Series is known as the `dtype`. Can use the dtype property to grab the type of a specific column. \n",
    "\n",
    "For instance, we can get the dtype of the launch cost column:"
   ]
  },
  {
   "cell_type": "code",
   "execution_count": 47,
   "metadata": {},
   "outputs": [
    {
     "name": "stdout",
     "output_type": "stream",
     "text": [
      "Rocket column dtype: float64\n",
      "Unnamed: 0.1 column dtype: int64\n",
      "Status Mission column dtype: object\n"
     ]
    }
   ],
   "source": [
    "print(f\"Rocket column dtype: {df[' Rocket'].dtype}\")\n",
    "print(f\"Unnamed: 0.1 column dtype: {df['Unnamed: 0.1'].dtype}\")\n",
    "print(f\"Status Mission column dtype: {df['Status Mission'].dtype}\")"
   ]
  },
  {
   "cell_type": "markdown",
   "metadata": {},
   "source": [
    "`dtypes` property returns the dtype of every column in the DataFrame:"
   ]
  },
  {
   "cell_type": "code",
   "execution_count": 48,
   "metadata": {},
   "outputs": [
    {
     "data": {
      "text/plain": [
       "Unnamed: 0.1        int64\n",
       "Company Name       object\n",
       "Location           object\n",
       "Datum              object\n",
       "Detail             object\n",
       "Status Rocket      object\n",
       " Rocket           float64\n",
       "Status Mission     object\n",
       "dtype: object"
      ]
     },
     "execution_count": 48,
     "metadata": {},
     "output_type": "execute_result"
    }
   ],
   "source": [
    "df.dtypes"
   ]
  },
  {
   "cell_type": "markdown",
   "metadata": {},
   "source": [
    "Data types tell us something about how pandas is storing the data internally e.g. `float64` means that it's using a 64-bit floating point number; `int64` means a similarly sized integer instead, etc. Pandas supports more exotic data types, such as categorical data and timeseries data.\n",
    "\n",
    "Keep in mind that columns consisting entirely of strings do not get their own type; they are instead given the `object` type."
   ]
  },
  {
   "cell_type": "markdown",
   "metadata": {},
   "source": [
    "It's possible to convert a column of one type into another by using the `astype()` function."
   ]
  },
  {
   "cell_type": "code",
   "execution_count": 49,
   "metadata": {},
   "outputs": [
    {
     "data": {
      "text/plain": [
       "0          50\n",
       "1       29.75\n",
       "2         NaN\n",
       "3          65\n",
       "4         145\n",
       "        ...  \n",
       "4319      NaN\n",
       "4320      NaN\n",
       "4321      NaN\n",
       "4322      NaN\n",
       "4323      NaN\n",
       "Name:  Rocket, Length: 4324, dtype: object"
      ]
     },
     "execution_count": 49,
     "metadata": {},
     "output_type": "execute_result"
    }
   ],
   "source": [
    "# Convert rocket cost to object:\n",
    "df[\" Rocket\"].astype(\"object\")"
   ]
  },
  {
   "cell_type": "markdown",
   "metadata": {},
   "source": [
    "## Missing Data"
   ]
  },
  {
   "cell_type": "markdown",
   "metadata": {},
   "source": [
    "Entries missing values are given the value `NaN` (\"Not a Number\"), always of the float64 dtype.\n",
    "\n",
    "To select NaN entries use `pd.isnull()` (or `pd.notnull()`):"
   ]
  },
  {
   "cell_type": "code",
   "execution_count": 50,
   "metadata": {},
   "outputs": [
    {
     "name": "stdout",
     "output_type": "stream",
     "text": [
      "Total rows in dataframe = 4324\n",
      "Rows with null Rocket value in dataframe = 3360\n",
      "Rows with Rocket value in dataframe = 964\n"
     ]
    }
   ],
   "source": [
    "print(f\"Total rows in dataframe = {df.shape[0]}\")\n",
    "print(f\"Rows with null Rocket value in dataframe = {df[pd.isnull(df[' Rocket'])].shape[0]}\")\n",
    "print(f\"Rows with Rocket value in dataframe = {df[pd.notnull(df[' Rocket'])].shape[0]}\")"
   ]
  },
  {
   "cell_type": "markdown",
   "metadata": {},
   "source": [
    "Replacing missing values is a common operation, and Pandas provides a method to replace missing values: `fillna()`, which allows for example to replace each NaN with an \"Unknown\":"
   ]
  },
  {
   "cell_type": "code",
   "execution_count": 51,
   "metadata": {},
   "outputs": [
    {
     "data": {
      "text/plain": [
       "0            50\n",
       "1         29.75\n",
       "2       Unknown\n",
       "3            65\n",
       "4           145\n",
       "         ...   \n",
       "4319    Unknown\n",
       "4320    Unknown\n",
       "4321    Unknown\n",
       "4322    Unknown\n",
       "4323    Unknown\n",
       "Name:  Rocket, Length: 4324, dtype: object"
      ]
     },
     "execution_count": 51,
     "metadata": {},
     "output_type": "execute_result"
    }
   ],
   "source": [
    "df[\" Rocket\"].fillna(\"Unknown\")"
   ]
  },
  {
   "cell_type": "markdown",
   "metadata": {},
   "source": [
    "Or can fill with other values e.g. first non-null value that appears (backfill strategy), minimum, mean, std, etc."
   ]
  },
  {
   "cell_type": "markdown",
   "metadata": {},
   "source": [
    "## Replacing non-null values"
   ]
  },
  {
   "cell_type": "markdown",
   "metadata": {},
   "source": [
    "Can be done using the `replace()` method e.g. to replace the \"Eurockot\" to \"ESA\". Useful when replacing not NaN values but data already labelled as \"Unknown\" with another value."
   ]
  },
  {
   "cell_type": "code",
   "execution_count": 52,
   "metadata": {},
   "outputs": [
    {
     "data": {
      "text/plain": [
       "0          SpaceX\n",
       "1            CASC\n",
       "2          SpaceX\n",
       "3       Roscosmos\n",
       "4             ULA\n",
       "          ...    \n",
       "4319      US Navy\n",
       "4320         AMBA\n",
       "4321      US Navy\n",
       "4322    RVSN USSR\n",
       "4323    RVSN USSR\n",
       "Name: Company Name, Length: 4324, dtype: object"
      ]
     },
     "execution_count": 52,
     "metadata": {},
     "output_type": "execute_result"
    }
   ],
   "source": [
    "df[\"Company Name\"].replace(\"Eurockot\", \"ESA\")"
   ]
  },
  {
   "cell_type": "markdown",
   "metadata": {},
   "source": [
    "# Renaming and Combining"
   ]
  },
  {
   "cell_type": "markdown",
   "metadata": {},
   "source": [
    "## Renaming"
   ]
  },
  {
   "cell_type": "markdown",
   "metadata": {},
   "source": [
    "Data may come with column names, index names, or other naming conventions that are not satisfactory. \n",
    "\n",
    "`rename()` allows us to index names and/or column names. For example, to change the \"Rocket\" column to \"Launch Cost\":"
   ]
  },
  {
   "cell_type": "code",
   "execution_count": 53,
   "metadata": {},
   "outputs": [
    {
     "data": {
      "text/plain": [
       "Index(['Unnamed: 0.1', 'Company Name', 'Location', 'Datum', 'Detail',\n",
       "       'Status Rocket', 'Launch Cost', 'Status Mission'],\n",
       "      dtype='object')"
      ]
     },
     "execution_count": 53,
     "metadata": {},
     "output_type": "execute_result"
    }
   ],
   "source": [
    "# Renaming column elements\n",
    "df.rename(columns={\" Rocket\":\"Launch Cost\"}).columns"
   ]
  },
  {
   "cell_type": "markdown",
   "metadata": {},
   "source": [
    "`rename()` allows us to rename index or column values by specifying a index or column keyword parameter, respectively. It supports many input formats but Python dictionary are preferred. Example renaming some index elements (but `set_index()` is usually more convenient):"
   ]
  },
  {
   "cell_type": "code",
   "execution_count": 54,
   "metadata": {},
   "outputs": [
    {
     "data": {
      "text/html": [
       "<div>\n",
       "<style scoped>\n",
       "    .dataframe tbody tr th:only-of-type {\n",
       "        vertical-align: middle;\n",
       "    }\n",
       "\n",
       "    .dataframe tbody tr th {\n",
       "        vertical-align: top;\n",
       "    }\n",
       "\n",
       "    .dataframe thead th {\n",
       "        text-align: right;\n",
       "    }\n",
       "</style>\n",
       "<table border=\"1\" class=\"dataframe\">\n",
       "  <thead>\n",
       "    <tr style=\"text-align: right;\">\n",
       "      <th></th>\n",
       "      <th>Unnamed: 0.1</th>\n",
       "      <th>Company Name</th>\n",
       "      <th>Location</th>\n",
       "      <th>Datum</th>\n",
       "      <th>Detail</th>\n",
       "      <th>Status Rocket</th>\n",
       "      <th>Rocket</th>\n",
       "      <th>Status Mission</th>\n",
       "    </tr>\n",
       "  </thead>\n",
       "  <tbody>\n",
       "    <tr>\n",
       "      <th>initial</th>\n",
       "      <td>0</td>\n",
       "      <td>SpaceX</td>\n",
       "      <td>LC-39A, Kennedy Space Center, Florida, USA</td>\n",
       "      <td>Fri Aug 07, 2020 05:12 UTC</td>\n",
       "      <td>Falcon 9 Block 5 | Starlink V1 L9 &amp; BlackSky</td>\n",
       "      <td>StatusActive</td>\n",
       "      <td>50.00</td>\n",
       "      <td>Success</td>\n",
       "    </tr>\n",
       "    <tr>\n",
       "      <th>1</th>\n",
       "      <td>1</td>\n",
       "      <td>CASC</td>\n",
       "      <td>Site 9401 (SLS-2), Jiuquan Satellite Launch Ce...</td>\n",
       "      <td>Thu Aug 06, 2020 04:01 UTC</td>\n",
       "      <td>Long March 2D | Gaofen-9 04 &amp; Q-SAT</td>\n",
       "      <td>StatusActive</td>\n",
       "      <td>29.75</td>\n",
       "      <td>Success</td>\n",
       "    </tr>\n",
       "  </tbody>\n",
       "</table>\n",
       "</div>"
      ],
      "text/plain": [
       "         Unnamed: 0.1 Company Name  \\\n",
       "initial             0       SpaceX   \n",
       "1                   1         CASC   \n",
       "\n",
       "                                                  Location  \\\n",
       "initial         LC-39A, Kennedy Space Center, Florida, USA   \n",
       "1        Site 9401 (SLS-2), Jiuquan Satellite Launch Ce...   \n",
       "\n",
       "                              Datum  \\\n",
       "initial  Fri Aug 07, 2020 05:12 UTC   \n",
       "1        Thu Aug 06, 2020 04:01 UTC   \n",
       "\n",
       "                                               Detail Status Rocket   Rocket  \\\n",
       "initial  Falcon 9 Block 5 | Starlink V1 L9 & BlackSky  StatusActive    50.00   \n",
       "1                 Long March 2D | Gaofen-9 04 & Q-SAT  StatusActive    29.75   \n",
       "\n",
       "        Status Mission  \n",
       "initial        Success  \n",
       "1              Success  "
      ]
     },
     "execution_count": 54,
     "metadata": {},
     "output_type": "execute_result"
    }
   ],
   "source": [
    "# Renaming index elements\n",
    "df.rename(index={0:\"initial\"}).head(2)"
   ]
  },
  {
   "cell_type": "markdown",
   "metadata": {},
   "source": [
    "Both the row index and the column index can have their own name attribute. The `rename_axis()` method may be used to change these names:"
   ]
  },
  {
   "cell_type": "code",
   "execution_count": 55,
   "metadata": {},
   "outputs": [
    {
     "data": {
      "text/html": [
       "<div>\n",
       "<style scoped>\n",
       "    .dataframe tbody tr th:only-of-type {\n",
       "        vertical-align: middle;\n",
       "    }\n",
       "\n",
       "    .dataframe tbody tr th {\n",
       "        vertical-align: top;\n",
       "    }\n",
       "\n",
       "    .dataframe thead th {\n",
       "        text-align: right;\n",
       "    }\n",
       "</style>\n",
       "<table border=\"1\" class=\"dataframe\">\n",
       "  <thead>\n",
       "    <tr style=\"text-align: right;\">\n",
       "      <th>Launch Attributes</th>\n",
       "      <th>Unnamed: 0.1</th>\n",
       "      <th>Company Name</th>\n",
       "      <th>Location</th>\n",
       "      <th>Datum</th>\n",
       "      <th>Detail</th>\n",
       "      <th>Status Rocket</th>\n",
       "      <th>Rocket</th>\n",
       "      <th>Status Mission</th>\n",
       "    </tr>\n",
       "    <tr>\n",
       "      <th>Space Mission Launches</th>\n",
       "      <th></th>\n",
       "      <th></th>\n",
       "      <th></th>\n",
       "      <th></th>\n",
       "      <th></th>\n",
       "      <th></th>\n",
       "      <th></th>\n",
       "      <th></th>\n",
       "    </tr>\n",
       "  </thead>\n",
       "  <tbody>\n",
       "    <tr>\n",
       "      <th>0</th>\n",
       "      <td>0</td>\n",
       "      <td>SpaceX</td>\n",
       "      <td>LC-39A, Kennedy Space Center, Florida, USA</td>\n",
       "      <td>Fri Aug 07, 2020 05:12 UTC</td>\n",
       "      <td>Falcon 9 Block 5 | Starlink V1 L9 &amp; BlackSky</td>\n",
       "      <td>StatusActive</td>\n",
       "      <td>50.00</td>\n",
       "      <td>Success</td>\n",
       "    </tr>\n",
       "    <tr>\n",
       "      <th>1</th>\n",
       "      <td>1</td>\n",
       "      <td>CASC</td>\n",
       "      <td>Site 9401 (SLS-2), Jiuquan Satellite Launch Ce...</td>\n",
       "      <td>Thu Aug 06, 2020 04:01 UTC</td>\n",
       "      <td>Long March 2D | Gaofen-9 04 &amp; Q-SAT</td>\n",
       "      <td>StatusActive</td>\n",
       "      <td>29.75</td>\n",
       "      <td>Success</td>\n",
       "    </tr>\n",
       "    <tr>\n",
       "      <th>2</th>\n",
       "      <td>2</td>\n",
       "      <td>SpaceX</td>\n",
       "      <td>Pad A, Boca Chica, Texas, USA</td>\n",
       "      <td>Tue Aug 04, 2020 23:57 UTC</td>\n",
       "      <td>Starship Prototype | 150 Meter Hop</td>\n",
       "      <td>StatusActive</td>\n",
       "      <td>NaN</td>\n",
       "      <td>Success</td>\n",
       "    </tr>\n",
       "  </tbody>\n",
       "</table>\n",
       "</div>"
      ],
      "text/plain": [
       "Launch Attributes       Unnamed: 0.1 Company Name  \\\n",
       "Space Mission Launches                              \n",
       "0                                  0       SpaceX   \n",
       "1                                  1         CASC   \n",
       "2                                  2       SpaceX   \n",
       "\n",
       "Launch Attributes                                                Location  \\\n",
       "Space Mission Launches                                                      \n",
       "0                              LC-39A, Kennedy Space Center, Florida, USA   \n",
       "1                       Site 9401 (SLS-2), Jiuquan Satellite Launch Ce...   \n",
       "2                                           Pad A, Boca Chica, Texas, USA   \n",
       "\n",
       "Launch Attributes                            Datum  \\\n",
       "Space Mission Launches                               \n",
       "0                       Fri Aug 07, 2020 05:12 UTC   \n",
       "1                       Thu Aug 06, 2020 04:01 UTC   \n",
       "2                       Tue Aug 04, 2020 23:57 UTC   \n",
       "\n",
       "Launch Attributes                                             Detail  \\\n",
       "Space Mission Launches                                                 \n",
       "0                       Falcon 9 Block 5 | Starlink V1 L9 & BlackSky   \n",
       "1                                Long March 2D | Gaofen-9 04 & Q-SAT   \n",
       "2                                 Starship Prototype | 150 Meter Hop   \n",
       "\n",
       "Launch Attributes      Status Rocket   Rocket Status Mission  \n",
       "Space Mission Launches                                        \n",
       "0                       StatusActive    50.00        Success  \n",
       "1                       StatusActive    29.75        Success  \n",
       "2                       StatusActive      NaN        Success  "
      ]
     },
     "execution_count": 55,
     "metadata": {},
     "output_type": "execute_result"
    }
   ],
   "source": [
    "df.rename_axis(\"Space Mission Launches\", axis=\"rows\").rename_axis(\"Launch Attributes\", axis=\"columns\").head(3)"
   ]
  },
  {
   "cell_type": "markdown",
   "metadata": {},
   "source": [
    "## Combining"
   ]
  },
  {
   "cell_type": "markdown",
   "metadata": {},
   "source": [
    "Sometimes need to combine different DataFrames and/or Series. Pandas has 3 core methods for doing this (in order of increasing complexity):\n",
    "* `concat()`: Simplest method. Given a list of elements, this function will smush those elements together along an axis. Useful when we have data in different DataFrame or Series objects but having the same fields (columns).\n",
    "* `join()`: Allows us to combine different DataFrame objects which have an index in common.\n",
    "* `merge()`: Most of what merge() can do can also be done more simply with join()"
   ]
  },
  {
   "cell_type": "markdown",
   "metadata": {},
   "source": [
    "### Concatenate"
   ]
  },
  {
   "cell_type": "markdown",
   "metadata": {},
   "source": [
    "Concatenate videos from GB and US:"
   ]
  },
  {
   "cell_type": "code",
   "execution_count": 56,
   "metadata": {},
   "outputs": [
    {
     "name": "stdout",
     "output_type": "stream",
     "text": [
      "GB youtube videos size: 38916\n",
      "US youtube videos size: 40949\n"
     ]
    }
   ],
   "source": [
    "# Loading 2 separate datasets of YT videos (GB and US)\n",
    "df_yt_GB = pd.read_csv(\"data/youtube-videos/GBvideos.csv\", index_col=0)\n",
    "df_yt_US = pd.read_csv(\"data/youtube-videos/USvideos.csv\", index_col=0)\n",
    "print(f\"GB youtube videos size: {df_yt_GB.shape[0]}\")\n",
    "print(f\"US youtube videos size: {df_yt_US.shape[0]}\")"
   ]
  },
  {
   "cell_type": "code",
   "execution_count": 57,
   "metadata": {},
   "outputs": [
    {
     "name": "stdout",
     "output_type": "stream",
     "text": [
      "Concatenated GB + US youtube videos size: 79865\n"
     ]
    },
    {
     "data": {
      "text/html": [
       "<div>\n",
       "<style scoped>\n",
       "    .dataframe tbody tr th:only-of-type {\n",
       "        vertical-align: middle;\n",
       "    }\n",
       "\n",
       "    .dataframe tbody tr th {\n",
       "        vertical-align: top;\n",
       "    }\n",
       "\n",
       "    .dataframe thead th {\n",
       "        text-align: right;\n",
       "    }\n",
       "</style>\n",
       "<table border=\"1\" class=\"dataframe\">\n",
       "  <thead>\n",
       "    <tr style=\"text-align: right;\">\n",
       "      <th></th>\n",
       "      <th>trending_date</th>\n",
       "      <th>title</th>\n",
       "      <th>channel_title</th>\n",
       "      <th>category_id</th>\n",
       "      <th>publish_time</th>\n",
       "      <th>tags</th>\n",
       "      <th>views</th>\n",
       "      <th>likes</th>\n",
       "      <th>dislikes</th>\n",
       "      <th>comment_count</th>\n",
       "      <th>thumbnail_link</th>\n",
       "      <th>comments_disabled</th>\n",
       "      <th>ratings_disabled</th>\n",
       "      <th>video_error_or_removed</th>\n",
       "      <th>description</th>\n",
       "    </tr>\n",
       "    <tr>\n",
       "      <th>video_id</th>\n",
       "      <th></th>\n",
       "      <th></th>\n",
       "      <th></th>\n",
       "      <th></th>\n",
       "      <th></th>\n",
       "      <th></th>\n",
       "      <th></th>\n",
       "      <th></th>\n",
       "      <th></th>\n",
       "      <th></th>\n",
       "      <th></th>\n",
       "      <th></th>\n",
       "      <th></th>\n",
       "      <th></th>\n",
       "      <th></th>\n",
       "    </tr>\n",
       "  </thead>\n",
       "  <tbody>\n",
       "    <tr>\n",
       "      <th>Jw1Y-zhQURU</th>\n",
       "      <td>17.14.11</td>\n",
       "      <td>John Lewis Christmas Ad 2017 - #MozTheMonster</td>\n",
       "      <td>John Lewis</td>\n",
       "      <td>26</td>\n",
       "      <td>2017-11-10T07:38:29.000Z</td>\n",
       "      <td>christmas|\"john lewis christmas\"|\"john lewis\"|...</td>\n",
       "      <td>7224515</td>\n",
       "      <td>55681</td>\n",
       "      <td>10247</td>\n",
       "      <td>9479</td>\n",
       "      <td>https://i.ytimg.com/vi/Jw1Y-zhQURU/default.jpg</td>\n",
       "      <td>False</td>\n",
       "      <td>False</td>\n",
       "      <td>False</td>\n",
       "      <td>Click here to continue the story and make your...</td>\n",
       "    </tr>\n",
       "    <tr>\n",
       "      <th>3s1rvMFUweQ</th>\n",
       "      <td>17.14.11</td>\n",
       "      <td>Taylor Swift: …Ready for It? (Live) - SNL</td>\n",
       "      <td>Saturday Night Live</td>\n",
       "      <td>24</td>\n",
       "      <td>2017-11-12T06:24:44.000Z</td>\n",
       "      <td>SNL|\"Saturday Night Live\"|\"SNL Season 43\"|\"Epi...</td>\n",
       "      <td>1053632</td>\n",
       "      <td>25561</td>\n",
       "      <td>2294</td>\n",
       "      <td>2757</td>\n",
       "      <td>https://i.ytimg.com/vi/3s1rvMFUweQ/default.jpg</td>\n",
       "      <td>False</td>\n",
       "      <td>False</td>\n",
       "      <td>False</td>\n",
       "      <td>Musical guest Taylor Swift performs …Ready for...</td>\n",
       "    </tr>\n",
       "    <tr>\n",
       "      <th>n1WpP7iowLc</th>\n",
       "      <td>17.14.11</td>\n",
       "      <td>Eminem - Walk On Water (Audio) ft. Beyoncé</td>\n",
       "      <td>EminemVEVO</td>\n",
       "      <td>10</td>\n",
       "      <td>2017-11-10T17:00:03.000Z</td>\n",
       "      <td>Eminem|\"Walk\"|\"On\"|\"Water\"|\"Aftermath/Shady/In...</td>\n",
       "      <td>17158579</td>\n",
       "      <td>787420</td>\n",
       "      <td>43420</td>\n",
       "      <td>125882</td>\n",
       "      <td>https://i.ytimg.com/vi/n1WpP7iowLc/default.jpg</td>\n",
       "      <td>False</td>\n",
       "      <td>False</td>\n",
       "      <td>False</td>\n",
       "      <td>Eminem's new track Walk on Water ft. Beyoncé i...</td>\n",
       "    </tr>\n",
       "  </tbody>\n",
       "</table>\n",
       "</div>"
      ],
      "text/plain": [
       "            trending_date                                          title  \\\n",
       "video_id                                                                   \n",
       "Jw1Y-zhQURU      17.14.11  John Lewis Christmas Ad 2017 - #MozTheMonster   \n",
       "3s1rvMFUweQ      17.14.11      Taylor Swift: …Ready for It? (Live) - SNL   \n",
       "n1WpP7iowLc      17.14.11     Eminem - Walk On Water (Audio) ft. Beyoncé   \n",
       "\n",
       "                   channel_title  category_id              publish_time  \\\n",
       "video_id                                                                  \n",
       "Jw1Y-zhQURU           John Lewis           26  2017-11-10T07:38:29.000Z   \n",
       "3s1rvMFUweQ  Saturday Night Live           24  2017-11-12T06:24:44.000Z   \n",
       "n1WpP7iowLc           EminemVEVO           10  2017-11-10T17:00:03.000Z   \n",
       "\n",
       "                                                          tags     views  \\\n",
       "video_id                                                                   \n",
       "Jw1Y-zhQURU  christmas|\"john lewis christmas\"|\"john lewis\"|...   7224515   \n",
       "3s1rvMFUweQ  SNL|\"Saturday Night Live\"|\"SNL Season 43\"|\"Epi...   1053632   \n",
       "n1WpP7iowLc  Eminem|\"Walk\"|\"On\"|\"Water\"|\"Aftermath/Shady/In...  17158579   \n",
       "\n",
       "              likes  dislikes  comment_count  \\\n",
       "video_id                                       \n",
       "Jw1Y-zhQURU   55681     10247           9479   \n",
       "3s1rvMFUweQ   25561      2294           2757   \n",
       "n1WpP7iowLc  787420     43420         125882   \n",
       "\n",
       "                                             thumbnail_link  \\\n",
       "video_id                                                      \n",
       "Jw1Y-zhQURU  https://i.ytimg.com/vi/Jw1Y-zhQURU/default.jpg   \n",
       "3s1rvMFUweQ  https://i.ytimg.com/vi/3s1rvMFUweQ/default.jpg   \n",
       "n1WpP7iowLc  https://i.ytimg.com/vi/n1WpP7iowLc/default.jpg   \n",
       "\n",
       "             comments_disabled  ratings_disabled  video_error_or_removed  \\\n",
       "video_id                                                                   \n",
       "Jw1Y-zhQURU              False             False                   False   \n",
       "3s1rvMFUweQ              False             False                   False   \n",
       "n1WpP7iowLc              False             False                   False   \n",
       "\n",
       "                                                   description  \n",
       "video_id                                                        \n",
       "Jw1Y-zhQURU  Click here to continue the story and make your...  \n",
       "3s1rvMFUweQ  Musical guest Taylor Swift performs …Ready for...  \n",
       "n1WpP7iowLc  Eminem's new track Walk on Water ft. Beyoncé i...  "
      ]
     },
     "execution_count": 57,
     "metadata": {},
     "output_type": "execute_result"
    }
   ],
   "source": [
    "# Concatenate YT videos from\n",
    "df_yt = pd.concat([df_yt_GB, df_yt_US])\n",
    "print(f\"Concatenated GB + US youtube videos size: {df_yt.shape[0]}\")\n",
    "df_yt.head(3)"
   ]
  },
  {
   "cell_type": "markdown",
   "metadata": {},
   "source": [
    "### Join"
   ]
  },
  {
   "cell_type": "markdown",
   "metadata": {},
   "source": [
    "The `lsuffix` and `rsuffix` parameters are necessary  because the data has the same column names in both British and Canadian datasets. If this wasn't true we wouldn't need them.\n",
    "\n",
    "Example: Pull down videos that happened to be trending on the same day in both GB and US:"
   ]
  },
  {
   "cell_type": "code",
   "execution_count": 58,
   "metadata": {},
   "outputs": [],
   "source": [
    "left = df_yt_GB.set_index([\"title\", \"trending_date\"])\n",
    "right = df_yt_US.set_index([\"title\", \"trending_date\"])"
   ]
  },
  {
   "cell_type": "code",
   "execution_count": 59,
   "metadata": {},
   "outputs": [
    {
     "data": {
      "text/html": [
       "<div>\n",
       "<style scoped>\n",
       "    .dataframe tbody tr th:only-of-type {\n",
       "        vertical-align: middle;\n",
       "    }\n",
       "\n",
       "    .dataframe tbody tr th {\n",
       "        vertical-align: top;\n",
       "    }\n",
       "\n",
       "    .dataframe thead th {\n",
       "        text-align: right;\n",
       "    }\n",
       "</style>\n",
       "<table border=\"1\" class=\"dataframe\">\n",
       "  <thead>\n",
       "    <tr style=\"text-align: right;\">\n",
       "      <th></th>\n",
       "      <th></th>\n",
       "      <th>channel_title_GB</th>\n",
       "      <th>category_id_GB</th>\n",
       "      <th>publish_time_GB</th>\n",
       "      <th>tags_GB</th>\n",
       "      <th>views_GB</th>\n",
       "      <th>likes_GB</th>\n",
       "      <th>dislikes_GB</th>\n",
       "      <th>comment_count_GB</th>\n",
       "      <th>thumbnail_link_GB</th>\n",
       "      <th>comments_disabled_GB</th>\n",
       "      <th>...</th>\n",
       "      <th>tags_US</th>\n",
       "      <th>views_US</th>\n",
       "      <th>likes_US</th>\n",
       "      <th>dislikes_US</th>\n",
       "      <th>comment_count_US</th>\n",
       "      <th>thumbnail_link_US</th>\n",
       "      <th>comments_disabled_US</th>\n",
       "      <th>ratings_disabled_US</th>\n",
       "      <th>video_error_or_removed_US</th>\n",
       "      <th>description_US</th>\n",
       "    </tr>\n",
       "    <tr>\n",
       "      <th>title</th>\n",
       "      <th>trending_date</th>\n",
       "      <th></th>\n",
       "      <th></th>\n",
       "      <th></th>\n",
       "      <th></th>\n",
       "      <th></th>\n",
       "      <th></th>\n",
       "      <th></th>\n",
       "      <th></th>\n",
       "      <th></th>\n",
       "      <th></th>\n",
       "      <th></th>\n",
       "      <th></th>\n",
       "      <th></th>\n",
       "      <th></th>\n",
       "      <th></th>\n",
       "      <th></th>\n",
       "      <th></th>\n",
       "      <th></th>\n",
       "      <th></th>\n",
       "      <th></th>\n",
       "      <th></th>\n",
       "    </tr>\n",
       "  </thead>\n",
       "  <tbody>\n",
       "    <tr>\n",
       "      <th rowspan=\"3\" valign=\"top\">#21 How to go FAST!!! Coaching famous youtuber MIKE BOYD</th>\n",
       "      <th>17.14.11</th>\n",
       "      <td>Ben Cathro</td>\n",
       "      <td>17</td>\n",
       "      <td>2017-11-05T20:10:16.000Z</td>\n",
       "      <td>Ben Cathro|\"sick skills\"|\"downhill\"|\"enduro\"|\"...</td>\n",
       "      <td>15466</td>\n",
       "      <td>677</td>\n",
       "      <td>8</td>\n",
       "      <td>139</td>\n",
       "      <td>https://i.ytimg.com/vi/NLCfRHdi6Ig/default.jpg</td>\n",
       "      <td>False</td>\n",
       "      <td>...</td>\n",
       "      <td>NaN</td>\n",
       "      <td>NaN</td>\n",
       "      <td>NaN</td>\n",
       "      <td>NaN</td>\n",
       "      <td>NaN</td>\n",
       "      <td>NaN</td>\n",
       "      <td>NaN</td>\n",
       "      <td>NaN</td>\n",
       "      <td>NaN</td>\n",
       "      <td>NaN</td>\n",
       "    </tr>\n",
       "    <tr>\n",
       "      <th>17.15.11</th>\n",
       "      <td>Ben Cathro</td>\n",
       "      <td>17</td>\n",
       "      <td>2017-11-05T20:10:16.000Z</td>\n",
       "      <td>Ben Cathro|\"sick skills\"|\"downhill\"|\"enduro\"|\"...</td>\n",
       "      <td>15818</td>\n",
       "      <td>686</td>\n",
       "      <td>8</td>\n",
       "      <td>141</td>\n",
       "      <td>https://i.ytimg.com/vi/NLCfRHdi6Ig/default.jpg</td>\n",
       "      <td>False</td>\n",
       "      <td>...</td>\n",
       "      <td>NaN</td>\n",
       "      <td>NaN</td>\n",
       "      <td>NaN</td>\n",
       "      <td>NaN</td>\n",
       "      <td>NaN</td>\n",
       "      <td>NaN</td>\n",
       "      <td>NaN</td>\n",
       "      <td>NaN</td>\n",
       "      <td>NaN</td>\n",
       "      <td>NaN</td>\n",
       "    </tr>\n",
       "    <tr>\n",
       "      <th>17.16.11</th>\n",
       "      <td>Ben Cathro</td>\n",
       "      <td>17</td>\n",
       "      <td>2017-11-05T20:10:16.000Z</td>\n",
       "      <td>Ben Cathro|\"sick skills\"|\"downhill\"|\"enduro\"|\"...</td>\n",
       "      <td>16074</td>\n",
       "      <td>689</td>\n",
       "      <td>8</td>\n",
       "      <td>142</td>\n",
       "      <td>https://i.ytimg.com/vi/NLCfRHdi6Ig/default.jpg</td>\n",
       "      <td>False</td>\n",
       "      <td>...</td>\n",
       "      <td>NaN</td>\n",
       "      <td>NaN</td>\n",
       "      <td>NaN</td>\n",
       "      <td>NaN</td>\n",
       "      <td>NaN</td>\n",
       "      <td>NaN</td>\n",
       "      <td>NaN</td>\n",
       "      <td>NaN</td>\n",
       "      <td>NaN</td>\n",
       "      <td>NaN</td>\n",
       "    </tr>\n",
       "    <tr>\n",
       "      <th rowspan=\"2\" valign=\"top\">#ConanHaiti Preview: Haitians Roast Trump  - CONAN on TBS</th>\n",
       "      <th>18.01.02</th>\n",
       "      <td>Team Coco</td>\n",
       "      <td>23</td>\n",
       "      <td>2018-01-23T03:52:25.000Z</td>\n",
       "      <td>[none]</td>\n",
       "      <td>520630</td>\n",
       "      <td>11403</td>\n",
       "      <td>1614</td>\n",
       "      <td>1693</td>\n",
       "      <td>https://i.ytimg.com/vi/ERyfRmz0N-w/default.jpg</td>\n",
       "      <td>False</td>\n",
       "      <td>...</td>\n",
       "      <td>NaN</td>\n",
       "      <td>NaN</td>\n",
       "      <td>NaN</td>\n",
       "      <td>NaN</td>\n",
       "      <td>NaN</td>\n",
       "      <td>NaN</td>\n",
       "      <td>NaN</td>\n",
       "      <td>NaN</td>\n",
       "      <td>NaN</td>\n",
       "      <td>NaN</td>\n",
       "    </tr>\n",
       "    <tr>\n",
       "      <th>18.02.02</th>\n",
       "      <td>Team Coco</td>\n",
       "      <td>23</td>\n",
       "      <td>2018-01-23T03:52:25.000Z</td>\n",
       "      <td>[none]</td>\n",
       "      <td>523158</td>\n",
       "      <td>11426</td>\n",
       "      <td>1616</td>\n",
       "      <td>1721</td>\n",
       "      <td>https://i.ytimg.com/vi/ERyfRmz0N-w/default.jpg</td>\n",
       "      <td>False</td>\n",
       "      <td>...</td>\n",
       "      <td>NaN</td>\n",
       "      <td>NaN</td>\n",
       "      <td>NaN</td>\n",
       "      <td>NaN</td>\n",
       "      <td>NaN</td>\n",
       "      <td>NaN</td>\n",
       "      <td>NaN</td>\n",
       "      <td>NaN</td>\n",
       "      <td>NaN</td>\n",
       "      <td>NaN</td>\n",
       "    </tr>\n",
       "  </tbody>\n",
       "</table>\n",
       "<p>5 rows × 26 columns</p>\n",
       "</div>"
      ],
      "text/plain": [
       "                                                                 channel_title_GB  \\\n",
       "title                                              trending_date                    \n",
       "#21 How to go FAST!!! Coaching famous youtuber ... 17.14.11            Ben Cathro   \n",
       "                                                   17.15.11            Ben Cathro   \n",
       "                                                   17.16.11            Ben Cathro   \n",
       "#ConanHaiti Preview: Haitians Roast Trump  - CO... 18.01.02             Team Coco   \n",
       "                                                   18.02.02             Team Coco   \n",
       "\n",
       "                                                                  category_id_GB  \\\n",
       "title                                              trending_date                   \n",
       "#21 How to go FAST!!! Coaching famous youtuber ... 17.14.11                   17   \n",
       "                                                   17.15.11                   17   \n",
       "                                                   17.16.11                   17   \n",
       "#ConanHaiti Preview: Haitians Roast Trump  - CO... 18.01.02                   23   \n",
       "                                                   18.02.02                   23   \n",
       "\n",
       "                                                                           publish_time_GB  \\\n",
       "title                                              trending_date                             \n",
       "#21 How to go FAST!!! Coaching famous youtuber ... 17.14.11       2017-11-05T20:10:16.000Z   \n",
       "                                                   17.15.11       2017-11-05T20:10:16.000Z   \n",
       "                                                   17.16.11       2017-11-05T20:10:16.000Z   \n",
       "#ConanHaiti Preview: Haitians Roast Trump  - CO... 18.01.02       2018-01-23T03:52:25.000Z   \n",
       "                                                   18.02.02       2018-01-23T03:52:25.000Z   \n",
       "\n",
       "                                                                                                            tags_GB  \\\n",
       "title                                              trending_date                                                      \n",
       "#21 How to go FAST!!! Coaching famous youtuber ... 17.14.11       Ben Cathro|\"sick skills\"|\"downhill\"|\"enduro\"|\"...   \n",
       "                                                   17.15.11       Ben Cathro|\"sick skills\"|\"downhill\"|\"enduro\"|\"...   \n",
       "                                                   17.16.11       Ben Cathro|\"sick skills\"|\"downhill\"|\"enduro\"|\"...   \n",
       "#ConanHaiti Preview: Haitians Roast Trump  - CO... 18.01.02                                                  [none]   \n",
       "                                                   18.02.02                                                  [none]   \n",
       "\n",
       "                                                                  views_GB  \\\n",
       "title                                              trending_date             \n",
       "#21 How to go FAST!!! Coaching famous youtuber ... 17.14.11          15466   \n",
       "                                                   17.15.11          15818   \n",
       "                                                   17.16.11          16074   \n",
       "#ConanHaiti Preview: Haitians Roast Trump  - CO... 18.01.02         520630   \n",
       "                                                   18.02.02         523158   \n",
       "\n",
       "                                                                  likes_GB  \\\n",
       "title                                              trending_date             \n",
       "#21 How to go FAST!!! Coaching famous youtuber ... 17.14.11            677   \n",
       "                                                   17.15.11            686   \n",
       "                                                   17.16.11            689   \n",
       "#ConanHaiti Preview: Haitians Roast Trump  - CO... 18.01.02          11403   \n",
       "                                                   18.02.02          11426   \n",
       "\n",
       "                                                                  dislikes_GB  \\\n",
       "title                                              trending_date                \n",
       "#21 How to go FAST!!! Coaching famous youtuber ... 17.14.11                 8   \n",
       "                                                   17.15.11                 8   \n",
       "                                                   17.16.11                 8   \n",
       "#ConanHaiti Preview: Haitians Roast Trump  - CO... 18.01.02              1614   \n",
       "                                                   18.02.02              1616   \n",
       "\n",
       "                                                                  comment_count_GB  \\\n",
       "title                                              trending_date                     \n",
       "#21 How to go FAST!!! Coaching famous youtuber ... 17.14.11                    139   \n",
       "                                                   17.15.11                    141   \n",
       "                                                   17.16.11                    142   \n",
       "#ConanHaiti Preview: Haitians Roast Trump  - CO... 18.01.02                   1693   \n",
       "                                                   18.02.02                   1721   \n",
       "\n",
       "                                                                                               thumbnail_link_GB  \\\n",
       "title                                              trending_date                                                   \n",
       "#21 How to go FAST!!! Coaching famous youtuber ... 17.14.11       https://i.ytimg.com/vi/NLCfRHdi6Ig/default.jpg   \n",
       "                                                   17.15.11       https://i.ytimg.com/vi/NLCfRHdi6Ig/default.jpg   \n",
       "                                                   17.16.11       https://i.ytimg.com/vi/NLCfRHdi6Ig/default.jpg   \n",
       "#ConanHaiti Preview: Haitians Roast Trump  - CO... 18.01.02       https://i.ytimg.com/vi/ERyfRmz0N-w/default.jpg   \n",
       "                                                   18.02.02       https://i.ytimg.com/vi/ERyfRmz0N-w/default.jpg   \n",
       "\n",
       "                                                                  comments_disabled_GB  \\\n",
       "title                                              trending_date                         \n",
       "#21 How to go FAST!!! Coaching famous youtuber ... 17.14.11                      False   \n",
       "                                                   17.15.11                      False   \n",
       "                                                   17.16.11                      False   \n",
       "#ConanHaiti Preview: Haitians Roast Trump  - CO... 18.01.02                      False   \n",
       "                                                   18.02.02                      False   \n",
       "\n",
       "                                                                  ...  \\\n",
       "title                                              trending_date  ...   \n",
       "#21 How to go FAST!!! Coaching famous youtuber ... 17.14.11       ...   \n",
       "                                                   17.15.11       ...   \n",
       "                                                   17.16.11       ...   \n",
       "#ConanHaiti Preview: Haitians Roast Trump  - CO... 18.01.02       ...   \n",
       "                                                   18.02.02       ...   \n",
       "\n",
       "                                                                  tags_US  \\\n",
       "title                                              trending_date            \n",
       "#21 How to go FAST!!! Coaching famous youtuber ... 17.14.11           NaN   \n",
       "                                                   17.15.11           NaN   \n",
       "                                                   17.16.11           NaN   \n",
       "#ConanHaiti Preview: Haitians Roast Trump  - CO... 18.01.02           NaN   \n",
       "                                                   18.02.02           NaN   \n",
       "\n",
       "                                                                  views_US  \\\n",
       "title                                              trending_date             \n",
       "#21 How to go FAST!!! Coaching famous youtuber ... 17.14.11            NaN   \n",
       "                                                   17.15.11            NaN   \n",
       "                                                   17.16.11            NaN   \n",
       "#ConanHaiti Preview: Haitians Roast Trump  - CO... 18.01.02            NaN   \n",
       "                                                   18.02.02            NaN   \n",
       "\n",
       "                                                                 likes_US  \\\n",
       "title                                              trending_date            \n",
       "#21 How to go FAST!!! Coaching famous youtuber ... 17.14.11           NaN   \n",
       "                                                   17.15.11           NaN   \n",
       "                                                   17.16.11           NaN   \n",
       "#ConanHaiti Preview: Haitians Roast Trump  - CO... 18.01.02           NaN   \n",
       "                                                   18.02.02           NaN   \n",
       "\n",
       "                                                                 dislikes_US  \\\n",
       "title                                              trending_date               \n",
       "#21 How to go FAST!!! Coaching famous youtuber ... 17.14.11              NaN   \n",
       "                                                   17.15.11              NaN   \n",
       "                                                   17.16.11              NaN   \n",
       "#ConanHaiti Preview: Haitians Roast Trump  - CO... 18.01.02              NaN   \n",
       "                                                   18.02.02              NaN   \n",
       "\n",
       "                                                                  comment_count_US  \\\n",
       "title                                              trending_date                     \n",
       "#21 How to go FAST!!! Coaching famous youtuber ... 17.14.11                    NaN   \n",
       "                                                   17.15.11                    NaN   \n",
       "                                                   17.16.11                    NaN   \n",
       "#ConanHaiti Preview: Haitians Roast Trump  - CO... 18.01.02                    NaN   \n",
       "                                                   18.02.02                    NaN   \n",
       "\n",
       "                                                                 thumbnail_link_US  \\\n",
       "title                                              trending_date                     \n",
       "#21 How to go FAST!!! Coaching famous youtuber ... 17.14.11                    NaN   \n",
       "                                                   17.15.11                    NaN   \n",
       "                                                   17.16.11                    NaN   \n",
       "#ConanHaiti Preview: Haitians Roast Trump  - CO... 18.01.02                    NaN   \n",
       "                                                   18.02.02                    NaN   \n",
       "\n",
       "                                                                 comments_disabled_US  \\\n",
       "title                                              trending_date                        \n",
       "#21 How to go FAST!!! Coaching famous youtuber ... 17.14.11                       NaN   \n",
       "                                                   17.15.11                       NaN   \n",
       "                                                   17.16.11                       NaN   \n",
       "#ConanHaiti Preview: Haitians Roast Trump  - CO... 18.01.02                       NaN   \n",
       "                                                   18.02.02                       NaN   \n",
       "\n",
       "                                                                  ratings_disabled_US  \\\n",
       "title                                              trending_date                        \n",
       "#21 How to go FAST!!! Coaching famous youtuber ... 17.14.11                       NaN   \n",
       "                                                   17.15.11                       NaN   \n",
       "                                                   17.16.11                       NaN   \n",
       "#ConanHaiti Preview: Haitians Roast Trump  - CO... 18.01.02                       NaN   \n",
       "                                                   18.02.02                       NaN   \n",
       "\n",
       "                                                                  video_error_or_removed_US  \\\n",
       "title                                              trending_date                              \n",
       "#21 How to go FAST!!! Coaching famous youtuber ... 17.14.11                             NaN   \n",
       "                                                   17.15.11                             NaN   \n",
       "                                                   17.16.11                             NaN   \n",
       "#ConanHaiti Preview: Haitians Roast Trump  - CO... 18.01.02                             NaN   \n",
       "                                                   18.02.02                             NaN   \n",
       "\n",
       "                                                                  description_US  \n",
       "title                                              trending_date                  \n",
       "#21 How to go FAST!!! Coaching famous youtuber ... 17.14.11                  NaN  \n",
       "                                                   17.15.11                  NaN  \n",
       "                                                   17.16.11                  NaN  \n",
       "#ConanHaiti Preview: Haitians Roast Trump  - CO... 18.01.02                  NaN  \n",
       "                                                   18.02.02                  NaN  \n",
       "\n",
       "[5 rows x 26 columns]"
      ]
     },
     "execution_count": 59,
     "metadata": {},
     "output_type": "execute_result"
    }
   ],
   "source": [
    "left.join(right, lsuffix='_GB', rsuffix='_US').head()"
   ]
  }
 ],
 "metadata": {
  "kernelspec": {
   "display_name": "Python 3",
   "language": "python",
   "name": "python3"
  },
  "language_info": {
   "codemirror_mode": {
    "name": "ipython",
    "version": 3
   },
   "file_extension": ".py",
   "mimetype": "text/x-python",
   "name": "python",
   "nbconvert_exporter": "python",
   "pygments_lexer": "ipython3",
   "version": "3.7.6"
  }
 },
 "nbformat": 4,
 "nbformat_minor": 4
}

{
 "cells": [
  {
   "cell_type": "markdown",
   "metadata": {
    "id": "01ME48KdNBDk"
   },
   "source": [
    "# General notes\n",
    "* Each code cell comes with a text cell that either explains what the cell does, briefly analyses the results or justifies the choice of some parameters.\n",
    "* Additional frameworks are used to gain extra functionality such as third-party frameworks like `matplotlib` for plotting results or native ones like `csv`, `time` or `os` for general utilities.\n",
    "* [PEP 8](https://www.python.org/dev/peps/pep-0008/) coding style followed across the entire code. "
   ]
  },
  {
   "cell_type": "markdown",
   "metadata": {
    "id": "OOLzk0qFN9lE"
   },
   "source": [
    "# Environment setup"
   ]
  },
  {
   "cell_type": "markdown",
   "metadata": {
    "id": "Ghr0hpXe26rW"
   },
   "source": [
    "Import necessary third-party libraries."
   ]
  },
  {
   "cell_type": "code",
   "execution_count": null,
   "metadata": {
    "id": "ZXBgWtLc115S"
   },
   "outputs": [],
   "source": [
    "import csv\n",
    "import time\n",
    "import os\n",
    "\n",
    "import matplotlib.pyplot as plt\n",
    "import numpy as np\n",
    "import pandas as pd\n",
    "import seaborn as sns\n",
    "import torch\n",
    "import torch.nn as nn\n",
    "import torch.nn.functional as F\n",
    "import torch.optim as optim\n",
    "import torch.utils as utils\n",
    "from torchsummary import summary\n",
    "from torchvision import datasets, transforms"
   ]
  },
  {
   "cell_type": "markdown",
   "metadata": {
    "id": "D0XVwr5JN4vR"
   },
   "source": [
    "Check PyTorch version and that GPU is available."
   ]
  },
  {
   "cell_type": "code",
   "execution_count": null,
   "metadata": {
    "colab": {
     "base_uri": "https://localhost:8080/",
     "height": 68
    },
    "id": "fd8ehpzwNB5z",
    "outputId": "0628dbf7-b097-406e-a689-28964d1e3356"
   },
   "outputs": [
    {
     "name": "stdout",
     "output_type": "stream",
     "text": [
      "PyTorch version: 1.6.0+cu101\n",
      "GPUs available: 1\n",
      "Device used: cuda:0\n"
     ]
    }
   ],
   "source": [
    "print(f\"PyTorch version: {torch.__version__}\")\n",
    "if torch.cuda.is_available():\n",
    "    device = torch.device(\"cuda:0\")\n",
    "    print(f\"GPUs available: {torch.cuda.device_count()}\")\n",
    "else:\n",
    "    device = torch.device(\"cpu\")\n",
    "print(f\"Device used: {device}\")\n"
   ]
  },
  {
   "cell_type": "markdown",
   "metadata": {
    "id": "hVV7EJ-smwL0"
   },
   "source": [
    "Seed all PyTorch random generators for results reproducibility."
   ]
  },
  {
   "cell_type": "code",
   "execution_count": null,
   "metadata": {
    "colab": {
     "base_uri": "https://localhost:8080/",
     "height": 34
    },
    "id": "bowg8S4imqno",
    "outputId": "d111580c-fdea-436f-d7dc-d11031ce954e"
   },
   "outputs": [
    {
     "data": {
      "text/plain": [
       "<torch._C.Generator at 0x7fd7170b7fc0>"
      ]
     },
     "execution_count": 3,
     "metadata": {
      "tags": []
     },
     "output_type": "execute_result"
    }
   ],
   "source": [
    "RANDOM_SEED = 7\n",
    "torch.manual_seed(RANDOM_SEED)"
   ]
  },
  {
   "cell_type": "markdown",
   "metadata": {
    "id": "DzZ4YMvd8xJR"
   },
   "source": [
    "Make plot outputs appear and be stored within the notebook."
   ]
  },
  {
   "cell_type": "code",
   "execution_count": null,
   "metadata": {
    "id": "6BbRqiVo8oNv"
   },
   "outputs": [],
   "source": [
    "%matplotlib inline"
   ]
  },
  {
   "cell_type": "markdown",
   "metadata": {
    "id": "KQqXZjK8E8Tf"
   },
   "source": [
    "# Data loading"
   ]
  },
  {
   "cell_type": "markdown",
   "metadata": {
    "id": "MFhAgfVKUELU"
   },
   "source": [
    "Data loading is conducted in three steps: Fashion MNIST data extraction from source, data transformation into tensors and data loading into a DataLoader for quick accessibility.\n",
    "\n",
    "Information about the Fashion-MNIST dataset *([source](https://arxiv.org/abs/1708.07747))*:\n",
    "* 70,000 images\n",
    "  * 60,000 training\n",
    "  * 10,000 testing\n",
    "* Images: greyscale 28x28px"
   ]
  },
  {
   "cell_type": "code",
   "execution_count": null,
   "metadata": {
    "colab": {
     "base_uri": "https://localhost:8080/",
     "height": 386,
     "referenced_widgets": [
      "9fd472ee46e54f6887cc9b2abbd1c5b3",
      "274dbaabbe1b492e8c28a79060a9cc98",
      "bb6f5dc8e6704b77bf976d4665937ba0",
      "50a5048e87374ef182ddc7afe596e310",
      "1bf5270ae4fb4f40b3f93ebb2879111b",
      "cb0adbe1054640ee9350bb62868ab9ae",
      "b288fb6dad2b4b9b9a49234f33c76ec9",
      "ec95d4c2e5f144d984e0013be2b3e644",
      "99642c7f3547459e9f86816cfda64f44",
      "57dd1a36e8df4b1fa9d0a0595e0b8132",
      "d2c35a7861f044f2b798dec6531fecd1",
      "b779de6b31524686b4b829276aa25472",
      "22ee4fac63cf4d2aac63eee159d6728d",
      "44cb5704d41d49d7a26afafc74c3ab01",
      "939571a6a4d54451aed38b7860fddebd",
      "2623f5fce38541ad9ddcaba7968e099f",
      "f298a95fef8e42eaafb8ae513cd78387",
      "84dd949fce3c48398fbe515fa12d336f",
      "ad906014d419442b87cf22a7be168294",
      "353b2a76f9244d99927b78e67fa87afe",
      "2e802d9c77b442e4b824ad91403ea5f3",
      "b51ab7eae80047ad971b4cd41417af1d",
      "90c954d1cd834879aec3070e26b73799",
      "1b1005b424b242c39d1d6b3c78aae64b",
      "269c008d29074334af97282ed237265c",
      "34144950c5ac409cad338b192d7333be",
      "54fdf0d650ba47e9914ca86ee4c79258",
      "41168be670d14ae6b09c145f92f5bff5",
      "eef1de59c90c4531a9a0735e11949c9d",
      "c43399cf5cd944148a2e57fdfae5b76f",
      "7f216b6ac6b646d1b3e83d695b101115",
      "48eca7339cf9466faea8c703e04c2e5a"
     ]
    },
    "id": "C-vV6Pzi2swl",
    "outputId": "d77ae664-f091-41f3-da1b-70cd090edf76"
   },
   "outputs": [
    {
     "name": "stdout",
     "output_type": "stream",
     "text": [
      "Downloading http://fashion-mnist.s3-website.eu-central-1.amazonaws.com/train-images-idx3-ubyte.gz to ./data/FashionMNIST/raw/train-images-idx3-ubyte.gz\n"
     ]
    },
    {
     "data": {
      "application/vnd.jupyter.widget-view+json": {
       "model_id": "9fd472ee46e54f6887cc9b2abbd1c5b3",
       "version_major": 2,
       "version_minor": 0
      },
      "text/plain": [
       "HBox(children=(FloatProgress(value=1.0, bar_style='info', max=1.0), HTML(value='')))"
      ]
     },
     "metadata": {
      "tags": []
     },
     "output_type": "display_data"
    },
    {
     "name": "stdout",
     "output_type": "stream",
     "text": [
      "Extracting ./data/FashionMNIST/raw/train-images-idx3-ubyte.gz to ./data/FashionMNIST/raw\n",
      "Downloading http://fashion-mnist.s3-website.eu-central-1.amazonaws.com/train-labels-idx1-ubyte.gz to ./data/FashionMNIST/raw/train-labels-idx1-ubyte.gz\n"
     ]
    },
    {
     "data": {
      "application/vnd.jupyter.widget-view+json": {
       "model_id": "99642c7f3547459e9f86816cfda64f44",
       "version_major": 2,
       "version_minor": 0
      },
      "text/plain": [
       "HBox(children=(FloatProgress(value=1.0, bar_style='info', max=1.0), HTML(value='')))"
      ]
     },
     "metadata": {
      "tags": []
     },
     "output_type": "display_data"
    },
    {
     "name": "stdout",
     "output_type": "stream",
     "text": [
      "Extracting ./data/FashionMNIST/raw/train-labels-idx1-ubyte.gz to ./data/FashionMNIST/raw\n",
      "Downloading http://fashion-mnist.s3-website.eu-central-1.amazonaws.com/t10k-images-idx3-ubyte.gz to ./data/FashionMNIST/raw/t10k-images-idx3-ubyte.gz\n",
      "\n"
     ]
    },
    {
     "data": {
      "application/vnd.jupyter.widget-view+json": {
       "model_id": "f298a95fef8e42eaafb8ae513cd78387",
       "version_major": 2,
       "version_minor": 0
      },
      "text/plain": [
       "HBox(children=(FloatProgress(value=1.0, bar_style='info', max=1.0), HTML(value='')))"
      ]
     },
     "metadata": {
      "tags": []
     },
     "output_type": "display_data"
    },
    {
     "name": "stdout",
     "output_type": "stream",
     "text": [
      "Extracting ./data/FashionMNIST/raw/t10k-images-idx3-ubyte.gz to ./data/FashionMNIST/raw\n",
      "Downloading http://fashion-mnist.s3-website.eu-central-1.amazonaws.com/t10k-labels-idx1-ubyte.gz to ./data/FashionMNIST/raw/t10k-labels-idx1-ubyte.gz\n"
     ]
    },
    {
     "data": {
      "application/vnd.jupyter.widget-view+json": {
       "model_id": "269c008d29074334af97282ed237265c",
       "version_major": 2,
       "version_minor": 0
      },
      "text/plain": [
       "HBox(children=(FloatProgress(value=1.0, bar_style='info', max=1.0), HTML(value='')))"
      ]
     },
     "metadata": {
      "tags": []
     },
     "output_type": "display_data"
    },
    {
     "name": "stdout",
     "output_type": "stream",
     "text": [
      "Extracting ./data/FashionMNIST/raw/t10k-labels-idx1-ubyte.gz to ./data/FashionMNIST/raw\n",
      "Processing...\n",
      "Done!\n"
     ]
    },
    {
     "name": "stderr",
     "output_type": "stream",
     "text": [
      "/usr/local/lib/python3.6/dist-packages/torchvision/datasets/mnist.py:469: UserWarning: The given NumPy array is not writeable, and PyTorch does not support non-writeable tensors. This means you can write to the underlying (supposedly non-writeable) NumPy array using the tensor. You may want to copy the array to protect its data or make it writeable before converting it to a tensor. This type of warning will be suppressed for the rest of this program. (Triggered internally at  /pytorch/torch/csrc/utils/tensor_numpy.cpp:141.)\n",
      "  return torch.from_numpy(parsed.astype(m[2], copy=False)).view(*s)\n"
     ]
    }
   ],
   "source": [
    "# Load the Fashion MNIST dataset directly from Pytorch's torchvision into \n",
    "# a training set (only conducted once).\n",
    "train = datasets.FashionMNIST(\n",
    "    root=\"./data\", \n",
    "    download=True, \n",
    "    train=True, \n",
    "    transform=transforms.Compose(\n",
    "        [transforms.ToTensor()]  # Transform to tensors for GPU optimisations\n",
    "    )  \n",
    ")\n",
    "\n",
    "# Later used class distribution plot.\n",
    "train_bin_counts_list = train.targets.bincount().tolist()"
   ]
  },
  {
   "cell_type": "markdown",
   "metadata": {
    "id": "-J4Bu--1pXy8"
   },
   "source": [
    "Split the training set into a training/validation sets with a traditional 80/20% ratio."
   ]
  },
  {
   "cell_type": "code",
   "execution_count": null,
   "metadata": {
    "id": "YHeuzqTVpXc-"
   },
   "outputs": [],
   "source": [
    "train, validation = utils.data.random_split(train, [50000, 10000])"
   ]
  },
  {
   "cell_type": "markdown",
   "metadata": {
    "id": "4pSxwJPPepFW"
   },
   "source": [
    "Load the data into a [DataLoader](https://pytorch.org/docs/stable/data.html#torch.utils.data.DataLoader) to allow the data to be easily iterated over."
   ]
  },
  {
   "cell_type": "code",
   "execution_count": null,
   "metadata": {
    "id": "goljYsh2Wv-o"
   },
   "outputs": [],
   "source": [
    "# Load data into DataLoader to make it easily accessible by the neural network.\n",
    "train_loader = utils.data.DataLoader(\n",
    "    train,\n",
    "    batch_size=64,\n",
    "    shuffle=True,\n",
    "    num_workers=0  # Load data in the main process.\n",
    ")\n",
    "validation_loader = utils.data.DataLoader(\n",
    "    validation,\n",
    "    batch_size=64,\n",
    "    shuffle=True,\n",
    "    num_workers=0\n",
    ")"
   ]
  },
  {
   "cell_type": "markdown",
   "metadata": {
    "id": "hNoscsb7eFYg"
   },
   "source": [
    "# Data visualisation"
   ]
  },
  {
   "cell_type": "markdown",
   "metadata": {
    "id": "9MRtim2keJ_U"
   },
   "source": [
    "Check if the dataset is balanced or not, which will determine if data pre-processing techniques for oversampling (e.g. data augmentation) or undersampling are required.\n",
    "\n",
    "--> There are 10 distinct target classes, each containing 6,000 sample, so the dataset is **balanced**. No further processing is required."
   ]
  },
  {
   "cell_type": "code",
   "execution_count": null,
   "metadata": {
    "colab": {
     "base_uri": "https://localhost:8080/",
     "height": 316
    },
    "id": "pDebRweLd9Rw",
    "outputId": "510b57e0-67cb-4bbe-f38b-8564c0cd305d"
   },
   "outputs": [
    {
     "name": "stdout",
     "output_type": "stream",
     "text": [
      "\n"
     ]
    },
    {
     "data": {
      "text/plain": [
       "<matplotlib.axes._subplots.AxesSubplot at 0x7fd72a31e048>"
      ]
     },
     "execution_count": 8,
     "metadata": {
      "tags": []
     },
     "output_type": "execute_result"
    },
    {
     "data": {
      "image/png": "[encoded data removed]",
      "text/plain": [
       "<Figure size 1080x288 with 1 Axes>"
      ]
     },
     "metadata": {
      "tags": []
     },
     "output_type": "display_data"
    },
    {
     "name": "stdout",
     "output_type": "stream",
     "text": [
      "\n"
     ]
    }
   ],
   "source": [
    "# Count number of samples for each label.\n",
    "label_counts = train_bin_counts_list\n",
    "\n",
    "# Plot distribution of class labels in a bar chart.\n",
    "target_labels = [x for x in range(0, len(label_counts), 1)]\n",
    "sns.set_style(\"darkgrid\")\n",
    "plt.figure(figsize=(15, 4))\n",
    "sns.barplot(x=target_labels, y=label_counts)"
   ]
  },
  {
   "cell_type": "markdown",
   "metadata": {
    "id": "OBdaJZdp12L_"
   },
   "source": [
    "For informative purposes, the following indexes correspond to the following labels *([source](https://github.com/zalandoresearch/fashion-mnist#labels))*:\n",
    "\n",
    "| Class Index |    Label    |\n",
    "|:-----------:|:-----------:|\n",
    "|      0      | T-shirt/top |\n",
    "|      1      |   Trouser   |\n",
    "|      2      |   Pullover  |\n",
    "|      3      |    Dress    |\n",
    "|      4      |     Coat    |\n",
    "|      5      |    Sandal   |\n",
    "|      6      |    Shirt    |\n",
    "|      7      |   Sneaker   |\n",
    "|      8      |     Bag     |\n",
    "|      9      |  Ankle boot |"
   ]
  },
  {
   "cell_type": "markdown",
   "metadata": {
    "id": "F_25Xu3dVQzA"
   },
   "source": [
    "# Build CNN model"
   ]
  },
  {
   "cell_type": "markdown",
   "metadata": {
    "id": "fIBX3iHHJeuq"
   },
   "source": [
    "Notes on important design considerations for the values chosen in the CNN's layers:\n",
    "* `in_channels` for `conv1` layer is set to 1 as the images are in greyscale (single channel).\n",
    "* `out_features` for `out` layer is 10, one for each target class in the dataset.\n",
    "* `in_features` for `fc` layer is 4,608. This number is calculated the following way: the feature map size (`out_channels`) of `conv2` is 512. Using the formula for calculating the output size after each convolutional layer `output_size = [(n-f+2p)/s]+1` (*where `n` is the size of the input, `f` the size of the filter, `p` the amount of padding and `s` the stride)*. The initial image size is `28px`, the filter size is `3`, the default values for padding (set to `0`) and the stride (`1`) are kept. Therefore, after `conv1`, the size goes from `28` to `26`. Then atfer `conv2`, the size is `24`. After the max pooling layer, the size is halved, making it `12`. Therefore the flattened size of the features reaching the fully connected layer is `32 * 12 * 12 = 4,608`.\n",
    "* There is no need to use a softmax activation function after output layer because cross-entropy loss already implements it (during training)."
   ]
  },
  {
   "cell_type": "code",
   "execution_count": null,
   "metadata": {
    "id": "XfnL-T_c4sOg"
   },
   "outputs": [],
   "source": [
    "class ConvolutionalNeuralNetwork(nn.Module):\n",
    "    \"\"\"\n",
    "    Custom CNN built using PyTorch's nn package.\n",
    "    \"\"\"\n",
    "\n",
    "    def __init__(self, dropout_probability=0.5):\n",
    "        \"\"\"\n",
    "        Define layers of the CNN as class attributes.\n",
    "        :param dropout_probability: The probability of neurons being dropped in \n",
    "        the dropout layer.\n",
    "        \"\"\"\n",
    "        super().__init__()  # Extend PyTorch's nn class.\n",
    "        self.conv1 = nn.Conv2d(in_channels=1, \n",
    "                               out_channels=16, \n",
    "                               kernel_size=(3, 3))\n",
    "        self.conv2 = nn.Conv2d(in_channels=16, \n",
    "                               out_channels=32, \n",
    "                               kernel_size=(3, 3))\n",
    "        self.fc = nn.Linear(in_features=4608, \n",
    "                            out_features=128)\n",
    "        self.dropout = nn.Dropout(p=dropout_probability)\n",
    "        self.out = nn.Linear(in_features=128, \n",
    "                             out_features=10)\n",
    "\n",
    "    def forward(self, tensor):\n",
    "        \"\"\"\n",
    "        Define the CNN's forward pass, returning the output.\n",
    "        Accepts a tensor that is transformed through the network's layers.\n",
    "        :param tensor: The neuron's input.\n",
    "        :return: The network's output.\n",
    "        \"\"\"\n",
    "        # First convolutional layer.\n",
    "        tensor = self.conv1(tensor)\n",
    "        tensor = F.relu(tensor)\n",
    "\n",
    "        # Second convolutional layer.\n",
    "        tensor = self.conv2(tensor)\n",
    "        tensor = F.relu(tensor)\n",
    "\n",
    "        # Max pooling layer.\n",
    "        tensor = F.max_pool2d(tensor, kernel_size=(2, 2))\n",
    "\n",
    "        # Flatten convolution/pooling layers output tensor.\n",
    "        tensor = tensor.view(-1, self.num_flat_features(tensor))\n",
    "        # tensor = tensor.reshape(tensor.size(0), -1) \n",
    "\n",
    "        # Fully connected layer.\n",
    "        tensor = self.fc(tensor)\n",
    "        tensor = F.relu(tensor)\n",
    "\n",
    "        # Dropout layer.\n",
    "        tensor = self.dropout(tensor)\n",
    "\n",
    "        # Output layer\n",
    "        tensor = self.out(tensor)\n",
    "        return tensor\n",
    "\n",
    "    def num_flat_features(self, tensor):\n",
    "        \"\"\"\n",
    "        Flattens number of channels, height and width into a single tensor.\n",
    "\n",
    "        Function adapted directly from PyTorch:\n",
    "        https://pytorch.org/tutorials/beginner/blitz/neural_networks_tutorial.html#define-the-network\n",
    "        :param tensor: The tensor to flatten.\n",
    "        :return: The flattened tensor.\n",
    "        \"\"\"\n",
    "        size = tensor.size()[1:]  # all dimensions except the batch dimension\n",
    "        num_features = 1\n",
    "        for s in size:\n",
    "            num_features *= s\n",
    "        return num_features\n",
    "\n"
   ]
  },
  {
   "cell_type": "markdown",
   "metadata": {
    "id": "dVbmoCftCU1c"
   },
   "source": [
    "# Training"
   ]
  },
  {
   "cell_type": "markdown",
   "metadata": {
    "id": "ttqO-58F8_D4"
   },
   "source": [
    "Helper functions for evaluating the CNN model's performance and saving after training."
   ]
  },
  {
   "cell_type": "code",
   "execution_count": null,
   "metadata": {
    "id": "-PyhE0Tl8C8C"
   },
   "outputs": [],
   "source": [
    "def calculate_accuracy(correct_predictions, set_length):\n",
    "    \"\"\"\n",
    "    Calculates the accuracy of all predictions on a given set. Formats it in a \n",
    "    percentage rounded to the 2nd nearest decimal.\n",
    "    :param correct_predictions: Number of correct predictions.\n",
    "    :param set_length: Length of data set.\n",
    "    :return: The rounded percentage of correct predictions.\n",
    "    \"\"\"\n",
    "    return round((correct_predictions / set_length) * 100, 2)\n",
    "\n",
    "\n",
    "def get_num_correct_predictions(preds, labels):\n",
    "    \"\"\"\n",
    "    Counts the number of correct predictions.\n",
    "    :param preds: Predictions made by the model for each image.\n",
    "    :param labels: Actual labels for each image.\n",
    "    :return: The total number of correct predictions.\n",
    "    \"\"\"\n",
    "    return preds.argmax(dim=1).eq(labels).sum().item()\n",
    "\n",
    "\n",
    "def save_model(model, p):\n",
    "    \"\"\"\n",
    "    Saves the learnable parameters of the model only (not the entire model) to \n",
    "    later be used for future predictions when restoring the model.\n",
    "    :param model: The model to save.\n",
    "    :param p: The dropout probability used for the model.\n",
    "    :return: None.\n",
    "    \"\"\"\n",
    "    # Create directory if it does not exist.\n",
    "    if not os.path.exists(\"./saved_models\"):\n",
    "        os.makedirs(\"./saved_models\")\n",
    "    # Save model.\n",
    "    torch.save(\n",
    "        model.state_dict(),\n",
    "        \"./saved_models/cnn_dropout_{}.pt\".format(str(p))\n",
    "    )"
   ]
  },
  {
   "cell_type": "markdown",
   "metadata": {
    "id": "8kAuDuN09Gt9"
   },
   "source": [
    "Training different CNNs over 10 epochs for the following dropout probabilities: 0.0, 0.5, 0.7, 0.9, 0.99, 0.999.\n",
    "\n",
    "Important design considerations:\n",
    "\n",
    "* `optimiser`: Adam (adaptive moment estimation) optimiser is chosen as adaptive learning rate algorithms usually generalise better than traditional optimisers like SGD or momentum, which are slow to converge and require more ﬁne-tuning. Indeed, Adam combines both momentum for more signiﬁcant steps in the direction of the steepest gradient and Root Mean Square Prop (RMSProp) for more accelerating on steep slopes than small slopes, making it the best initial choice for this model.\n",
    "* `loss`: Cross entropy is one of the most commonly used loss functions as it can be used for both binary and multi-class tasks. Because PyTorch's implementation of cross entropy estimates probabilities (softmax activation function), cross entropy is chosen as it will heavily penalise the CNN when a low probability is predicted for the target class.\n",
    "\n",
    "*Note: takes ~6 minutes to run on the GPU.*"
   ]
  },
  {
   "cell_type": "code",
   "execution_count": null,
   "metadata": {
    "colab": {
     "base_uri": "https://localhost:8080/",
     "height": 1000
    },
    "id": "G7aJxZAXEs0U",
    "outputId": "2da2c0f1-6fb6-4855-b5f0-893dbe757e30"
   },
   "outputs": [
    {
     "name": "stdout",
     "output_type": "stream",
     "text": [
      "\n",
      "Training CNN with dropout probability p=0.0\n",
      "Epoch #1 | Training loss: 369.2705 | Validation loss: 55.5858 | Training Accuracy: 82.61% | Epoch duration: 13.85s | Run duration: 21.89s\n",
      "Epoch #2 | Training loss: 260.4608 | Validation loss: 51.4999 | Training Accuracy: 87.84% | Epoch duration: 13.69s | Run duration: 35.58s\n",
      "Epoch #3 | Training loss: 234.7107 | Validation loss: 48.4855 | Training Accuracy: 88.94% | Epoch duration: 13.72s | Run duration: 49.31s\n",
      "Epoch #4 | Training loss: 218.5937 | Validation loss: 51.2921 | Training Accuracy: 89.6% | Epoch duration: 13.72s | Run duration: 63.02s\n",
      "Epoch #5 | Training loss: 209.0045 | Validation loss: 49.9898 | Training Accuracy: 90.07% | Epoch duration: 13.77s | Run duration: 76.8s\n",
      "Epoch #6 | Training loss: 199.6975 | Validation loss: 48.8259 | Training Accuracy: 90.45% | Epoch duration: 13.77s | Run duration: 90.57s\n",
      "Epoch #7 | Training loss: 192.7838 | Validation loss: 48.224 | Training Accuracy: 90.81% | Epoch duration: 13.82s | Run duration: 104.39s\n",
      "Epoch #8 | Training loss: 182.1608 | Validation loss: 47.5618 | Training Accuracy: 91.29% | Epoch duration: 13.79s | Run duration: 118.18s\n",
      "Epoch #9 | Training loss: 174.5233 | Validation loss: 54.1533 | Training Accuracy: 91.71% | Epoch duration: 13.83s | Run duration: 132.01s\n",
      "Epoch #10 | Training loss: 173.0555 | Validation loss: 54.6742 | Training Accuracy: 91.75% | Epoch duration: 13.78s | Run duration: 145.79s\n",
      "\n",
      "Training CNN with dropout probability p=0.5\n",
      "Epoch #1 | Training loss: 472.472 | Validation loss: 60.0198 | Training Accuracy: 77.75% | Epoch duration: 13.77s | Run duration: 13.78s\n",
      "Epoch #2 | Training loss: 347.1433 | Validation loss: 56.5021 | Training Accuracy: 83.83% | Epoch duration: 13.81s | Run duration: 27.58s\n",
      "Epoch #3 | Training loss: 323.2906 | Validation loss: 53.288 | Training Accuracy: 85.04% | Epoch duration: 13.77s | Run duration: 41.36s\n",
      "Epoch #4 | Training loss: 313.4129 | Validation loss: 52.804 | Training Accuracy: 85.44% | Epoch duration: 13.78s | Run duration: 55.14s\n",
      "Epoch #5 | Training loss: 301.3247 | Validation loss: 55.2063 | Training Accuracy: 85.98% | Epoch duration: 13.77s | Run duration: 68.91s\n",
      "Epoch #6 | Training loss: 294.7196 | Validation loss: 53.8004 | Training Accuracy: 86.28% | Epoch duration: 13.78s | Run duration: 82.69s\n",
      "Epoch #7 | Training loss: 292.7352 | Validation loss: 51.5216 | Training Accuracy: 86.22% | Epoch duration: 13.76s | Run duration: 96.46s\n",
      "Epoch #8 | Training loss: 287.248 | Validation loss: 54.3702 | Training Accuracy: 86.55% | Epoch duration: 13.78s | Run duration: 110.24s\n",
      "Epoch #9 | Training loss: 282.6031 | Validation loss: 56.5514 | Training Accuracy: 86.53% | Epoch duration: 13.76s | Run duration: 124.01s\n",
      "Epoch #10 | Training loss: 276.8864 | Validation loss: 52.5464 | Training Accuracy: 86.68% | Epoch duration: 13.8s | Run duration: 137.81s\n",
      "\n",
      "Training CNN with dropout probability p=0.7\n",
      "Epoch #1 | Training loss: 485.7495 | Validation loss: 58.9426 | Training Accuracy: 77.62% | Epoch duration: 13.77s | Run duration: 13.78s\n",
      "Epoch #2 | Training loss: 370.1712 | Validation loss: 52.5466 | Training Accuracy: 83.02% | Epoch duration: 13.81s | Run duration: 27.59s\n",
      "Epoch #3 | Training loss: 342.5012 | Validation loss: 53.9141 | Training Accuracy: 84.28% | Epoch duration: 13.78s | Run duration: 41.37s\n",
      "Epoch #4 | Training loss: 338.3223 | Validation loss: 51.0383 | Training Accuracy: 84.5% | Epoch duration: 13.79s | Run duration: 55.16s\n",
      "Epoch #5 | Training loss: 326.9972 | Validation loss: 53.2952 | Training Accuracy: 84.9% | Epoch duration: 13.81s | Run duration: 68.97s\n",
      "Epoch #6 | Training loss: 325.016 | Validation loss: 50.1298 | Training Accuracy: 85.01% | Epoch duration: 13.86s | Run duration: 82.83s\n",
      "Epoch #7 | Training loss: 313.1656 | Validation loss: 50.1008 | Training Accuracy: 85.49% | Epoch duration: 13.82s | Run duration: 96.65s\n",
      "Epoch #8 | Training loss: 311.5265 | Validation loss: 51.6782 | Training Accuracy: 85.37% | Epoch duration: 13.79s | Run duration: 110.44s\n",
      "Epoch #9 | Training loss: 312.9879 | Validation loss: 51.4115 | Training Accuracy: 85.53% | Epoch duration: 13.82s | Run duration: 124.26s\n",
      "Epoch #10 | Training loss: 306.8326 | Validation loss: 52.7916 | Training Accuracy: 85.81% | Epoch duration: 13.82s | Run duration: 138.08s\n",
      "\n",
      "Training CNN with dropout probability p=0.9\n",
      "Epoch #1 | Training loss: 1160.3915 | Validation loss: 115.3916 | Training Accuracy: 39.45% | Epoch duration: 13.84s | Run duration: 13.84s\n",
      "Epoch #2 | Training loss: 1039.1852 | Validation loss: 113.134 | Training Accuracy: 44.62% | Epoch duration: 13.77s | Run duration: 27.62s\n",
      "Epoch #3 | Training loss: 1007.7693 | Validation loss: 109.565 | Training Accuracy: 46.34% | Epoch duration: 13.82s | Run duration: 41.45s\n",
      "Epoch #4 | Training loss: 983.924 | Validation loss: 101.816 | Training Accuracy: 48.2% | Epoch duration: 13.8s | Run duration: 55.25s\n",
      "Epoch #5 | Training loss: 969.2528 | Validation loss: 102.9583 | Training Accuracy: 48.52% | Epoch duration: 13.87s | Run duration: 69.12s\n",
      "Epoch #6 | Training loss: 968.6426 | Validation loss: 100.8429 | Training Accuracy: 48.92% | Epoch duration: 13.75s | Run duration: 82.87s\n",
      "Epoch #7 | Training loss: 949.8327 | Validation loss: 97.3807 | Training Accuracy: 49.88% | Epoch duration: 13.82s | Run duration: 96.7s\n",
      "Epoch #8 | Training loss: 956.1675 | Validation loss: 116.474 | Training Accuracy: 49.81% | Epoch duration: 13.72s | Run duration: 110.42s\n",
      "Epoch #9 | Training loss: 957.5332 | Validation loss: 101.0649 | Training Accuracy: 49.83% | Epoch duration: 13.76s | Run duration: 124.18s\n",
      "Epoch #10 | Training loss: 933.1333 | Validation loss: 96.2663 | Training Accuracy: 51.8% | Epoch duration: 13.66s | Run duration: 137.84s\n",
      "\n",
      "Training CNN with dropout probability p=0.99\n",
      "Epoch #1 | Training loss: 1809.4644 | Validation loss: 361.6311 | Training Accuracy: 9.93% | Epoch duration: 13.74s | Run duration: 13.75s\n",
      "Epoch #2 | Training loss: 1801.4171 | Validation loss: 361.7606 | Training Accuracy: 10.08% | Epoch duration: 13.72s | Run duration: 27.47s\n",
      "Epoch #3 | Training loss: 1801.4081 | Validation loss: 361.7562 | Training Accuracy: 10.05% | Epoch duration: 13.74s | Run duration: 41.21s\n",
      "Epoch #4 | Training loss: 1801.4749 | Validation loss: 361.5931 | Training Accuracy: 9.98% | Epoch duration: 13.79s | Run duration: 55.01s\n",
      "Epoch #5 | Training loss: 1801.3812 | Validation loss: 361.676 | Training Accuracy: 10.07% | Epoch duration: 13.69s | Run duration: 68.7s\n",
      "Epoch #6 | Training loss: 1801.4178 | Validation loss: 361.6386 | Training Accuracy: 10.07% | Epoch duration: 13.81s | Run duration: 82.51s\n",
      "Epoch #7 | Training loss: 1801.521 | Validation loss: 361.5548 | Training Accuracy: 9.66% | Epoch duration: 13.64s | Run duration: 96.14s\n",
      "Epoch #8 | Training loss: 1801.3431 | Validation loss: 361.6294 | Training Accuracy: 10.19% | Epoch duration: 13.72s | Run duration: 109.87s\n",
      "Epoch #9 | Training loss: 1801.4154 | Validation loss: 361.5876 | Training Accuracy: 9.81% | Epoch duration: 13.67s | Run duration: 123.54s\n",
      "Epoch #10 | Training loss: 1801.3273 | Validation loss: 361.8184 | Training Accuracy: 9.95% | Epoch duration: 13.72s | Run duration: 137.27s\n",
      "\n",
      "Training CNN with dropout probability p=0.999\n",
      "Epoch #1 | Training loss: 1811.9522 | Validation loss: 361.9642 | Training Accuracy: 9.98% | Epoch duration: 13.68s | Run duration: 13.69s\n",
      "Epoch #2 | Training loss: 1801.3383 | Validation loss: 361.78 | Training Accuracy: 9.96% | Epoch duration: 13.74s | Run duration: 27.43s\n",
      "Epoch #3 | Training loss: 1801.236 | Validation loss: 361.9493 | Training Accuracy: 9.99% | Epoch duration: 13.71s | Run duration: 41.14s\n",
      "Epoch #4 | Training loss: 1801.4297 | Validation loss: 361.6205 | Training Accuracy: 9.87% | Epoch duration: 13.74s | Run duration: 54.88s\n",
      "Epoch #5 | Training loss: 1801.2683 | Validation loss: 361.6656 | Training Accuracy: 9.96% | Epoch duration: 13.67s | Run duration: 68.56s\n",
      "Epoch #6 | Training loss: 1801.3408 | Validation loss: 361.5718 | Training Accuracy: 9.91% | Epoch duration: 13.67s | Run duration: 82.23s\n",
      "Epoch #7 | Training loss: 1801.3802 | Validation loss: 361.7039 | Training Accuracy: 10.1% | Epoch duration: 13.69s | Run duration: 95.92s\n",
      "Epoch #8 | Training loss: 1801.5267 | Validation loss: 361.5065 | Training Accuracy: 9.92% | Epoch duration: 13.71s | Run duration: 109.63s\n",
      "Epoch #9 | Training loss: 1801.4293 | Validation loss: 361.5156 | Training Accuracy: 9.95% | Epoch duration: 13.69s | Run duration: 123.32s\n",
      "Epoch #10 | Training loss: 1801.4357 | Validation loss: 361.7346 | Training Accuracy: 9.73% | Epoch duration: 13.72s | Run duration: 137.04s\n",
      "CPU times: user 11min 46s, sys: 1min 58s, total: 13min 45s\n",
      "Wall time: 13min 53s\n"
     ]
    }
   ],
   "source": [
    "# Measure runtime directly in Jupyter.\n",
    "%%time\n",
    "\n",
    "# Create new file to write results to.\n",
    "csv_file = open(\"./training_results.csv\", 'w', newline='')\n",
    "with csv_file:\n",
    "    # Write headers\n",
    "    headers = [\n",
    "        \"Dropout\", \"Epoch #\", \"Training Loss\", \"Validation Loss\", \n",
    "        \"Training Accuracy (%)\", \"Epoch Duration (s)\",\n",
    "        \"Run Duration (s)\"\n",
    "    ]\n",
    "    csv_writer = csv.DictWriter(csv_file, fieldnames=headers)\n",
    "    csv_writer.writeheader()\n",
    "\n",
    "# Reactivate gradient calculations for training.\n",
    "torch.set_grad_enabled(True)\n",
    "\n",
    "# Train with different dropout probabilities.\n",
    "max_epochs = 10\n",
    "dropout_probabilities = [0.0, 0.5, 0.7, 0.9, 0.99, 0.999]\n",
    "for p in dropout_probabilities:\n",
    "\n",
    "    print(f\"\\nTraining CNN with dropout probability p={p}\")\n",
    "    run_start_time = time.time()\n",
    "\n",
    "    # Instantiate CNN model with desired probability directly on the GPU.\n",
    "    cnn = ConvolutionalNeuralNetwork(dropout_probability=p).to(device)\n",
    "    optimiser = optim.Adam(cnn.parameters(), lr=0.01)\n",
    "\n",
    "    # Train for 10 epochs.\n",
    "    for epoch in range(1, max_epochs + 1):  # Index epochs at 1, not 0\n",
    "\n",
    "        # Setup training mode & variables.\n",
    "        cnn.train()\n",
    "        train_loss = 0\n",
    "        val_loss = 0\n",
    "        total_correct_predictions = 0\n",
    "        epoch_start_time = time.time()\n",
    "\n",
    "        # Iterate over all batches in training set.\n",
    "        for batch in train_loader:\n",
    "            # Zero out gradients.\n",
    "            optimiser.zero_grad()\n",
    "\n",
    "            # Unpack images and labels from current batch.\n",
    "            images, labels = batch\n",
    "            images, labels = images.to(device), labels.to(device)\n",
    "\n",
    "            # Make predictions and calculate cross-entropy loss.\n",
    "            predictions = cnn(images)\n",
    "            loss = F.cross_entropy(predictions, labels)\n",
    "\n",
    "            # Calculate gradients of loss function w.r.t the CNN's weights used to \n",
    "            # update the network's weights.\n",
    "            loss.backward()\n",
    "            optimiser.step()\n",
    "\n",
    "            # Update overall loss.\n",
    "            train_loss += loss.item()\n",
    "            total_correct_predictions += get_num_correct_predictions(predictions, labels)\n",
    "\n",
    "        # Calculate loss for validation set.\n",
    "        with torch.no_grad():  # Disable gradient calculations for validation only.\n",
    "            for val_batch in validation_loader:\n",
    "                val_images, val_labels = val_batch\n",
    "                val_images, val_labels = val_images.to(device), val_labels.to(device)\n",
    "                cnn.eval()  # Evaluation mode.\n",
    "                val_preds = cnn(val_images)\n",
    "                val_loss += F.cross_entropy(val_preds, val_labels).item()\n",
    "\n",
    "        # Print current epoch results.\n",
    "        train_accuracy = calculate_accuracy(total_correct_predictions, len(train))\n",
    "        epoch_duration = round(time.time() - epoch_start_time, 2)\n",
    "        run_duration = round(time.time() - run_start_time, 2)\n",
    "        print(\n",
    "            \"Epoch #{} | Training loss: {} | Validation loss: {} | Training Accuracy: {}% | Epoch duration: {}s | Run duration: {}s\".format(\n",
    "                epoch,\n",
    "                round(train_loss, 4),\n",
    "                round(val_loss, 4),\n",
    "                train_accuracy,\n",
    "                epoch_duration,\n",
    "                run_duration\n",
    "            ))\n",
    "\n",
    "        # Save results to CSV file.\n",
    "        csv_file = open(\"./training_results.csv\", 'a+', newline='')\n",
    "        with csv_file:\n",
    "            csv_writer = csv.writer(csv_file)\n",
    "            csv_writer.writerows([[p, epoch, train_loss, val_loss, train_accuracy,\n",
    "                                   epoch_duration, run_duration]])\n",
    "\n",
    "    save_model(cnn, p)"
   ]
  },
  {
   "cell_type": "markdown",
   "metadata": {
    "id": "OPqMgJ94Rzje"
   },
   "source": [
    "View the results that were stored in the CSV file (to avoid running the training again for all dropout probability values), which can take roughly ~6 minutes."
   ]
  },
  {
   "cell_type": "code",
   "execution_count": null,
   "metadata": {
    "colab": {
     "base_uri": "https://localhost:8080/",
     "height": 1000
    },
    "id": "AKCDybzKNejV",
    "outputId": "d4352f52-34ec-4f3c-88d3-f2af4085f49a"
   },
   "outputs": [
    {
     "data": {
      "text/html": [
       "<div>\n",
       "<style scoped>\n",
       "    .dataframe tbody tr th:only-of-type {\n",
       "        vertical-align: middle;\n",
       "    }\n",
       "\n",
       "    .dataframe tbody tr th {\n",
       "        vertical-align: top;\n",
       "    }\n",
       "\n",
       "    .dataframe thead th {\n",
       "        text-align: right;\n",
       "    }\n",
       "</style>\n",
       "<table border=\"1\" class=\"dataframe\">\n",
       "  <thead>\n",
       "    <tr style=\"text-align: right;\">\n",
       "      <th></th>\n",
       "      <th>Dropout</th>\n",
       "      <th>Epoch #</th>\n",
       "      <th>Training Loss</th>\n",
       "      <th>Validation Loss</th>\n",
       "      <th>Training Accuracy (%)</th>\n",
       "      <th>Epoch Duration (s)</th>\n",
       "      <th>Run Duration (s)</th>\n",
       "    </tr>\n",
       "  </thead>\n",
       "  <tbody>\n",
       "    <tr>\n",
       "      <th>0</th>\n",
       "      <td>0.000</td>\n",
       "      <td>1</td>\n",
       "      <td>369.270547</td>\n",
       "      <td>55.585839</td>\n",
       "      <td>82.61</td>\n",
       "      <td>13.85</td>\n",
       "      <td>21.89</td>\n",
       "    </tr>\n",
       "    <tr>\n",
       "      <th>1</th>\n",
       "      <td>0.000</td>\n",
       "      <td>2</td>\n",
       "      <td>260.460752</td>\n",
       "      <td>51.499917</td>\n",
       "      <td>87.84</td>\n",
       "      <td>13.69</td>\n",
       "      <td>35.58</td>\n",
       "    </tr>\n",
       "    <tr>\n",
       "      <th>2</th>\n",
       "      <td>0.000</td>\n",
       "      <td>3</td>\n",
       "      <td>234.710699</td>\n",
       "      <td>48.485498</td>\n",
       "      <td>88.94</td>\n",
       "      <td>13.72</td>\n",
       "      <td>49.31</td>\n",
       "    </tr>\n",
       "    <tr>\n",
       "      <th>3</th>\n",
       "      <td>0.000</td>\n",
       "      <td>4</td>\n",
       "      <td>218.593656</td>\n",
       "      <td>51.292091</td>\n",
       "      <td>89.60</td>\n",
       "      <td>13.72</td>\n",
       "      <td>63.02</td>\n",
       "    </tr>\n",
       "    <tr>\n",
       "      <th>4</th>\n",
       "      <td>0.000</td>\n",
       "      <td>5</td>\n",
       "      <td>209.004535</td>\n",
       "      <td>49.989842</td>\n",
       "      <td>90.07</td>\n",
       "      <td>13.77</td>\n",
       "      <td>76.80</td>\n",
       "    </tr>\n",
       "    <tr>\n",
       "      <th>5</th>\n",
       "      <td>0.000</td>\n",
       "      <td>6</td>\n",
       "      <td>199.697465</td>\n",
       "      <td>48.825909</td>\n",
       "      <td>90.45</td>\n",
       "      <td>13.77</td>\n",
       "      <td>90.57</td>\n",
       "    </tr>\n",
       "    <tr>\n",
       "      <th>6</th>\n",
       "      <td>0.000</td>\n",
       "      <td>7</td>\n",
       "      <td>192.783769</td>\n",
       "      <td>48.223985</td>\n",
       "      <td>90.81</td>\n",
       "      <td>13.82</td>\n",
       "      <td>104.39</td>\n",
       "    </tr>\n",
       "    <tr>\n",
       "      <th>7</th>\n",
       "      <td>0.000</td>\n",
       "      <td>8</td>\n",
       "      <td>182.160786</td>\n",
       "      <td>47.561770</td>\n",
       "      <td>91.29</td>\n",
       "      <td>13.79</td>\n",
       "      <td>118.18</td>\n",
       "    </tr>\n",
       "    <tr>\n",
       "      <th>8</th>\n",
       "      <td>0.000</td>\n",
       "      <td>9</td>\n",
       "      <td>174.523337</td>\n",
       "      <td>54.153285</td>\n",
       "      <td>91.71</td>\n",
       "      <td>13.83</td>\n",
       "      <td>132.01</td>\n",
       "    </tr>\n",
       "    <tr>\n",
       "      <th>9</th>\n",
       "      <td>0.000</td>\n",
       "      <td>10</td>\n",
       "      <td>173.055520</td>\n",
       "      <td>54.674196</td>\n",
       "      <td>91.75</td>\n",
       "      <td>13.78</td>\n",
       "      <td>145.79</td>\n",
       "    </tr>\n",
       "    <tr>\n",
       "      <th>10</th>\n",
       "      <td>0.500</td>\n",
       "      <td>1</td>\n",
       "      <td>472.472038</td>\n",
       "      <td>60.019757</td>\n",
       "      <td>77.75</td>\n",
       "      <td>13.77</td>\n",
       "      <td>13.78</td>\n",
       "    </tr>\n",
       "    <tr>\n",
       "      <th>11</th>\n",
       "      <td>0.500</td>\n",
       "      <td>2</td>\n",
       "      <td>347.143335</td>\n",
       "      <td>56.502090</td>\n",
       "      <td>83.83</td>\n",
       "      <td>13.81</td>\n",
       "      <td>27.58</td>\n",
       "    </tr>\n",
       "    <tr>\n",
       "      <th>12</th>\n",
       "      <td>0.500</td>\n",
       "      <td>3</td>\n",
       "      <td>323.290596</td>\n",
       "      <td>53.288039</td>\n",
       "      <td>85.04</td>\n",
       "      <td>13.77</td>\n",
       "      <td>41.36</td>\n",
       "    </tr>\n",
       "    <tr>\n",
       "      <th>13</th>\n",
       "      <td>0.500</td>\n",
       "      <td>4</td>\n",
       "      <td>313.412940</td>\n",
       "      <td>52.803994</td>\n",
       "      <td>85.44</td>\n",
       "      <td>13.78</td>\n",
       "      <td>55.14</td>\n",
       "    </tr>\n",
       "    <tr>\n",
       "      <th>14</th>\n",
       "      <td>0.500</td>\n",
       "      <td>5</td>\n",
       "      <td>301.324699</td>\n",
       "      <td>55.206346</td>\n",
       "      <td>85.98</td>\n",
       "      <td>13.77</td>\n",
       "      <td>68.91</td>\n",
       "    </tr>\n",
       "    <tr>\n",
       "      <th>15</th>\n",
       "      <td>0.500</td>\n",
       "      <td>6</td>\n",
       "      <td>294.719611</td>\n",
       "      <td>53.800422</td>\n",
       "      <td>86.28</td>\n",
       "      <td>13.78</td>\n",
       "      <td>82.69</td>\n",
       "    </tr>\n",
       "    <tr>\n",
       "      <th>16</th>\n",
       "      <td>0.500</td>\n",
       "      <td>7</td>\n",
       "      <td>292.735161</td>\n",
       "      <td>51.521589</td>\n",
       "      <td>86.22</td>\n",
       "      <td>13.76</td>\n",
       "      <td>96.46</td>\n",
       "    </tr>\n",
       "    <tr>\n",
       "      <th>17</th>\n",
       "      <td>0.500</td>\n",
       "      <td>8</td>\n",
       "      <td>287.248012</td>\n",
       "      <td>54.370211</td>\n",
       "      <td>86.55</td>\n",
       "      <td>13.78</td>\n",
       "      <td>110.24</td>\n",
       "    </tr>\n",
       "    <tr>\n",
       "      <th>18</th>\n",
       "      <td>0.500</td>\n",
       "      <td>9</td>\n",
       "      <td>282.603099</td>\n",
       "      <td>56.551365</td>\n",
       "      <td>86.53</td>\n",
       "      <td>13.76</td>\n",
       "      <td>124.01</td>\n",
       "    </tr>\n",
       "    <tr>\n",
       "      <th>19</th>\n",
       "      <td>0.500</td>\n",
       "      <td>10</td>\n",
       "      <td>276.886365</td>\n",
       "      <td>52.546367</td>\n",
       "      <td>86.68</td>\n",
       "      <td>13.80</td>\n",
       "      <td>137.81</td>\n",
       "    </tr>\n",
       "    <tr>\n",
       "      <th>20</th>\n",
       "      <td>0.700</td>\n",
       "      <td>1</td>\n",
       "      <td>485.749518</td>\n",
       "      <td>58.942615</td>\n",
       "      <td>77.62</td>\n",
       "      <td>13.77</td>\n",
       "      <td>13.78</td>\n",
       "    </tr>\n",
       "    <tr>\n",
       "      <th>21</th>\n",
       "      <td>0.700</td>\n",
       "      <td>2</td>\n",
       "      <td>370.171217</td>\n",
       "      <td>52.546617</td>\n",
       "      <td>83.02</td>\n",
       "      <td>13.81</td>\n",
       "      <td>27.59</td>\n",
       "    </tr>\n",
       "    <tr>\n",
       "      <th>22</th>\n",
       "      <td>0.700</td>\n",
       "      <td>3</td>\n",
       "      <td>342.501219</td>\n",
       "      <td>53.914097</td>\n",
       "      <td>84.28</td>\n",
       "      <td>13.78</td>\n",
       "      <td>41.37</td>\n",
       "    </tr>\n",
       "    <tr>\n",
       "      <th>23</th>\n",
       "      <td>0.700</td>\n",
       "      <td>4</td>\n",
       "      <td>338.322323</td>\n",
       "      <td>51.038302</td>\n",
       "      <td>84.50</td>\n",
       "      <td>13.79</td>\n",
       "      <td>55.16</td>\n",
       "    </tr>\n",
       "    <tr>\n",
       "      <th>24</th>\n",
       "      <td>0.700</td>\n",
       "      <td>5</td>\n",
       "      <td>326.997189</td>\n",
       "      <td>53.295231</td>\n",
       "      <td>84.90</td>\n",
       "      <td>13.81</td>\n",
       "      <td>68.97</td>\n",
       "    </tr>\n",
       "    <tr>\n",
       "      <th>25</th>\n",
       "      <td>0.700</td>\n",
       "      <td>6</td>\n",
       "      <td>325.015989</td>\n",
       "      <td>50.129794</td>\n",
       "      <td>85.01</td>\n",
       "      <td>13.86</td>\n",
       "      <td>82.83</td>\n",
       "    </tr>\n",
       "    <tr>\n",
       "      <th>26</th>\n",
       "      <td>0.700</td>\n",
       "      <td>7</td>\n",
       "      <td>313.165591</td>\n",
       "      <td>50.100828</td>\n",
       "      <td>85.49</td>\n",
       "      <td>13.82</td>\n",
       "      <td>96.65</td>\n",
       "    </tr>\n",
       "    <tr>\n",
       "      <th>27</th>\n",
       "      <td>0.700</td>\n",
       "      <td>8</td>\n",
       "      <td>311.526479</td>\n",
       "      <td>51.678163</td>\n",
       "      <td>85.37</td>\n",
       "      <td>13.79</td>\n",
       "      <td>110.44</td>\n",
       "    </tr>\n",
       "    <tr>\n",
       "      <th>28</th>\n",
       "      <td>0.700</td>\n",
       "      <td>9</td>\n",
       "      <td>312.987936</td>\n",
       "      <td>51.411515</td>\n",
       "      <td>85.53</td>\n",
       "      <td>13.82</td>\n",
       "      <td>124.26</td>\n",
       "    </tr>\n",
       "    <tr>\n",
       "      <th>29</th>\n",
       "      <td>0.700</td>\n",
       "      <td>10</td>\n",
       "      <td>306.832640</td>\n",
       "      <td>52.791614</td>\n",
       "      <td>85.81</td>\n",
       "      <td>13.82</td>\n",
       "      <td>138.08</td>\n",
       "    </tr>\n",
       "    <tr>\n",
       "      <th>30</th>\n",
       "      <td>0.900</td>\n",
       "      <td>1</td>\n",
       "      <td>1160.391499</td>\n",
       "      <td>115.391631</td>\n",
       "      <td>39.45</td>\n",
       "      <td>13.84</td>\n",
       "      <td>13.84</td>\n",
       "    </tr>\n",
       "    <tr>\n",
       "      <th>31</th>\n",
       "      <td>0.900</td>\n",
       "      <td>2</td>\n",
       "      <td>1039.185240</td>\n",
       "      <td>113.134032</td>\n",
       "      <td>44.62</td>\n",
       "      <td>13.77</td>\n",
       "      <td>27.62</td>\n",
       "    </tr>\n",
       "    <tr>\n",
       "      <th>32</th>\n",
       "      <td>0.900</td>\n",
       "      <td>3</td>\n",
       "      <td>1007.769260</td>\n",
       "      <td>109.565046</td>\n",
       "      <td>46.34</td>\n",
       "      <td>13.82</td>\n",
       "      <td>41.45</td>\n",
       "    </tr>\n",
       "    <tr>\n",
       "      <th>33</th>\n",
       "      <td>0.900</td>\n",
       "      <td>4</td>\n",
       "      <td>983.924006</td>\n",
       "      <td>101.816028</td>\n",
       "      <td>48.20</td>\n",
       "      <td>13.80</td>\n",
       "      <td>55.25</td>\n",
       "    </tr>\n",
       "    <tr>\n",
       "      <th>34</th>\n",
       "      <td>0.900</td>\n",
       "      <td>5</td>\n",
       "      <td>969.252754</td>\n",
       "      <td>102.958287</td>\n",
       "      <td>48.52</td>\n",
       "      <td>13.87</td>\n",
       "      <td>69.12</td>\n",
       "    </tr>\n",
       "    <tr>\n",
       "      <th>35</th>\n",
       "      <td>0.900</td>\n",
       "      <td>6</td>\n",
       "      <td>968.642566</td>\n",
       "      <td>100.842893</td>\n",
       "      <td>48.92</td>\n",
       "      <td>13.75</td>\n",
       "      <td>82.87</td>\n",
       "    </tr>\n",
       "    <tr>\n",
       "      <th>36</th>\n",
       "      <td>0.900</td>\n",
       "      <td>7</td>\n",
       "      <td>949.832749</td>\n",
       "      <td>97.380679</td>\n",
       "      <td>49.88</td>\n",
       "      <td>13.82</td>\n",
       "      <td>96.70</td>\n",
       "    </tr>\n",
       "    <tr>\n",
       "      <th>37</th>\n",
       "      <td>0.900</td>\n",
       "      <td>8</td>\n",
       "      <td>956.167451</td>\n",
       "      <td>116.473966</td>\n",
       "      <td>49.81</td>\n",
       "      <td>13.72</td>\n",
       "      <td>110.42</td>\n",
       "    </tr>\n",
       "    <tr>\n",
       "      <th>38</th>\n",
       "      <td>0.900</td>\n",
       "      <td>9</td>\n",
       "      <td>957.533159</td>\n",
       "      <td>101.064887</td>\n",
       "      <td>49.83</td>\n",
       "      <td>13.76</td>\n",
       "      <td>124.18</td>\n",
       "    </tr>\n",
       "    <tr>\n",
       "      <th>39</th>\n",
       "      <td>0.900</td>\n",
       "      <td>10</td>\n",
       "      <td>933.133309</td>\n",
       "      <td>96.266328</td>\n",
       "      <td>51.80</td>\n",
       "      <td>13.66</td>\n",
       "      <td>137.84</td>\n",
       "    </tr>\n",
       "    <tr>\n",
       "      <th>40</th>\n",
       "      <td>0.990</td>\n",
       "      <td>1</td>\n",
       "      <td>1809.464431</td>\n",
       "      <td>361.631141</td>\n",
       "      <td>9.93</td>\n",
       "      <td>13.74</td>\n",
       "      <td>13.75</td>\n",
       "    </tr>\n",
       "    <tr>\n",
       "      <th>41</th>\n",
       "      <td>0.990</td>\n",
       "      <td>2</td>\n",
       "      <td>1801.417117</td>\n",
       "      <td>361.760633</td>\n",
       "      <td>10.08</td>\n",
       "      <td>13.72</td>\n",
       "      <td>27.47</td>\n",
       "    </tr>\n",
       "    <tr>\n",
       "      <th>42</th>\n",
       "      <td>0.990</td>\n",
       "      <td>3</td>\n",
       "      <td>1801.408131</td>\n",
       "      <td>361.756171</td>\n",
       "      <td>10.05</td>\n",
       "      <td>13.74</td>\n",
       "      <td>41.21</td>\n",
       "    </tr>\n",
       "    <tr>\n",
       "      <th>43</th>\n",
       "      <td>0.990</td>\n",
       "      <td>4</td>\n",
       "      <td>1801.474930</td>\n",
       "      <td>361.593059</td>\n",
       "      <td>9.98</td>\n",
       "      <td>13.79</td>\n",
       "      <td>55.01</td>\n",
       "    </tr>\n",
       "    <tr>\n",
       "      <th>44</th>\n",
       "      <td>0.990</td>\n",
       "      <td>5</td>\n",
       "      <td>1801.381250</td>\n",
       "      <td>361.676006</td>\n",
       "      <td>10.07</td>\n",
       "      <td>13.69</td>\n",
       "      <td>68.70</td>\n",
       "    </tr>\n",
       "    <tr>\n",
       "      <th>45</th>\n",
       "      <td>0.990</td>\n",
       "      <td>6</td>\n",
       "      <td>1801.417788</td>\n",
       "      <td>361.638606</td>\n",
       "      <td>10.07</td>\n",
       "      <td>13.81</td>\n",
       "      <td>82.51</td>\n",
       "    </tr>\n",
       "    <tr>\n",
       "      <th>46</th>\n",
       "      <td>0.990</td>\n",
       "      <td>7</td>\n",
       "      <td>1801.521015</td>\n",
       "      <td>361.554820</td>\n",
       "      <td>9.66</td>\n",
       "      <td>13.64</td>\n",
       "      <td>96.14</td>\n",
       "    </tr>\n",
       "    <tr>\n",
       "      <th>47</th>\n",
       "      <td>0.990</td>\n",
       "      <td>8</td>\n",
       "      <td>1801.343057</td>\n",
       "      <td>361.629353</td>\n",
       "      <td>10.19</td>\n",
       "      <td>13.72</td>\n",
       "      <td>109.87</td>\n",
       "    </tr>\n",
       "    <tr>\n",
       "      <th>48</th>\n",
       "      <td>0.990</td>\n",
       "      <td>9</td>\n",
       "      <td>1801.415383</td>\n",
       "      <td>361.587600</td>\n",
       "      <td>9.81</td>\n",
       "      <td>13.67</td>\n",
       "      <td>123.54</td>\n",
       "    </tr>\n",
       "    <tr>\n",
       "      <th>49</th>\n",
       "      <td>0.990</td>\n",
       "      <td>10</td>\n",
       "      <td>1801.327285</td>\n",
       "      <td>361.818387</td>\n",
       "      <td>9.95</td>\n",
       "      <td>13.72</td>\n",
       "      <td>137.27</td>\n",
       "    </tr>\n",
       "    <tr>\n",
       "      <th>50</th>\n",
       "      <td>0.999</td>\n",
       "      <td>1</td>\n",
       "      <td>1811.952167</td>\n",
       "      <td>361.964168</td>\n",
       "      <td>9.98</td>\n",
       "      <td>13.68</td>\n",
       "      <td>13.69</td>\n",
       "    </tr>\n",
       "    <tr>\n",
       "      <th>51</th>\n",
       "      <td>0.999</td>\n",
       "      <td>2</td>\n",
       "      <td>1801.338319</td>\n",
       "      <td>361.779996</td>\n",
       "      <td>9.96</td>\n",
       "      <td>13.74</td>\n",
       "      <td>27.43</td>\n",
       "    </tr>\n",
       "    <tr>\n",
       "      <th>52</th>\n",
       "      <td>0.999</td>\n",
       "      <td>3</td>\n",
       "      <td>1801.235988</td>\n",
       "      <td>361.949275</td>\n",
       "      <td>9.99</td>\n",
       "      <td>13.71</td>\n",
       "      <td>41.14</td>\n",
       "    </tr>\n",
       "    <tr>\n",
       "      <th>53</th>\n",
       "      <td>0.999</td>\n",
       "      <td>4</td>\n",
       "      <td>1801.429703</td>\n",
       "      <td>361.620518</td>\n",
       "      <td>9.87</td>\n",
       "      <td>13.74</td>\n",
       "      <td>54.88</td>\n",
       "    </tr>\n",
       "    <tr>\n",
       "      <th>54</th>\n",
       "      <td>0.999</td>\n",
       "      <td>5</td>\n",
       "      <td>1801.268306</td>\n",
       "      <td>361.665605</td>\n",
       "      <td>9.96</td>\n",
       "      <td>13.67</td>\n",
       "      <td>68.56</td>\n",
       "    </tr>\n",
       "    <tr>\n",
       "      <th>55</th>\n",
       "      <td>0.999</td>\n",
       "      <td>6</td>\n",
       "      <td>1801.340790</td>\n",
       "      <td>361.571761</td>\n",
       "      <td>9.91</td>\n",
       "      <td>13.67</td>\n",
       "      <td>82.23</td>\n",
       "    </tr>\n",
       "    <tr>\n",
       "      <th>56</th>\n",
       "      <td>0.999</td>\n",
       "      <td>7</td>\n",
       "      <td>1801.380203</td>\n",
       "      <td>361.703898</td>\n",
       "      <td>10.10</td>\n",
       "      <td>13.69</td>\n",
       "      <td>95.92</td>\n",
       "    </tr>\n",
       "    <tr>\n",
       "      <th>57</th>\n",
       "      <td>0.999</td>\n",
       "      <td>8</td>\n",
       "      <td>1801.526746</td>\n",
       "      <td>361.506541</td>\n",
       "      <td>9.92</td>\n",
       "      <td>13.71</td>\n",
       "      <td>109.63</td>\n",
       "    </tr>\n",
       "    <tr>\n",
       "      <th>58</th>\n",
       "      <td>0.999</td>\n",
       "      <td>9</td>\n",
       "      <td>1801.429260</td>\n",
       "      <td>361.515640</td>\n",
       "      <td>9.95</td>\n",
       "      <td>13.69</td>\n",
       "      <td>123.32</td>\n",
       "    </tr>\n",
       "    <tr>\n",
       "      <th>59</th>\n",
       "      <td>0.999</td>\n",
       "      <td>10</td>\n",
       "      <td>1801.435732</td>\n",
       "      <td>361.734615</td>\n",
       "      <td>9.73</td>\n",
       "      <td>13.72</td>\n",
       "      <td>137.04</td>\n",
       "    </tr>\n",
       "  </tbody>\n",
       "</table>\n",
       "</div>"
      ],
      "text/plain": [
       "    Dropout  Epoch #  ...  Epoch Duration (s)  Run Duration (s)\n",
       "0     0.000        1  ...               13.85             21.89\n",
       "1     0.000        2  ...               13.69             35.58\n",
       "2     0.000        3  ...               13.72             49.31\n",
       "3     0.000        4  ...               13.72             63.02\n",
       "4     0.000        5  ...               13.77             76.80\n",
       "5     0.000        6  ...               13.77             90.57\n",
       "6     0.000        7  ...               13.82            104.39\n",
       "7     0.000        8  ...               13.79            118.18\n",
       "8     0.000        9  ...               13.83            132.01\n",
       "9     0.000       10  ...               13.78            145.79\n",
       "10    0.500        1  ...               13.77             13.78\n",
       "11    0.500        2  ...               13.81             27.58\n",
       "12    0.500        3  ...               13.77             41.36\n",
       "13    0.500        4  ...               13.78             55.14\n",
       "14    0.500        5  ...               13.77             68.91\n",
       "15    0.500        6  ...               13.78             82.69\n",
       "16    0.500        7  ...               13.76             96.46\n",
       "17    0.500        8  ...               13.78            110.24\n",
       "18    0.500        9  ...               13.76            124.01\n",
       "19    0.500       10  ...               13.80            137.81\n",
       "20    0.700        1  ...               13.77             13.78\n",
       "21    0.700        2  ...               13.81             27.59\n",
       "22    0.700        3  ...               13.78             41.37\n",
       "23    0.700        4  ...               13.79             55.16\n",
       "24    0.700        5  ...               13.81             68.97\n",
       "25    0.700        6  ...               13.86             82.83\n",
       "26    0.700        7  ...               13.82             96.65\n",
       "27    0.700        8  ...               13.79            110.44\n",
       "28    0.700        9  ...               13.82            124.26\n",
       "29    0.700       10  ...               13.82            138.08\n",
       "30    0.900        1  ...               13.84             13.84\n",
       "31    0.900        2  ...               13.77             27.62\n",
       "32    0.900        3  ...               13.82             41.45\n",
       "33    0.900        4  ...               13.80             55.25\n",
       "34    0.900        5  ...               13.87             69.12\n",
       "35    0.900        6  ...               13.75             82.87\n",
       "36    0.900        7  ...               13.82             96.70\n",
       "37    0.900        8  ...               13.72            110.42\n",
       "38    0.900        9  ...               13.76            124.18\n",
       "39    0.900       10  ...               13.66            137.84\n",
       "40    0.990        1  ...               13.74             13.75\n",
       "41    0.990        2  ...               13.72             27.47\n",
       "42    0.990        3  ...               13.74             41.21\n",
       "43    0.990        4  ...               13.79             55.01\n",
       "44    0.990        5  ...               13.69             68.70\n",
       "45    0.990        6  ...               13.81             82.51\n",
       "46    0.990        7  ...               13.64             96.14\n",
       "47    0.990        8  ...               13.72            109.87\n",
       "48    0.990        9  ...               13.67            123.54\n",
       "49    0.990       10  ...               13.72            137.27\n",
       "50    0.999        1  ...               13.68             13.69\n",
       "51    0.999        2  ...               13.74             27.43\n",
       "52    0.999        3  ...               13.71             41.14\n",
       "53    0.999        4  ...               13.74             54.88\n",
       "54    0.999        5  ...               13.67             68.56\n",
       "55    0.999        6  ...               13.67             82.23\n",
       "56    0.999        7  ...               13.69             95.92\n",
       "57    0.999        8  ...               13.71            109.63\n",
       "58    0.999        9  ...               13.69            123.32\n",
       "59    0.999       10  ...               13.72            137.04\n",
       "\n",
       "[60 rows x 7 columns]"
      ]
     },
     "execution_count": 12,
     "metadata": {
      "tags": []
     },
     "output_type": "execute_result"
    }
   ],
   "source": [
    "results = pd.read_csv(\"./training_results.csv\")\n",
    "results"
   ]
  },
  {
   "cell_type": "markdown",
   "metadata": {
    "id": "JjnC-UEcNtXY"
   },
   "source": [
    "--> Based on the training results, using no dropout (`p=0`) yields the highest accuracies and the smallest losses. These models will now be tested on the test dataset.\n",
    "\n"
   ]
  },
  {
   "cell_type": "markdown",
   "metadata": {
    "id": "as33mRraSZeJ"
   },
   "source": [
    "# Test set evaluation"
   ]
  },
  {
   "cell_type": "markdown",
   "metadata": {
    "id": "nIE_56APSetV"
   },
   "source": [
    "Extract, transform  and load the test data."
   ]
  },
  {
   "cell_type": "code",
   "execution_count": null,
   "metadata": {
    "id": "GbUTNrUhSfl2"
   },
   "outputs": [],
   "source": [
    "# Load the Fashion MNIST dataset directly from Pytorch's torchvision into \n",
    "# a testing set (only conducted once).\n",
    "test = datasets.FashionMNIST(\n",
    "    root=\"./data\",\n",
    "    download=True,\n",
    "    train=False,\n",
    "    transform=transforms.Compose(\n",
    "        [transforms.ToTensor()]  # Transform to tensors for GPU optimisations\n",
    "    )\n",
    ")\n",
    "\n",
    "# Load data into DataLoader to make it easily accessible by the neural network.\n",
    "test_loader = utils.data.DataLoader(\n",
    "    test,\n",
    "    batch_size=1,\n",
    "    num_workers=0  # Load data in the main process.\n",
    ")"
   ]
  },
  {
   "cell_type": "markdown",
   "metadata": {
    "id": "FKFTTdHPi9iw"
   },
   "source": [
    "Make predictions on all trained CNNs that used different dropout probabilities using all samples from the test set."
   ]
  },
  {
   "cell_type": "code",
   "execution_count": null,
   "metadata": {
    "colab": {
     "base_uri": "https://localhost:8080/",
     "height": 51
    },
    "id": "Fxb4uEyvi-Cu",
    "outputId": "85dc712e-6079-4350-9d82-0c120349e0ff"
   },
   "outputs": [
    {
     "name": "stdout",
     "output_type": "stream",
     "text": [
      "CPU times: user 56.5 s, sys: 372 ms, total: 56.9 s\n",
      "Wall time: 57 s\n"
     ]
    }
   ],
   "source": [
    "%%time\n",
    "\n",
    "@torch.no_grad()\n",
    "def test_set_predictions(model, data_loader):\n",
    "    \"\"\"\n",
    "    Predicts all labels in a dataset for a trained model.\n",
    "    :param model: The restored trained model.\n",
    "    :param data_loader: The dataset loaded in a DataLoader.\n",
    "    :return: Predictions made by the model on the test set.\n",
    "    \"\"\"\n",
    "    all_preds = torch.tensor([]).to(device)\n",
    "    for batch in data_loader:\n",
    "        images, labels = batch\n",
    "        images, labels = images.to(device), labels.to(device)\n",
    "\n",
    "        # Make predictions and concatenate them in a tensor.\n",
    "        preds = model(images)\n",
    "        all_preds = torch.cat((all_preds, preds), dim=0)\n",
    "\n",
    "    return all_preds\n",
    "\n",
    "\n",
    "# Make predictions on the test set for the 6 previously trained models.\n",
    "test_results_df = pd.DataFrame(columns=[\"Dropout\", \"Accuracy (%)\"])\n",
    "dropout_probabilities = [0.0, 0.5, 0.7, 0.9, 0.99, 0.999]\n",
    "for p in dropout_probabilities:\n",
    "    # Load trained model using saved weights.\n",
    "    trained_cnn = ConvolutionalNeuralNetwork().to(device)\n",
    "    trained_cnn.load_state_dict(\n",
    "        torch.load(\"./saved_models/cnn_dropout_{}.pt\".format(str(p)))\n",
    "    )\n",
    "    trained_cnn.eval()\n",
    "\n",
    "    # Make predictions and append them to a dataframe.\n",
    "    test_preds = test_set_predictions(trained_cnn, test_loader)\n",
    "    test_preds_correct = get_num_correct_predictions(test_preds, \n",
    "                                                     test.targets.to(device))\n",
    "    test_results_df = test_results_df.append({\n",
    "        \"Dropout\": p,\n",
    "        \"Accuracy (%)\": calculate_accuracy(test_preds_correct, len(test))\n",
    "    }, ignore_index=True)\n",
    "\n",
    "# Save results to CSV.\n",
    "test_results_df.to_csv(\"./testing_results.csv\")"
   ]
  },
  {
   "cell_type": "code",
   "execution_count": null,
   "metadata": {
    "colab": {
     "base_uri": "https://localhost:8080/",
     "height": 235
    },
    "id": "o7d1mA91MUgy",
    "outputId": "59093beb-be93-4b7b-cad7-c7a40e0e995b"
   },
   "outputs": [
    {
     "data": {
      "text/html": [
       "<div>\n",
       "<style scoped>\n",
       "    .dataframe tbody tr th:only-of-type {\n",
       "        vertical-align: middle;\n",
       "    }\n",
       "\n",
       "    .dataframe tbody tr th {\n",
       "        vertical-align: top;\n",
       "    }\n",
       "\n",
       "    .dataframe thead th {\n",
       "        text-align: right;\n",
       "    }\n",
       "</style>\n",
       "<table border=\"1\" class=\"dataframe\">\n",
       "  <thead>\n",
       "    <tr style=\"text-align: right;\">\n",
       "      <th></th>\n",
       "      <th>Dropout</th>\n",
       "      <th>Accuracy (%)</th>\n",
       "    </tr>\n",
       "  </thead>\n",
       "  <tbody>\n",
       "    <tr>\n",
       "      <th>0</th>\n",
       "      <td>0.000</td>\n",
       "      <td>88.50</td>\n",
       "    </tr>\n",
       "    <tr>\n",
       "      <th>1</th>\n",
       "      <td>0.500</td>\n",
       "      <td>88.14</td>\n",
       "    </tr>\n",
       "    <tr>\n",
       "      <th>2</th>\n",
       "      <td>0.700</td>\n",
       "      <td>87.89</td>\n",
       "    </tr>\n",
       "    <tr>\n",
       "      <th>3</th>\n",
       "      <td>0.900</td>\n",
       "      <td>77.38</td>\n",
       "    </tr>\n",
       "    <tr>\n",
       "      <th>4</th>\n",
       "      <td>0.990</td>\n",
       "      <td>10.00</td>\n",
       "    </tr>\n",
       "    <tr>\n",
       "      <th>5</th>\n",
       "      <td>0.999</td>\n",
       "      <td>10.00</td>\n",
       "    </tr>\n",
       "  </tbody>\n",
       "</table>\n",
       "</div>"
      ],
      "text/plain": [
       "   Dropout  Accuracy (%)\n",
       "0    0.000         88.50\n",
       "1    0.500         88.14\n",
       "2    0.700         87.89\n",
       "3    0.900         77.38\n",
       "4    0.990         10.00\n",
       "5    0.999         10.00"
      ]
     },
     "execution_count": 15,
     "metadata": {
      "tags": []
     },
     "output_type": "execute_result"
    }
   ],
   "source": [
    "test_results_df"
   ]
  },
  {
   "cell_type": "markdown",
   "metadata": {
    "id": "zl7AVxHA7-FK"
   },
   "source": [
    "Make predictions from 5 random images from the test set using the best model (with `p=0`).\n",
    "\n",
    "*Note: different samples will be randomly extracted from the test set everytime the cell below is run.*"
   ]
  },
  {
   "cell_type": "code",
   "execution_count": null,
   "metadata": {
    "colab": {
     "base_uri": "https://localhost:8080/",
     "height": 207
    },
    "id": "lljMq57Q7-bU",
    "outputId": "35f54ff8-f6ff-4918-f5ad-66dd8d367e43"
   },
   "outputs": [
    {
     "data": {
      "image/png": "[encoded data removed]",
      "text/plain": [
       "<Figure size 1080x1080 with 5 Axes>"
      ]
     },
     "metadata": {
      "tags": []
     },
     "output_type": "display_data"
    }
   ],
   "source": [
    "# Get best model.\n",
    "best_cnn = ConvolutionalNeuralNetwork()\n",
    "best_cnn.load_state_dict(torch.load(\"./saved_models/cnn_dropout_0.0.pt\"))\n",
    "best_cnn.eval()\n",
    "\n",
    "# Sample 5 random images from the test set.\n",
    "to_sample = 5\n",
    "random_sampler = utils.data.RandomSampler(test, \n",
    "                                          replacement=True, \n",
    "                                          num_samples=to_sample)\n",
    "random_img_loader = utils.data.DataLoader(test, \n",
    "                                          sampler=random_sampler, \n",
    "                                          batch_size=1)\n",
    "\n",
    "# Retrieve those images and their labels.\n",
    "batch = next(iter(random_img_loader))\n",
    "images, labels = batch\n",
    "\n",
    "# Plot  the image, prediction and actual label for the 5 randomly samples imgs.\n",
    "plt.figure(figsize=(15, 15))\n",
    "for i, batch in enumerate(random_img_loader, start=1):\n",
    "    \n",
    "    # Get prediction and actual label.\n",
    "    image, label = batch\n",
    "    pred = test.classes[best_cnn(image).argmax(dim=1)[0]]\n",
    "    actual = test.classes[label.item()]\n",
    "\n",
    "    # Plot individual image.\n",
    "    plt.subplot(5, 5, i)\n",
    "    plt.imshow(image.reshape(28, 28), cmap=\"gray\")\n",
    "    plt.axis(\"off\")\n",
    "    plt.title(f\"Pred: {pred}\\nActual: {actual}\", fontsize=15)\n",
    "\n",
    "plt.show()"
   ]
  },
  {
   "cell_type": "markdown",
   "metadata": {
    "id": "FXtXPDww2xFf"
   },
   "source": [
    "Plotting test set accuracy for all dropout settings:"
   ]
  },
  {
   "cell_type": "code",
   "execution_count": null,
   "metadata": {
    "colab": {
     "base_uri": "https://localhost:8080/",
     "height": 350
    },
    "id": "L26SLfaY1R4Q",
    "outputId": "6eec4b0e-263e-42db-88b6-ef37caf9c926"
   },
   "outputs": [
    {
     "data": {
      "image/png": "[encoded data removed]",
      "text/plain": [
       "<Figure size 720x360 with 1 Axes>"
      ]
     },
     "metadata": {
      "tags": []
     },
     "output_type": "display_data"
    }
   ],
   "source": [
    "# Bar chart style.\n",
    "plt.figure(figsize=(10, 5))\n",
    "sns.set_style(\"darkgrid\")\n",
    "plt.title(\"Model accuracy w.r.t. dropout probability over testing \"\n",
    "          \"set after 10 epochs\")\n",
    "plt.xlabel(\"Dropout probability\")\n",
    "\n",
    "# Plot bar chart.\n",
    "barchart = sns.barplot(\n",
    "    x=test_results_df[\"Dropout\"],\n",
    "    y=test_results_df[\"Accuracy (%)\"],\n",
    "    palette=\"Reds\"\n",
    ")\n",
    "\n",
    "# Add labels for each bar.\n",
    "for index, row in test_results_df.iterrows():\n",
    "    barchart.text(row.name,\n",
    "                  row[\"Accuracy (%)\"],\n",
    "                  round(row[\"Accuracy (%)\"], 2),\n",
    "                  color='black',\n",
    "                  ha=\"center\")\n"
   ]
  },
  {
   "cell_type": "markdown",
   "metadata": {
    "id": "BpNL1cvdTwyG"
   },
   "source": [
    "# Analysis"
   ]
  },
  {
   "cell_type": "markdown",
   "metadata": {
    "id": "1-DljKcATlFX"
   },
   "source": [
    "## Analysis of Dropout\n",
    "\n",
    "### What is dropout?\n",
    "\n",
    "From my own understanding, dropout is a neural network regularisation technique that works by randomly ignoring neurons in any hidden layer during the forward and backward passes of training. The idea is that this will help prevent neurons from co-adapting too much with their neighbours and therefore overﬁtting the data as they now have to be \"useful\" on their own. Essentially, new thinner networks are created at each epoch/batch and identical networks will never be sampled in the same training phases due to the large amount of possible networks based on `p`. During testing (when `cnn.eval()` is used), the neurons are no longer dropped, and an averaged ensemble of all the thinner trained networks is used. This leads to models that **generalise better** thanks to neurons that are less sensitive to noise and small changes in the input.\n",
    "\n",
    "### Dropout on this CNN\n",
    "\n",
    "The values provided for the probability of dropping neurons ranged between `p=0.0, 0.5, 0.7, 0.9, 0.99, 0.999`. The best result achieved on the test set came when dropout probability was set to `p=0`, reaching 89.35%. However, setting `p=0.5` and `p=0.7` only decreased the accuracy to 88.59% and 87.49% respectively, indicating how large the range of acceptable results when choosing `p`. However, when `p` is too high i.e. `p>=0.9`, the accuracy plummets to 10% (as bad a random classifier) as too many neurons are being dropped and the regularisation is too important. Indeed, large networks like VGG16 can benefit from dropout due to their size, but this small network created in this notebook, which only contains 5 hidden layers, does not need to be regularised due to the large size of the dataset. Therefore, other regularisations techniques could be used either on their own or in parallel to dropout. For example, Lasso regularisation, L2-weight decay or Max-norm regularisation can be used instead of dropout (or with dropout) on such a small network to determine the amount required. Ultimately, the fact that the best model was found without dropout (`p=0`) shows that this model is too small to be regularised using dropout. Perhaps if the training was allowed to continue beyond 10 epochs and converge, then dropout would have been more efficient since more thinner networks would have been averaged into a stronger one during for testing. But time constraints prevented me from testing this theory at the moment.\n",
    "\n",
    "\n",
    "## General Analysis & Takeaways\n",
    "\n",
    "Considering that this task was completed in 2 days (Monday 19/10 and Tuesday 20/10), and that only 10 epochs were used for training, a top accuracy of 89.70% is acceptable. Simply allowing the model to converge during training will already yield higher results, and more advanced models such as VGG or ResNet could be used with transfer learning to speed up the training process and further increase accuracy.\n",
    "\n",
    "From a general perspective, more robust optimisation techniques such as grid search, randomised search or [genetic algorithms](https://www.linkedin.com/pulse/hyper-parameter-optimisation-using-genetic-algorithms-conor-rothwell/) could be run to fine-tune even more hyperparameters for this model rather than just the dropout probability. For example, the learning rate, optimiser, early stopping variables, number of hidden layers and neurons in each, etc. could all be explored to determine how better results could be reached.\n",
    "\n",
    "For evaluating the model, better metrics than just accuracy could be used, especially given that this is a multi-class classification task. Precision, recall and F1-score are metrics that could all be used and are more informative and robust than accuracy. For visual analysis, confusion matrices, ROC and AUC curves could also be plotted to understand where the model is struggling (perhaps it's confusing two types of clothing with each other, in which case the model can be modified to favour the learning of features for telling these apart).\n",
    "\n",
    "\n",
    "This task only focused on the actual ML part of a machine learning engineer roles. Indeed, the data is already all prepared and highly pre-processed (balanced, split, already converted to PNG, trimmed, resized, sharpened, extended, negated and greyscaled), essentially trimming the job by more than 60%!"
   ]
  }
 ],
 "metadata": {
  "accelerator": "GPU",
  "colab": {
   "collapsed_sections": [],
   "name": "Bird.i ML Exercise",
   "provenance": []
  },
  "kernelspec": {
   "display_name": "Python 3",
   "language": "python",
   "name": "python3"
  },
  "language_info": {
   "codemirror_mode": {
    "name": "ipython",
    "version": 3
   },
   "file_extension": ".py",
   "mimetype": "text/x-python",
   "name": "python",
   "nbconvert_exporter": "python",
   "pygments_lexer": "ipython3",
   "version": "3.7.6"
  },
  "widgets": {
   "application/vnd.jupyter.widget-state+json": {
    "1b1005b424b242c39d1d6b3c78aae64b": {
     "model_module": "@jupyter-widgets/base",
     "model_name": "LayoutModel",
     "state": {
      "_model_module": "@jupyter-widgets/base",
      "_model_module_version": "1.2.0",
      "_model_name": "LayoutModel",
      "_view_count": null,
      "_view_module": "@jupyter-widgets/base",
      "_view_module_version": "1.2.0",
      "_view_name": "LayoutView",
      "align_content": null,
      "align_items": null,
      "align_self": null,
      "border": null,
      "bottom": null,
      "display": null,
      "flex": null,
      "flex_flow": null,
      "grid_area": null,
      "grid_auto_columns": null,
      "grid_auto_flow": null,
      "grid_auto_rows": null,
      "grid_column": null,
      "grid_gap": null,
      "grid_row": null,
      "grid_template_areas": null,
      "grid_template_columns": null,
      "grid_template_rows": null,
      "height": null,
      "justify_content": null,
      "justify_items": null,
      "left": null,
      "margin": null,
      "max_height": null,
      "max_width": null,
      "min_height": null,
      "min_width": null,
      "object_fit": null,
      "object_position": null,
      "order": null,
      "overflow": null,
      "overflow_x": null,
      "overflow_y": null,
      "padding": null,
      "right": null,
      "top": null,
      "visibility": null,
      "width": null
     }
    },
    "1bf5270ae4fb4f40b3f93ebb2879111b": {
     "model_module": "@jupyter-widgets/controls",
     "model_name": "ProgressStyleModel",
     "state": {
      "_model_module": "@jupyter-widgets/controls",
      "_model_module_version": "1.5.0",
      "_model_name": "ProgressStyleModel",
      "_view_count": null,
      "_view_module": "@jupyter-widgets/base",
      "_view_module_version": "1.2.0",
      "_view_name": "StyleView",
      "bar_color": null,
      "description_width": "initial"
     }
    },
    "22ee4fac63cf4d2aac63eee159d6728d": {
     "model_module": "@jupyter-widgets/controls",
     "model_name": "ProgressStyleModel",
     "state": {
      "_model_module": "@jupyter-widgets/controls",
      "_model_module_version": "1.5.0",
      "_model_name": "ProgressStyleModel",
      "_view_count": null,
      "_view_module": "@jupyter-widgets/base",
      "_view_module_version": "1.2.0",
      "_view_name": "StyleView",
      "bar_color": null,
      "description_width": "initial"
     }
    },
    "2623f5fce38541ad9ddcaba7968e099f": {
     "model_module": "@jupyter-widgets/base",
     "model_name": "LayoutModel",
     "state": {
      "_model_module": "@jupyter-widgets/base",
      "_model_module_version": "1.2.0",
      "_model_name": "LayoutModel",
      "_view_count": null,
      "_view_module": "@jupyter-widgets/base",
      "_view_module_version": "1.2.0",
      "_view_name": "LayoutView",
      "align_content": null,
      "align_items": null,
      "align_self": null,
      "border": null,
      "bottom": null,
      "display": null,
      "flex": null,
      "flex_flow": null,
      "grid_area": null,
      "grid_auto_columns": null,
      "grid_auto_flow": null,
      "grid_auto_rows": null,
      "grid_column": null,
      "grid_gap": null,
      "grid_row": null,
      "grid_template_areas": null,
      "grid_template_columns": null,
      "grid_template_rows": null,
      "height": null,
      "justify_content": null,
      "justify_items": null,
      "left": null,
      "margin": null,
      "max_height": null,
      "max_width": null,
      "min_height": null,
      "min_width": null,
      "object_fit": null,
      "object_position": null,
      "order": null,
      "overflow": null,
      "overflow_x": null,
      "overflow_y": null,
      "padding": null,
      "right": null,
      "top": null,
      "visibility": null,
      "width": null
     }
    },
    "269c008d29074334af97282ed237265c": {
     "model_module": "@jupyter-widgets/controls",
     "model_name": "HBoxModel",
     "state": {
      "_dom_classes": [],
      "_model_module": "@jupyter-widgets/controls",
      "_model_module_version": "1.5.0",
      "_model_name": "HBoxModel",
      "_view_count": null,
      "_view_module": "@jupyter-widgets/controls",
      "_view_module_version": "1.5.0",
      "_view_name": "HBoxView",
      "box_style": "",
      "children": [
       "IPY_MODEL_54fdf0d650ba47e9914ca86ee4c79258",
       "IPY_MODEL_41168be670d14ae6b09c145f92f5bff5"
      ],
      "layout": "IPY_MODEL_34144950c5ac409cad338b192d7333be"
     }
    },
    "274dbaabbe1b492e8c28a79060a9cc98": {
     "model_module": "@jupyter-widgets/base",
     "model_name": "LayoutModel",
     "state": {
      "_model_module": "@jupyter-widgets/base",
      "_model_module_version": "1.2.0",
      "_model_name": "LayoutModel",
      "_view_count": null,
      "_view_module": "@jupyter-widgets/base",
      "_view_module_version": "1.2.0",
      "_view_name": "LayoutView",
      "align_content": null,
      "align_items": null,
      "align_self": null,
      "border": null,
      "bottom": null,
      "display": null,
      "flex": null,
      "flex_flow": null,
      "grid_area": null,
      "grid_auto_columns": null,
      "grid_auto_flow": null,
      "grid_auto_rows": null,
      "grid_column": null,
      "grid_gap": null,
      "grid_row": null,
      "grid_template_areas": null,
      "grid_template_columns": null,
      "grid_template_rows": null,
      "height": null,
      "justify_content": null,
      "justify_items": null,
      "left": null,
      "margin": null,
      "max_height": null,
      "max_width": null,
      "min_height": null,
      "min_width": null,
      "object_fit": null,
      "object_position": null,
      "order": null,
      "overflow": null,
      "overflow_x": null,
      "overflow_y": null,
      "padding": null,
      "right": null,
      "top": null,
      "visibility": null,
      "width": null
     }
    },
    "2e802d9c77b442e4b824ad91403ea5f3": {
     "model_module": "@jupyter-widgets/controls",
     "model_name": "ProgressStyleModel",
     "state": {
      "_model_module": "@jupyter-widgets/controls",
      "_model_module_version": "1.5.0",
      "_model_name": "ProgressStyleModel",
      "_view_count": null,
      "_view_module": "@jupyter-widgets/base",
      "_view_module_version": "1.2.0",
      "_view_name": "StyleView",
      "bar_color": null,
      "description_width": "initial"
     }
    },
    "34144950c5ac409cad338b192d7333be": {
     "model_module": "@jupyter-widgets/base",
     "model_name": "LayoutModel",
     "state": {
      "_model_module": "@jupyter-widgets/base",
      "_model_module_version": "1.2.0",
      "_model_name": "LayoutModel",
      "_view_count": null,
      "_view_module": "@jupyter-widgets/base",
      "_view_module_version": "1.2.0",
      "_view_name": "LayoutView",
      "align_content": null,
      "align_items": null,
      "align_self": null,
      "border": null,
      "bottom": null,
      "display": null,
      "flex": null,
      "flex_flow": null,
      "grid_area": null,
      "grid_auto_columns": null,
      "grid_auto_flow": null,
      "grid_auto_rows": null,
      "grid_column": null,
      "grid_gap": null,
      "grid_row": null,
      "grid_template_areas": null,
      "grid_template_columns": null,
      "grid_template_rows": null,
      "height": null,
      "justify_content": null,
      "justify_items": null,
      "left": null,
      "margin": null,
      "max_height": null,
      "max_width": null,
      "min_height": null,
      "min_width": null,
      "object_fit": null,
      "object_position": null,
      "order": null,
      "overflow": null,
      "overflow_x": null,
      "overflow_y": null,
      "padding": null,
      "right": null,
      "top": null,
      "visibility": null,
      "width": null
     }
    },
    "353b2a76f9244d99927b78e67fa87afe": {
     "model_module": "@jupyter-widgets/controls",
     "model_name": "HTMLModel",
     "state": {
      "_dom_classes": [],
      "_model_module": "@jupyter-widgets/controls",
      "_model_module_version": "1.5.0",
      "_model_name": "HTMLModel",
      "_view_count": null,
      "_view_module": "@jupyter-widgets/controls",
      "_view_module_version": "1.5.0",
      "_view_name": "HTMLView",
      "description": "",
      "description_tooltip": null,
      "layout": "IPY_MODEL_1b1005b424b242c39d1d6b3c78aae64b",
      "placeholder": "​",
      "style": "IPY_MODEL_90c954d1cd834879aec3070e26b73799",
      "value": " 4423680/? [00:01&lt;00:00, 3260446.49it/s]"
     }
    },
    "41168be670d14ae6b09c145f92f5bff5": {
     "model_module": "@jupyter-widgets/controls",
     "model_name": "HTMLModel",
     "state": {
      "_dom_classes": [],
      "_model_module": "@jupyter-widgets/controls",
      "_model_module_version": "1.5.0",
      "_model_name": "HTMLModel",
      "_view_count": null,
      "_view_module": "@jupyter-widgets/controls",
      "_view_module_version": "1.5.0",
      "_view_name": "HTMLView",
      "description": "",
      "description_tooltip": null,
      "layout": "IPY_MODEL_48eca7339cf9466faea8c703e04c2e5a",
      "placeholder": "​",
      "style": "IPY_MODEL_7f216b6ac6b646d1b3e83d695b101115",
      "value": " 8192/? [00:00&lt;00:00, 19853.11it/s]"
     }
    },
    "44cb5704d41d49d7a26afafc74c3ab01": {
     "model_module": "@jupyter-widgets/base",
     "model_name": "LayoutModel",
     "state": {
      "_model_module": "@jupyter-widgets/base",
      "_model_module_version": "1.2.0",
      "_model_name": "LayoutModel",
      "_view_count": null,
      "_view_module": "@jupyter-widgets/base",
      "_view_module_version": "1.2.0",
      "_view_name": "LayoutView",
      "align_content": null,
      "align_items": null,
      "align_self": null,
      "border": null,
      "bottom": null,
      "display": null,
      "flex": null,
      "flex_flow": null,
      "grid_area": null,
      "grid_auto_columns": null,
      "grid_auto_flow": null,
      "grid_auto_rows": null,
      "grid_column": null,
      "grid_gap": null,
      "grid_row": null,
      "grid_template_areas": null,
      "grid_template_columns": null,
      "grid_template_rows": null,
      "height": null,
      "justify_content": null,
      "justify_items": null,
      "left": null,
      "margin": null,
      "max_height": null,
      "max_width": null,
      "min_height": null,
      "min_width": null,
      "object_fit": null,
      "object_position": null,
      "order": null,
      "overflow": null,
      "overflow_x": null,
      "overflow_y": null,
      "padding": null,
      "right": null,
      "top": null,
      "visibility": null,
      "width": null
     }
    },
    "48eca7339cf9466faea8c703e04c2e5a": {
     "model_module": "@jupyter-widgets/base",
     "model_name": "LayoutModel",
     "state": {
      "_model_module": "@jupyter-widgets/base",
      "_model_module_version": "1.2.0",
      "_model_name": "LayoutModel",
      "_view_count": null,
      "_view_module": "@jupyter-widgets/base",
      "_view_module_version": "1.2.0",
      "_view_name": "LayoutView",
      "align_content": null,
      "align_items": null,
      "align_self": null,
      "border": null,
      "bottom": null,
      "display": null,
      "flex": null,
      "flex_flow": null,
      "grid_area": null,
      "grid_auto_columns": null,
      "grid_auto_flow": null,
      "grid_auto_rows": null,
      "grid_column": null,
      "grid_gap": null,
      "grid_row": null,
      "grid_template_areas": null,
      "grid_template_columns": null,
      "grid_template_rows": null,
      "height": null,
      "justify_content": null,
      "justify_items": null,
      "left": null,
      "margin": null,
      "max_height": null,
      "max_width": null,
      "min_height": null,
      "min_width": null,
      "object_fit": null,
      "object_position": null,
      "order": null,
      "overflow": null,
      "overflow_x": null,
      "overflow_y": null,
      "padding": null,
      "right": null,
      "top": null,
      "visibility": null,
      "width": null
     }
    },
    "50a5048e87374ef182ddc7afe596e310": {
     "model_module": "@jupyter-widgets/controls",
     "model_name": "HTMLModel",
     "state": {
      "_dom_classes": [],
      "_model_module": "@jupyter-widgets/controls",
      "_model_module_version": "1.5.0",
      "_model_name": "HTMLModel",
      "_view_count": null,
      "_view_module": "@jupyter-widgets/controls",
      "_view_module_version": "1.5.0",
      "_view_name": "HTMLView",
      "description": "",
      "description_tooltip": null,
      "layout": "IPY_MODEL_ec95d4c2e5f144d984e0013be2b3e644",
      "placeholder": "​",
      "style": "IPY_MODEL_b288fb6dad2b4b9b9a49234f33c76ec9",
      "value": " 26427392/? [00:20&lt;00:00, 90123013.83it/s]"
     }
    },
    "54fdf0d650ba47e9914ca86ee4c79258": {
     "model_module": "@jupyter-widgets/controls",
     "model_name": "FloatProgressModel",
     "state": {
      "_dom_classes": [],
      "_model_module": "@jupyter-widgets/controls",
      "_model_module_version": "1.5.0",
      "_model_name": "FloatProgressModel",
      "_view_count": null,
      "_view_module": "@jupyter-widgets/controls",
      "_view_module_version": "1.5.0",
      "_view_name": "ProgressView",
      "bar_style": "success",
      "description": "",
      "description_tooltip": null,
      "layout": "IPY_MODEL_c43399cf5cd944148a2e57fdfae5b76f",
      "max": 1,
      "min": 0,
      "orientation": "horizontal",
      "style": "IPY_MODEL_eef1de59c90c4531a9a0735e11949c9d",
      "value": 1
     }
    },
    "57dd1a36e8df4b1fa9d0a0595e0b8132": {
     "model_module": "@jupyter-widgets/base",
     "model_name": "LayoutModel",
     "state": {
      "_model_module": "@jupyter-widgets/base",
      "_model_module_version": "1.2.0",
      "_model_name": "LayoutModel",
      "_view_count": null,
      "_view_module": "@jupyter-widgets/base",
      "_view_module_version": "1.2.0",
      "_view_name": "LayoutView",
      "align_content": null,
      "align_items": null,
      "align_self": null,
      "border": null,
      "bottom": null,
      "display": null,
      "flex": null,
      "flex_flow": null,
      "grid_area": null,
      "grid_auto_columns": null,
      "grid_auto_flow": null,
      "grid_auto_rows": null,
      "grid_column": null,
      "grid_gap": null,
      "grid_row": null,
      "grid_template_areas": null,
      "grid_template_columns": null,
      "grid_template_rows": null,
      "height": null,
      "justify_content": null,
      "justify_items": null,
      "left": null,
      "margin": null,
      "max_height": null,
      "max_width": null,
      "min_height": null,
      "min_width": null,
      "object_fit": null,
      "object_position": null,
      "order": null,
      "overflow": null,
      "overflow_x": null,
      "overflow_y": null,
      "padding": null,
      "right": null,
      "top": null,
      "visibility": null,
      "width": null
     }
    },
    "7f216b6ac6b646d1b3e83d695b101115": {
     "model_module": "@jupyter-widgets/controls",
     "model_name": "DescriptionStyleModel",
     "state": {
      "_model_module": "@jupyter-widgets/controls",
      "_model_module_version": "1.5.0",
      "_model_name": "DescriptionStyleModel",
      "_view_count": null,
      "_view_module": "@jupyter-widgets/base",
      "_view_module_version": "1.2.0",
      "_view_name": "StyleView",
      "description_width": ""
     }
    },
    "84dd949fce3c48398fbe515fa12d336f": {
     "model_module": "@jupyter-widgets/base",
     "model_name": "LayoutModel",
     "state": {
      "_model_module": "@jupyter-widgets/base",
      "_model_module_version": "1.2.0",
      "_model_name": "LayoutModel",
      "_view_count": null,
      "_view_module": "@jupyter-widgets/base",
      "_view_module_version": "1.2.0",
      "_view_name": "LayoutView",
      "align_content": null,
      "align_items": null,
      "align_self": null,
      "border": null,
      "bottom": null,
      "display": null,
      "flex": null,
      "flex_flow": null,
      "grid_area": null,
      "grid_auto_columns": null,
      "grid_auto_flow": null,
      "grid_auto_rows": null,
      "grid_column": null,
      "grid_gap": null,
      "grid_row": null,
      "grid_template_areas": null,
      "grid_template_columns": null,
      "grid_template_rows": null,
      "height": null,
      "justify_content": null,
      "justify_items": null,
      "left": null,
      "margin": null,
      "max_height": null,
      "max_width": null,
      "min_height": null,
      "min_width": null,
      "object_fit": null,
      "object_position": null,
      "order": null,
      "overflow": null,
      "overflow_x": null,
      "overflow_y": null,
      "padding": null,
      "right": null,
      "top": null,
      "visibility": null,
      "width": null
     }
    },
    "90c954d1cd834879aec3070e26b73799": {
     "model_module": "@jupyter-widgets/controls",
     "model_name": "DescriptionStyleModel",
     "state": {
      "_model_module": "@jupyter-widgets/controls",
      "_model_module_version": "1.5.0",
      "_model_name": "DescriptionStyleModel",
      "_view_count": null,
      "_view_module": "@jupyter-widgets/base",
      "_view_module_version": "1.2.0",
      "_view_name": "StyleView",
      "description_width": ""
     }
    },
    "939571a6a4d54451aed38b7860fddebd": {
     "model_module": "@jupyter-widgets/controls",
     "model_name": "DescriptionStyleModel",
     "state": {
      "_model_module": "@jupyter-widgets/controls",
      "_model_module_version": "1.5.0",
      "_model_name": "DescriptionStyleModel",
      "_view_count": null,
      "_view_module": "@jupyter-widgets/base",
      "_view_module_version": "1.2.0",
      "_view_name": "StyleView",
      "description_width": ""
     }
    },
    "99642c7f3547459e9f86816cfda64f44": {
     "model_module": "@jupyter-widgets/controls",
     "model_name": "HBoxModel",
     "state": {
      "_dom_classes": [],
      "_model_module": "@jupyter-widgets/controls",
      "_model_module_version": "1.5.0",
      "_model_name": "HBoxModel",
      "_view_count": null,
      "_view_module": "@jupyter-widgets/controls",
      "_view_module_version": "1.5.0",
      "_view_name": "HBoxView",
      "box_style": "",
      "children": [
       "IPY_MODEL_d2c35a7861f044f2b798dec6531fecd1",
       "IPY_MODEL_b779de6b31524686b4b829276aa25472"
      ],
      "layout": "IPY_MODEL_57dd1a36e8df4b1fa9d0a0595e0b8132"
     }
    },
    "9fd472ee46e54f6887cc9b2abbd1c5b3": {
     "model_module": "@jupyter-widgets/controls",
     "model_name": "HBoxModel",
     "state": {
      "_dom_classes": [],
      "_model_module": "@jupyter-widgets/controls",
      "_model_module_version": "1.5.0",
      "_model_name": "HBoxModel",
      "_view_count": null,
      "_view_module": "@jupyter-widgets/controls",
      "_view_module_version": "1.5.0",
      "_view_name": "HBoxView",
      "box_style": "",
      "children": [
       "IPY_MODEL_bb6f5dc8e6704b77bf976d4665937ba0",
       "IPY_MODEL_50a5048e87374ef182ddc7afe596e310"
      ],
      "layout": "IPY_MODEL_274dbaabbe1b492e8c28a79060a9cc98"
     }
    },
    "ad906014d419442b87cf22a7be168294": {
     "model_module": "@jupyter-widgets/controls",
     "model_name": "FloatProgressModel",
     "state": {
      "_dom_classes": [],
      "_model_module": "@jupyter-widgets/controls",
      "_model_module_version": "1.5.0",
      "_model_name": "FloatProgressModel",
      "_view_count": null,
      "_view_module": "@jupyter-widgets/controls",
      "_view_module_version": "1.5.0",
      "_view_name": "ProgressView",
      "bar_style": "success",
      "description": "",
      "description_tooltip": null,
      "layout": "IPY_MODEL_b51ab7eae80047ad971b4cd41417af1d",
      "max": 1,
      "min": 0,
      "orientation": "horizontal",
      "style": "IPY_MODEL_2e802d9c77b442e4b824ad91403ea5f3",
      "value": 1
     }
    },
    "b288fb6dad2b4b9b9a49234f33c76ec9": {
     "model_module": "@jupyter-widgets/controls",
     "model_name": "DescriptionStyleModel",
     "state": {
      "_model_module": "@jupyter-widgets/controls",
      "_model_module_version": "1.5.0",
      "_model_name": "DescriptionStyleModel",
      "_view_count": null,
      "_view_module": "@jupyter-widgets/base",
      "_view_module_version": "1.2.0",
      "_view_name": "StyleView",
      "description_width": ""
     }
    },
    "b51ab7eae80047ad971b4cd41417af1d": {
     "model_module": "@jupyter-widgets/base",
     "model_name": "LayoutModel",
     "state": {
      "_model_module": "@jupyter-widgets/base",
      "_model_module_version": "1.2.0",
      "_model_name": "LayoutModel",
      "_view_count": null,
      "_view_module": "@jupyter-widgets/base",
      "_view_module_version": "1.2.0",
      "_view_name": "LayoutView",
      "align_content": null,
      "align_items": null,
      "align_self": null,
      "border": null,
      "bottom": null,
      "display": null,
      "flex": null,
      "flex_flow": null,
      "grid_area": null,
      "grid_auto_columns": null,
      "grid_auto_flow": null,
      "grid_auto_rows": null,
      "grid_column": null,
      "grid_gap": null,
      "grid_row": null,
      "grid_template_areas": null,
      "grid_template_columns": null,
      "grid_template_rows": null,
      "height": null,
      "justify_content": null,
      "justify_items": null,
      "left": null,
      "margin": null,
      "max_height": null,
      "max_width": null,
      "min_height": null,
      "min_width": null,
      "object_fit": null,
      "object_position": null,
      "order": null,
      "overflow": null,
      "overflow_x": null,
      "overflow_y": null,
      "padding": null,
      "right": null,
      "top": null,
      "visibility": null,
      "width": null
     }
    },
    "b779de6b31524686b4b829276aa25472": {
     "model_module": "@jupyter-widgets/controls",
     "model_name": "HTMLModel",
     "state": {
      "_dom_classes": [],
      "_model_module": "@jupyter-widgets/controls",
      "_model_module_version": "1.5.0",
      "_model_name": "HTMLModel",
      "_view_count": null,
      "_view_module": "@jupyter-widgets/controls",
      "_view_module_version": "1.5.0",
      "_view_name": "HTMLView",
      "description": "",
      "description_tooltip": null,
      "layout": "IPY_MODEL_2623f5fce38541ad9ddcaba7968e099f",
      "placeholder": "​",
      "style": "IPY_MODEL_939571a6a4d54451aed38b7860fddebd",
      "value": " 32768/? [00:00&lt;00:00, 299688.52it/s]"
     }
    },
    "bb6f5dc8e6704b77bf976d4665937ba0": {
     "model_module": "@jupyter-widgets/controls",
     "model_name": "FloatProgressModel",
     "state": {
      "_dom_classes": [],
      "_model_module": "@jupyter-widgets/controls",
      "_model_module_version": "1.5.0",
      "_model_name": "FloatProgressModel",
      "_view_count": null,
      "_view_module": "@jupyter-widgets/controls",
      "_view_module_version": "1.5.0",
      "_view_name": "ProgressView",
      "bar_style": "info",
      "description": "",
      "description_tooltip": null,
      "layout": "IPY_MODEL_cb0adbe1054640ee9350bb62868ab9ae",
      "max": 1,
      "min": 0,
      "orientation": "horizontal",
      "style": "IPY_MODEL_1bf5270ae4fb4f40b3f93ebb2879111b",
      "value": 1
     }
    },
    "c43399cf5cd944148a2e57fdfae5b76f": {
     "model_module": "@jupyter-widgets/base",
     "model_name": "LayoutModel",
     "state": {
      "_model_module": "@jupyter-widgets/base",
      "_model_module_version": "1.2.0",
      "_model_name": "LayoutModel",
      "_view_count": null,
      "_view_module": "@jupyter-widgets/base",
      "_view_module_version": "1.2.0",
      "_view_name": "LayoutView",
      "align_content": null,
      "align_items": null,
      "align_self": null,
      "border": null,
      "bottom": null,
      "display": null,
      "flex": null,
      "flex_flow": null,
      "grid_area": null,
      "grid_auto_columns": null,
      "grid_auto_flow": null,
      "grid_auto_rows": null,
      "grid_column": null,
      "grid_gap": null,
      "grid_row": null,
      "grid_template_areas": null,
      "grid_template_columns": null,
      "grid_template_rows": null,
      "height": null,
      "justify_content": null,
      "justify_items": null,
      "left": null,
      "margin": null,
      "max_height": null,
      "max_width": null,
      "min_height": null,
      "min_width": null,
      "object_fit": null,
      "object_position": null,
      "order": null,
      "overflow": null,
      "overflow_x": null,
      "overflow_y": null,
      "padding": null,
      "right": null,
      "top": null,
      "visibility": null,
      "width": null
     }
    },
    "cb0adbe1054640ee9350bb62868ab9ae": {
     "model_module": "@jupyter-widgets/base",
     "model_name": "LayoutModel",
     "state": {
      "_model_module": "@jupyter-widgets/base",
      "_model_module_version": "1.2.0",
      "_model_name": "LayoutModel",
      "_view_count": null,
      "_view_module": "@jupyter-widgets/base",
      "_view_module_version": "1.2.0",
      "_view_name": "LayoutView",
      "align_content": null,
      "align_items": null,
      "align_self": null,
      "border": null,
      "bottom": null,
      "display": null,
      "flex": null,
      "flex_flow": null,
      "grid_area": null,
      "grid_auto_columns": null,
      "grid_auto_flow": null,
      "grid_auto_rows": null,
      "grid_column": null,
      "grid_gap": null,
      "grid_row": null,
      "grid_template_areas": null,
      "grid_template_columns": null,
      "grid_template_rows": null,
      "height": null,
      "justify_content": null,
      "justify_items": null,
      "left": null,
      "margin": null,
      "max_height": null,
      "max_width": null,
      "min_height": null,
      "min_width": null,
      "object_fit": null,
      "object_position": null,
      "order": null,
      "overflow": null,
      "overflow_x": null,
      "overflow_y": null,
      "padding": null,
      "right": null,
      "top": null,
      "visibility": null,
      "width": null
     }
    },
    "d2c35a7861f044f2b798dec6531fecd1": {
     "model_module": "@jupyter-widgets/controls",
     "model_name": "FloatProgressModel",
     "state": {
      "_dom_classes": [],
      "_model_module": "@jupyter-widgets/controls",
      "_model_module_version": "1.5.0",
      "_model_name": "FloatProgressModel",
      "_view_count": null,
      "_view_module": "@jupyter-widgets/controls",
      "_view_module_version": "1.5.0",
      "_view_name": "ProgressView",
      "bar_style": "success",
      "description": "",
      "description_tooltip": null,
      "layout": "IPY_MODEL_44cb5704d41d49d7a26afafc74c3ab01",
      "max": 1,
      "min": 0,
      "orientation": "horizontal",
      "style": "IPY_MODEL_22ee4fac63cf4d2aac63eee159d6728d",
      "value": 1
     }
    },
    "ec95d4c2e5f144d984e0013be2b3e644": {
     "model_module": "@jupyter-widgets/base",
     "model_name": "LayoutModel",
     "state": {
      "_model_module": "@jupyter-widgets/base",
      "_model_module_version": "1.2.0",
      "_model_name": "LayoutModel",
      "_view_count": null,
      "_view_module": "@jupyter-widgets/base",
      "_view_module_version": "1.2.0",
      "_view_name": "LayoutView",
      "align_content": null,
      "align_items": null,
      "align_self": null,
      "border": null,
      "bottom": null,
      "display": null,
      "flex": null,
      "flex_flow": null,
      "grid_area": null,
      "grid_auto_columns": null,
      "grid_auto_flow": null,
      "grid_auto_rows": null,
      "grid_column": null,
      "grid_gap": null,
      "grid_row": null,
      "grid_template_areas": null,
      "grid_template_columns": null,
      "grid_template_rows": null,
      "height": null,
      "justify_content": null,
      "justify_items": null,
      "left": null,
      "margin": null,
      "max_height": null,
      "max_width": null,
      "min_height": null,
      "min_width": null,
      "object_fit": null,
      "object_position": null,
      "order": null,
      "overflow": null,
      "overflow_x": null,
      "overflow_y": null,
      "padding": null,
      "right": null,
      "top": null,
      "visibility": null,
      "width": null
     }
    },
    "eef1de59c90c4531a9a0735e11949c9d": {
     "model_module": "@jupyter-widgets/controls",
     "model_name": "ProgressStyleModel",
     "state": {
      "_model_module": "@jupyter-widgets/controls",
      "_model_module_version": "1.5.0",
      "_model_name": "ProgressStyleModel",
      "_view_count": null,
      "_view_module": "@jupyter-widgets/base",
      "_view_module_version": "1.2.0",
      "_view_name": "StyleView",
      "bar_color": null,
      "description_width": "initial"
     }
    },
    "f298a95fef8e42eaafb8ae513cd78387": {
     "model_module": "@jupyter-widgets/controls",
     "model_name": "HBoxModel",
     "state": {
      "_dom_classes": [],
      "_model_module": "@jupyter-widgets/controls",
      "_model_module_version": "1.5.0",
      "_model_name": "HBoxModel",
      "_view_count": null,
      "_view_module": "@jupyter-widgets/controls",
      "_view_module_version": "1.5.0",
      "_view_name": "HBoxView",
      "box_style": "",
      "children": [
       "IPY_MODEL_ad906014d419442b87cf22a7be168294",
       "IPY_MODEL_353b2a76f9244d99927b78e67fa87afe"
      ],
      "layout": "IPY_MODEL_84dd949fce3c48398fbe515fa12d336f"
     }
    }
   }
  }
 },
 "nbformat": 4,
 "nbformat_minor": 4
}
